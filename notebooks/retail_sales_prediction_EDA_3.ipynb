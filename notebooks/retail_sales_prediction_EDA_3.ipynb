{
 "cells": [
  {
   "cell_type": "code",
   "execution_count": 2,
   "metadata": {},
   "outputs": [
    {
     "name": "stderr",
     "output_type": "stream",
     "text": [
      "UsageError: Line magic function `%%javascript` not found.\n"
     ]
    }
   ],
   "source": [
    "import pandas as pd\n",
    "import plotly.express as px\n",
    "import os\n",
    "import glob\n",
    "\n",
    "%%javascript\n",
    "IPython.OutputArea.auto_scroll_threshold = 9999;"
   ]
  },
  {
   "cell_type": "code",
   "execution_count": 6,
   "metadata": {},
   "outputs": [],
   "source": [
    "# input data directory\n",
    "# I have downlaoded the data from Kaggle Competition and unzip using 7z tool in ubuntu command terminal\n",
    "# TODO: Use the Kaggle API to access the data\n",
    "data_dir = '/home/ibbu/PycharmProjects/retail_sales_prediction/data/'"
   ]
  },
  {
   "cell_type": "code",
   "execution_count": 7,
   "metadata": {},
   "outputs": [],
   "source": [
    "class readDataStore():\n",
    "    \"\"\"\n",
    "    This module is to read the data from data store.\n",
    "    \n",
    "    In our case, our date store is local and is in .csv format\n",
    "    \"\"\"\n",
    "    \n",
    "    def __init__(self, data_dir):\n",
    "        \n",
    "        self.data_dir = data_dir\n",
    "    \n",
    "    def read_stores(self, file_name):\n",
    "        \n",
    "        df = pd.read_csv(self.data_dir + file_name)\n",
    "        \n",
    "        return df\n",
    "    \n",
    "    def read_items(self, file_name):\n",
    "        \n",
    "        df = pd.read_csv(self.data_dir + file_name)\n",
    "        \n",
    "        return df\n",
    "    \n",
    "    def read_transactions(self, file_name):\n",
    "        \n",
    "        df = pd.read_csv(self.data_dir + file_name)\n",
    "        \n",
    "        return df\n",
    "    \n",
    "    def read_oil(self, file_name):\n",
    "        \n",
    "        df = pd.read_csv(self.data_dir + file_name)\n",
    "        \n",
    "        return df\n",
    "    \n",
    "    def read_holidays(self, file_name):\n",
    "        \n",
    "        df = pd.read_csv(self.data_dir + file_name)\n",
    "        \n",
    "        return df\n",
    "    \n",
    "    def read_train(self, file_name):\n",
    "        \n",
    "        df = pd.read_csv(self.data_dir + file_name)\n",
    "        \n",
    "        return df\n",
    "    \n",
    "    def read_test(self, file_name):\n",
    "        \n",
    "        df = pd.read_csv(self.data_dir + file_name)\n",
    "        \n",
    "        return df\n",
    "    \n",
    "    def read_train(self, file_name):\n",
    "        \n",
    "        df = pd.read_csv(self.data_dir + file_name)\n",
    "        \n",
    "        return df\n",
    "    \n",
    "        \n",
    "        \n",
    "\n",
    "readDataStore = readDataStore(data_dir)"
   ]
  },
  {
   "cell_type": "code",
   "execution_count": null,
   "metadata": {},
   "outputs": [],
   "source": [
    "df_train = readDataStore.read_train('train.csv')"
   ]
  },
  {
   "cell_type": "code",
   "execution_count": null,
   "metadata": {},
   "outputs": [],
   "source": []
  }
 ],
 "metadata": {
  "kernelspec": {
   "display_name": "Python 3",
   "language": "python",
   "name": "python3"
  },
  "language_info": {
   "codemirror_mode": {
    "name": "ipython",
    "version": 3
   },
   "file_extension": ".py",
   "mimetype": "text/x-python",
   "name": "python",
   "nbconvert_exporter": "python",
   "pygments_lexer": "ipython3",
   "version": "3.7.3"
  },
  "toc": {
   "base_numbering": 1,
   "nav_menu": {},
   "number_sections": true,
   "sideBar": true,
   "skip_h1_title": false,
   "title_cell": "Table of Contents",
   "title_sidebar": "Contents",
   "toc_cell": false,
   "toc_position": {},
   "toc_section_display": true,
   "toc_window_display": false
  }
 },
 "nbformat": 4,
 "nbformat_minor": 2
}
