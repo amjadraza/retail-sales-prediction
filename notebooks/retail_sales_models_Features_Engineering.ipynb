{
 "cells": [
  {
   "cell_type": "markdown",
   "metadata": {},
   "source": [
    "# Feature Engineering--\n",
    "\n",
    "The winning solution uses combination of four models and lgbm is one of those model. I will start by looking at this solution. \n",
    "\n",
    "[Winning Solution](https://www.kaggle.com/c/favorita-grocery-sales-forecasting/discussion/47582#latest-605356)\n",
    "\n",
    "\"\"\"\n",
    "This is an upgraded version of Ceshine's LGBM starter script, simply adding more\n",
    "average features and weekly average features on it.\n",
    "\"\"\""
   ]
  },
  {
   "cell_type": "code",
   "execution_count": 230,
   "metadata": {},
   "outputs": [],
   "source": [
    "from datetime import date, timedelta\n",
    "import gc\n",
    "import pandas as pd\n",
    "import numpy as np\n",
    "from sklearn.metrics import mean_squared_error\n",
    "from sklearn.preprocessing import LabelEncoder\n",
    "import plotly.express as px\n",
    "import lightgbm as lgb\n",
    "import matplotlib.pyplot as plt"
   ]
  },
  {
   "cell_type": "code",
   "execution_count": 2,
   "metadata": {},
   "outputs": [],
   "source": [
    "data_dir = "Location of Data""
   ]
  },
  {
   "cell_type": "code",
   "execution_count": 10,
   "metadata": {},
   "outputs": [],
   "source": [
    "class readDataStore():\n",
    "    \"\"\"\n",
    "    This module is to read the data from data store.\n",
    "    \n",
    "    In our case, our date store is local and is in .csv format\n",
    "    \"\"\"\n",
    "    \n",
    "    def __init__(self, data_dir):\n",
    "        \n",
    "        self.data_dir = data_dir\n",
    "    \n",
    "    def read_stores(self, file_name):\n",
    "        \n",
    "        df = pd.read_csv(self.data_dir + file_name)\n",
    "        \n",
    "        return df\n",
    "    \n",
    "    def read_items(self, file_name):\n",
    "        \n",
    "        df = pd.read_csv(self.data_dir + file_name)\n",
    "        \n",
    "        return df\n",
    "    \n",
    "    def read_transactions(self, file_name):\n",
    "        \n",
    "        df = pd.read_csv(self.data_dir + file_name)\n",
    "        \n",
    "        return df\n",
    "    \n",
    "    def read_oil(self, file_name):\n",
    "        \n",
    "        df = pd.read_csv(self.data_dir + file_name)\n",
    "        \n",
    "        return df\n",
    "    \n",
    "    def read_holidays(self, file_name):\n",
    "        \n",
    "        df = pd.read_csv(self.data_dir + file_name)\n",
    "        \n",
    "        return df\n",
    "    \n",
    "    def read_train(self, file_name):\n",
    "        \n",
    "        df = pd.read_csv(self.data_dir + file_name)\n",
    "        \n",
    "        return df\n",
    "    \n",
    "    def read_test(self, file_name):\n",
    "        \n",
    "        df = pd.read_csv(self.data_dir + file_name)\n",
    "        \n",
    "        return df\n",
    "    \n",
    "    def read_train(self, file_name):\n",
    "        \n",
    "        df = pd.read_csv(self.data_dir + file_name)\n",
    "        \n",
    "        return df\n",
    "    \n",
    "        \n",
    "        \n",
    "\n",
    "readDataStore = readDataStore(data_dir)"
   ]
  },
  {
   "cell_type": "code",
   "execution_count": 49,
   "metadata": {},
   "outputs": [],
   "source": [
    "# Reading the training data\n",
    "df_train = pd.read_csv(data_dir+'train.csv', \n",
    "                       usecols=[1, 2, 3, 4, 5],\n",
    "                        dtype={'onpromotion': bool},\n",
    "                        converters={'unit_sales': lambda u: np.log1p(\n",
    "                            float(u)) if float(u) > 0 else 0},\n",
    "                        parse_dates=[\"date\"],\n",
    "                        skiprows=range(1, 66458909)  # 2016-01-01\n",
    "                    )\n"
   ]
  },
  {
   "cell_type": "code",
   "execution_count": 50,
   "metadata": {},
   "outputs": [],
   "source": [
    "df_test = pd.read_csv(data_dir + \"test.csv\", usecols=[0, 1, 2, 3, 4],\n",
    "                        dtype={'onpromotion': bool},\n",
    "                        parse_dates=[\"date\"]  # , date_parser=parser\n",
    "                    ).set_index(\n",
    "                        ['store_nbr', 'item_nbr', 'date']\n",
    "                    )"
   ]
  },
  {
   "cell_type": "code",
   "execution_count": 51,
   "metadata": {},
   "outputs": [],
   "source": [
    "# Read the items data frame\n",
    "df_items = readDataStore.read_items('items.csv').set_index(\"item_nbr\")\n",
    "\n",
    "# Read the stores data frame\n",
    "df_stores = readDataStore.read_items('stores.csv').set_index(\"store_nbr\")\n",
    "\n",
    "# Assiging the values to the labels\n",
    "le = LabelEncoder()\n",
    "df_items['family'] = le.fit_transform(df_items['family'].values)\n",
    "\n",
    "df_stores['city'] = le.fit_transform(df_stores['city'].values)\n",
    "df_stores['state'] = le.fit_transform(df_stores['state'].values)\n",
    "df_stores['type'] = le.fit_transform(df_stores['type'].values)\n",
    "\n",
    "items = df_items.copy()\n",
    "stores = df_stores.copy()"
   ]
  },
  {
   "cell_type": "code",
   "execution_count": 52,
   "metadata": {},
   "outputs": [],
   "source": [
    "# Extracting the training data for 2017 until 2017-08-14\n",
    "df_2017 = df_train.loc[df_train.date>=pd.datetime(2017,1,1)]\n",
    "\n",
    "# Delete the big training data\n",
    "# del df_train\n",
    "\n",
    "# On each store what items are on promotion on each day\n",
    "promo_2017_train = df_2017.set_index(\n",
    "    [\"store_nbr\", \"item_nbr\", \"date\"])[[\"onpromotion\"]].unstack(\n",
    "        level=-1).fillna(False)"
   ]
  },
  {
   "cell_type": "code",
   "execution_count": 190,
   "metadata": {},
   "outputs": [
    {
     "data": {
      "text/html": [
       "<div>\n",
       "<style scoped>\n",
       "    .dataframe tbody tr th:only-of-type {\n",
       "        vertical-align: middle;\n",
       "    }\n",
       "\n",
       "    .dataframe tbody tr th {\n",
       "        vertical-align: top;\n",
       "    }\n",
       "\n",
       "    .dataframe thead th {\n",
       "        text-align: right;\n",
       "    }\n",
       "</style>\n",
       "<table border=\"1\" class=\"dataframe\">\n",
       "  <thead>\n",
       "    <tr style=\"text-align: right;\">\n",
       "      <th></th>\n",
       "      <th>date</th>\n",
       "      <th>2017-01-01</th>\n",
       "      <th>2017-01-02</th>\n",
       "      <th>2017-01-03</th>\n",
       "      <th>2017-01-04</th>\n",
       "      <th>2017-01-05</th>\n",
       "      <th>2017-01-06</th>\n",
       "      <th>2017-01-07</th>\n",
       "      <th>2017-01-08</th>\n",
       "      <th>2017-01-09</th>\n",
       "      <th>2017-01-10</th>\n",
       "      <th>...</th>\n",
       "      <th>2017-08-06</th>\n",
       "      <th>2017-08-07</th>\n",
       "      <th>2017-08-08</th>\n",
       "      <th>2017-08-09</th>\n",
       "      <th>2017-08-10</th>\n",
       "      <th>2017-08-11</th>\n",
       "      <th>2017-08-12</th>\n",
       "      <th>2017-08-13</th>\n",
       "      <th>2017-08-14</th>\n",
       "      <th>2017-08-15</th>\n",
       "    </tr>\n",
       "    <tr>\n",
       "      <th>store_nbr</th>\n",
       "      <th>item_nbr</th>\n",
       "      <th></th>\n",
       "      <th></th>\n",
       "      <th></th>\n",
       "      <th></th>\n",
       "      <th></th>\n",
       "      <th></th>\n",
       "      <th></th>\n",
       "      <th></th>\n",
       "      <th></th>\n",
       "      <th></th>\n",
       "      <th></th>\n",
       "      <th></th>\n",
       "      <th></th>\n",
       "      <th></th>\n",
       "      <th></th>\n",
       "      <th></th>\n",
       "      <th></th>\n",
       "      <th></th>\n",
       "      <th></th>\n",
       "      <th></th>\n",
       "      <th></th>\n",
       "    </tr>\n",
       "  </thead>\n",
       "  <tbody>\n",
       "    <tr>\n",
       "      <td rowspan=\"5\" valign=\"top\">1</td>\n",
       "      <td>96995</td>\n",
       "      <td>False</td>\n",
       "      <td>False</td>\n",
       "      <td>False</td>\n",
       "      <td>False</td>\n",
       "      <td>False</td>\n",
       "      <td>False</td>\n",
       "      <td>False</td>\n",
       "      <td>False</td>\n",
       "      <td>False</td>\n",
       "      <td>False</td>\n",
       "      <td>...</td>\n",
       "      <td>False</td>\n",
       "      <td>False</td>\n",
       "      <td>False</td>\n",
       "      <td>False</td>\n",
       "      <td>False</td>\n",
       "      <td>False</td>\n",
       "      <td>False</td>\n",
       "      <td>False</td>\n",
       "      <td>False</td>\n",
       "      <td>False</td>\n",
       "    </tr>\n",
       "    <tr>\n",
       "      <td>99197</td>\n",
       "      <td>False</td>\n",
       "      <td>False</td>\n",
       "      <td>False</td>\n",
       "      <td>False</td>\n",
       "      <td>False</td>\n",
       "      <td>False</td>\n",
       "      <td>False</td>\n",
       "      <td>False</td>\n",
       "      <td>False</td>\n",
       "      <td>False</td>\n",
       "      <td>...</td>\n",
       "      <td>False</td>\n",
       "      <td>False</td>\n",
       "      <td>False</td>\n",
       "      <td>False</td>\n",
       "      <td>False</td>\n",
       "      <td>False</td>\n",
       "      <td>False</td>\n",
       "      <td>False</td>\n",
       "      <td>False</td>\n",
       "      <td>False</td>\n",
       "    </tr>\n",
       "    <tr>\n",
       "      <td>103520</td>\n",
       "      <td>False</td>\n",
       "      <td>False</td>\n",
       "      <td>False</td>\n",
       "      <td>False</td>\n",
       "      <td>False</td>\n",
       "      <td>False</td>\n",
       "      <td>False</td>\n",
       "      <td>False</td>\n",
       "      <td>False</td>\n",
       "      <td>False</td>\n",
       "      <td>...</td>\n",
       "      <td>False</td>\n",
       "      <td>False</td>\n",
       "      <td>False</td>\n",
       "      <td>False</td>\n",
       "      <td>False</td>\n",
       "      <td>False</td>\n",
       "      <td>False</td>\n",
       "      <td>False</td>\n",
       "      <td>False</td>\n",
       "      <td>False</td>\n",
       "    </tr>\n",
       "    <tr>\n",
       "      <td>103665</td>\n",
       "      <td>False</td>\n",
       "      <td>False</td>\n",
       "      <td>False</td>\n",
       "      <td>False</td>\n",
       "      <td>False</td>\n",
       "      <td>False</td>\n",
       "      <td>False</td>\n",
       "      <td>False</td>\n",
       "      <td>False</td>\n",
       "      <td>False</td>\n",
       "      <td>...</td>\n",
       "      <td>False</td>\n",
       "      <td>False</td>\n",
       "      <td>False</td>\n",
       "      <td>False</td>\n",
       "      <td>False</td>\n",
       "      <td>False</td>\n",
       "      <td>False</td>\n",
       "      <td>False</td>\n",
       "      <td>False</td>\n",
       "      <td>False</td>\n",
       "    </tr>\n",
       "    <tr>\n",
       "      <td>105574</td>\n",
       "      <td>False</td>\n",
       "      <td>False</td>\n",
       "      <td>True</td>\n",
       "      <td>False</td>\n",
       "      <td>False</td>\n",
       "      <td>True</td>\n",
       "      <td>False</td>\n",
       "      <td>False</td>\n",
       "      <td>False</td>\n",
       "      <td>False</td>\n",
       "      <td>...</td>\n",
       "      <td>False</td>\n",
       "      <td>False</td>\n",
       "      <td>False</td>\n",
       "      <td>False</td>\n",
       "      <td>False</td>\n",
       "      <td>False</td>\n",
       "      <td>False</td>\n",
       "      <td>False</td>\n",
       "      <td>False</td>\n",
       "      <td>False</td>\n",
       "    </tr>\n",
       "  </tbody>\n",
       "</table>\n",
       "<p>5 rows × 227 columns</p>\n",
       "</div>"
      ],
      "text/plain": [
       "date                2017-01-01  2017-01-02  2017-01-03  2017-01-04  \\\n",
       "store_nbr item_nbr                                                   \n",
       "1         96995          False       False       False       False   \n",
       "          99197          False       False       False       False   \n",
       "          103520         False       False       False       False   \n",
       "          103665         False       False       False       False   \n",
       "          105574         False       False        True       False   \n",
       "\n",
       "date                2017-01-05  2017-01-06  2017-01-07  2017-01-08  \\\n",
       "store_nbr item_nbr                                                   \n",
       "1         96995          False       False       False       False   \n",
       "          99197          False       False       False       False   \n",
       "          103520         False       False       False       False   \n",
       "          103665         False       False       False       False   \n",
       "          105574         False        True       False       False   \n",
       "\n",
       "date                2017-01-09  2017-01-10  ...  2017-08-06  2017-08-07  \\\n",
       "store_nbr item_nbr                          ...                           \n",
       "1         96995          False       False  ...       False       False   \n",
       "          99197          False       False  ...       False       False   \n",
       "          103520         False       False  ...       False       False   \n",
       "          103665         False       False  ...       False       False   \n",
       "          105574         False       False  ...       False       False   \n",
       "\n",
       "date                2017-08-08  2017-08-09  2017-08-10  2017-08-11  \\\n",
       "store_nbr item_nbr                                                   \n",
       "1         96995          False       False       False       False   \n",
       "          99197          False       False       False       False   \n",
       "          103520         False       False       False       False   \n",
       "          103665         False       False       False       False   \n",
       "          105574         False       False       False       False   \n",
       "\n",
       "date                2017-08-12  2017-08-13  2017-08-14  2017-08-15  \n",
       "store_nbr item_nbr                                                  \n",
       "1         96995          False       False       False       False  \n",
       "          99197          False       False       False       False  \n",
       "          103520         False       False       False       False  \n",
       "          103665         False       False       False       False  \n",
       "          105574         False       False       False       False  \n",
       "\n",
       "[5 rows x 227 columns]"
      ]
     },
     "execution_count": 190,
     "metadata": {},
     "output_type": "execute_result"
    }
   ],
   "source": [
    "promo_2017_train.head()"
   ]
  },
  {
   "cell_type": "markdown",
   "metadata": {},
   "source": [
    "Training data for 2017 consists of 23 billions records covering only 8.5 months. This problem becomes complex and computational expensive if we have to use more data   derived features."
   ]
  },
  {
   "cell_type": "code",
   "execution_count": 60,
   "metadata": {},
   "outputs": [
    {
     "data": {
      "text/html": [
       "<div>\n",
       "<style scoped>\n",
       "    .dataframe tbody tr th:only-of-type {\n",
       "        vertical-align: middle;\n",
       "    }\n",
       "\n",
       "    .dataframe tbody tr th {\n",
       "        vertical-align: top;\n",
       "    }\n",
       "\n",
       "    .dataframe thead tr th {\n",
       "        text-align: left;\n",
       "    }\n",
       "\n",
       "    .dataframe thead tr:last-of-type th {\n",
       "        text-align: right;\n",
       "    }\n",
       "</style>\n",
       "<table border=\"1\" class=\"dataframe\">\n",
       "  <thead>\n",
       "    <tr>\n",
       "      <th></th>\n",
       "      <th></th>\n",
       "      <th colspan=\"21\" halign=\"left\">onpromotion</th>\n",
       "    </tr>\n",
       "    <tr>\n",
       "      <th></th>\n",
       "      <th>date</th>\n",
       "      <th>2017-01-01</th>\n",
       "      <th>2017-01-02</th>\n",
       "      <th>2017-01-03</th>\n",
       "      <th>2017-01-04</th>\n",
       "      <th>2017-01-05</th>\n",
       "      <th>2017-01-06</th>\n",
       "      <th>2017-01-07</th>\n",
       "      <th>2017-01-08</th>\n",
       "      <th>2017-01-09</th>\n",
       "      <th>2017-01-10</th>\n",
       "      <th>...</th>\n",
       "      <th>2017-08-06</th>\n",
       "      <th>2017-08-07</th>\n",
       "      <th>2017-08-08</th>\n",
       "      <th>2017-08-09</th>\n",
       "      <th>2017-08-10</th>\n",
       "      <th>2017-08-11</th>\n",
       "      <th>2017-08-12</th>\n",
       "      <th>2017-08-13</th>\n",
       "      <th>2017-08-14</th>\n",
       "      <th>2017-08-15</th>\n",
       "    </tr>\n",
       "    <tr>\n",
       "      <th>store_nbr</th>\n",
       "      <th>item_nbr</th>\n",
       "      <th></th>\n",
       "      <th></th>\n",
       "      <th></th>\n",
       "      <th></th>\n",
       "      <th></th>\n",
       "      <th></th>\n",
       "      <th></th>\n",
       "      <th></th>\n",
       "      <th></th>\n",
       "      <th></th>\n",
       "      <th></th>\n",
       "      <th></th>\n",
       "      <th></th>\n",
       "      <th></th>\n",
       "      <th></th>\n",
       "      <th></th>\n",
       "      <th></th>\n",
       "      <th></th>\n",
       "      <th></th>\n",
       "      <th></th>\n",
       "      <th></th>\n",
       "    </tr>\n",
       "  </thead>\n",
       "  <tbody>\n",
       "    <tr>\n",
       "      <td rowspan=\"5\" valign=\"top\">1</td>\n",
       "      <td>96995</td>\n",
       "      <td>False</td>\n",
       "      <td>False</td>\n",
       "      <td>False</td>\n",
       "      <td>False</td>\n",
       "      <td>False</td>\n",
       "      <td>False</td>\n",
       "      <td>False</td>\n",
       "      <td>False</td>\n",
       "      <td>False</td>\n",
       "      <td>False</td>\n",
       "      <td>...</td>\n",
       "      <td>False</td>\n",
       "      <td>False</td>\n",
       "      <td>False</td>\n",
       "      <td>False</td>\n",
       "      <td>False</td>\n",
       "      <td>False</td>\n",
       "      <td>False</td>\n",
       "      <td>False</td>\n",
       "      <td>False</td>\n",
       "      <td>False</td>\n",
       "    </tr>\n",
       "    <tr>\n",
       "      <td>99197</td>\n",
       "      <td>False</td>\n",
       "      <td>False</td>\n",
       "      <td>False</td>\n",
       "      <td>False</td>\n",
       "      <td>False</td>\n",
       "      <td>False</td>\n",
       "      <td>False</td>\n",
       "      <td>False</td>\n",
       "      <td>False</td>\n",
       "      <td>False</td>\n",
       "      <td>...</td>\n",
       "      <td>False</td>\n",
       "      <td>False</td>\n",
       "      <td>False</td>\n",
       "      <td>False</td>\n",
       "      <td>False</td>\n",
       "      <td>False</td>\n",
       "      <td>False</td>\n",
       "      <td>False</td>\n",
       "      <td>False</td>\n",
       "      <td>False</td>\n",
       "    </tr>\n",
       "    <tr>\n",
       "      <td>103520</td>\n",
       "      <td>False</td>\n",
       "      <td>False</td>\n",
       "      <td>False</td>\n",
       "      <td>False</td>\n",
       "      <td>False</td>\n",
       "      <td>False</td>\n",
       "      <td>False</td>\n",
       "      <td>False</td>\n",
       "      <td>False</td>\n",
       "      <td>False</td>\n",
       "      <td>...</td>\n",
       "      <td>False</td>\n",
       "      <td>False</td>\n",
       "      <td>False</td>\n",
       "      <td>False</td>\n",
       "      <td>False</td>\n",
       "      <td>False</td>\n",
       "      <td>False</td>\n",
       "      <td>False</td>\n",
       "      <td>False</td>\n",
       "      <td>False</td>\n",
       "    </tr>\n",
       "    <tr>\n",
       "      <td>103665</td>\n",
       "      <td>False</td>\n",
       "      <td>False</td>\n",
       "      <td>False</td>\n",
       "      <td>False</td>\n",
       "      <td>False</td>\n",
       "      <td>False</td>\n",
       "      <td>False</td>\n",
       "      <td>False</td>\n",
       "      <td>False</td>\n",
       "      <td>False</td>\n",
       "      <td>...</td>\n",
       "      <td>False</td>\n",
       "      <td>False</td>\n",
       "      <td>False</td>\n",
       "      <td>False</td>\n",
       "      <td>False</td>\n",
       "      <td>False</td>\n",
       "      <td>False</td>\n",
       "      <td>False</td>\n",
       "      <td>False</td>\n",
       "      <td>False</td>\n",
       "    </tr>\n",
       "    <tr>\n",
       "      <td>105574</td>\n",
       "      <td>False</td>\n",
       "      <td>False</td>\n",
       "      <td>True</td>\n",
       "      <td>False</td>\n",
       "      <td>False</td>\n",
       "      <td>True</td>\n",
       "      <td>False</td>\n",
       "      <td>False</td>\n",
       "      <td>False</td>\n",
       "      <td>False</td>\n",
       "      <td>...</td>\n",
       "      <td>False</td>\n",
       "      <td>False</td>\n",
       "      <td>False</td>\n",
       "      <td>False</td>\n",
       "      <td>False</td>\n",
       "      <td>False</td>\n",
       "      <td>False</td>\n",
       "      <td>False</td>\n",
       "      <td>False</td>\n",
       "      <td>False</td>\n",
       "    </tr>\n",
       "  </tbody>\n",
       "</table>\n",
       "<p>5 rows × 227 columns</p>\n",
       "</div>"
      ],
      "text/plain": [
       "                   onpromotion                                              \\\n",
       "date                2017-01-01 2017-01-02 2017-01-03 2017-01-04 2017-01-05   \n",
       "store_nbr item_nbr                                                           \n",
       "1         96995          False      False      False      False      False   \n",
       "          99197          False      False      False      False      False   \n",
       "          103520         False      False      False      False      False   \n",
       "          103665         False      False      False      False      False   \n",
       "          105574         False      False       True      False      False   \n",
       "\n",
       "                                                                           \\\n",
       "date               2017-01-06 2017-01-07 2017-01-08 2017-01-09 2017-01-10   \n",
       "store_nbr item_nbr                                                          \n",
       "1         96995         False      False      False      False      False   \n",
       "          99197         False      False      False      False      False   \n",
       "          103520        False      False      False      False      False   \n",
       "          103665        False      False      False      False      False   \n",
       "          105574         True      False      False      False      False   \n",
       "\n",
       "                    ...                                              \\\n",
       "date                ... 2017-08-06 2017-08-07 2017-08-08 2017-08-09   \n",
       "store_nbr item_nbr  ...                                               \n",
       "1         96995     ...      False      False      False      False   \n",
       "          99197     ...      False      False      False      False   \n",
       "          103520    ...      False      False      False      False   \n",
       "          103665    ...      False      False      False      False   \n",
       "          105574    ...      False      False      False      False   \n",
       "\n",
       "                                                                           \\\n",
       "date               2017-08-10 2017-08-11 2017-08-12 2017-08-13 2017-08-14   \n",
       "store_nbr item_nbr                                                          \n",
       "1         96995         False      False      False      False      False   \n",
       "          99197         False      False      False      False      False   \n",
       "          103520        False      False      False      False      False   \n",
       "          103665        False      False      False      False      False   \n",
       "          105574        False      False      False      False      False   \n",
       "\n",
       "                               \n",
       "date               2017-08-15  \n",
       "store_nbr item_nbr             \n",
       "1         96995         False  \n",
       "          99197         False  \n",
       "          103520        False  \n",
       "          103665        False  \n",
       "          105574        False  \n",
       "\n",
       "[5 rows x 227 columns]"
      ]
     },
     "execution_count": 60,
     "metadata": {},
     "output_type": "execute_result"
    }
   ],
   "source": [
    "promo_2017_train.head()"
   ]
  },
  {
   "cell_type": "code",
   "execution_count": 166,
   "metadata": {},
   "outputs": [],
   "source": [
    "daily_promotion_items = pd.DataFrame(promo_2017_train.sum(axis=0))"
   ]
  },
  {
   "cell_type": "code",
   "execution_count": 167,
   "metadata": {},
   "outputs": [],
   "source": [
    "daily_promotion_items  =daily_promotion_items.reset_index()\n",
    "daily_promotion_items.columns = ['date', 'promotions_count']"
   ]
  },
  {
   "cell_type": "code",
   "execution_count": 177,
   "metadata": {},
   "outputs": [],
   "source": [
    "daily_promotion_items['promotions_count_mean'] = daily_promotion_items['promotions_count'].expanding().mean()"
   ]
  },
  {
   "cell_type": "code",
   "execution_count": 182,
   "metadata": {},
   "outputs": [],
   "source": [
    "daily_promotion_items = daily_promotion_items.set_index('date').stack().reset_index()"
   ]
  },
  {
   "cell_type": "code",
   "execution_count": 185,
   "metadata": {},
   "outputs": [],
   "source": [
    "daily_promotion_items.columns = ['date', 'count_type','count' ]"
   ]
  },
  {
   "cell_type": "code",
   "execution_count": 186,
   "metadata": {},
   "outputs": [
    {
     "data": {
      "application/vnd.plotly.v1+json": {
       "config": {
        "plotlyServerURL": "https://plot.ly"
       },
       "data": [
        {
         "hoverlabel": {
          "namelength": 0
         },
         "hovertemplate": "count_type=promotions_count<br>date=%{x}<br>count=%{y}",
         "legendgroup": "count_type=promotions_count",
         "line": {
          "color": "#636efa",
          "dash": "solid"
         },
         "mode": "lines",
         "name": "count_type=promotions_count",
         "showlegend": true,
         "type": "scatter",
         "x": [
          "2017-01-01T00:00:00",
          "2017-01-02T00:00:00",
          "2017-01-03T00:00:00",
          "2017-01-04T00:00:00",
          "2017-01-05T00:00:00",
          "2017-01-06T00:00:00",
          "2017-01-07T00:00:00",
          "2017-01-08T00:00:00",
          "2017-01-09T00:00:00",
          "2017-01-10T00:00:00",
          "2017-01-11T00:00:00",
          "2017-01-12T00:00:00",
          "2017-01-13T00:00:00",
          "2017-01-14T00:00:00",
          "2017-01-15T00:00:00",
          "2017-01-16T00:00:00",
          "2017-01-17T00:00:00",
          "2017-01-18T00:00:00",
          "2017-01-19T00:00:00",
          "2017-01-20T00:00:00",
          "2017-01-21T00:00:00",
          "2017-01-22T00:00:00",
          "2017-01-23T00:00:00",
          "2017-01-24T00:00:00",
          "2017-01-25T00:00:00",
          "2017-01-26T00:00:00",
          "2017-01-27T00:00:00",
          "2017-01-28T00:00:00",
          "2017-01-29T00:00:00",
          "2017-01-30T00:00:00",
          "2017-01-31T00:00:00",
          "2017-02-01T00:00:00",
          "2017-02-02T00:00:00",
          "2017-02-03T00:00:00",
          "2017-02-04T00:00:00",
          "2017-02-05T00:00:00",
          "2017-02-06T00:00:00",
          "2017-02-07T00:00:00",
          "2017-02-08T00:00:00",
          "2017-02-09T00:00:00",
          "2017-02-10T00:00:00",
          "2017-02-11T00:00:00",
          "2017-02-12T00:00:00",
          "2017-02-13T00:00:00",
          "2017-02-14T00:00:00",
          "2017-02-15T00:00:00",
          "2017-02-16T00:00:00",
          "2017-02-17T00:00:00",
          "2017-02-18T00:00:00",
          "2017-02-19T00:00:00",
          "2017-02-20T00:00:00",
          "2017-02-21T00:00:00",
          "2017-02-22T00:00:00",
          "2017-02-23T00:00:00",
          "2017-02-24T00:00:00",
          "2017-02-25T00:00:00",
          "2017-02-26T00:00:00",
          "2017-02-27T00:00:00",
          "2017-02-28T00:00:00",
          "2017-03-01T00:00:00",
          "2017-03-02T00:00:00",
          "2017-03-03T00:00:00",
          "2017-03-04T00:00:00",
          "2017-03-05T00:00:00",
          "2017-03-06T00:00:00",
          "2017-03-07T00:00:00",
          "2017-03-08T00:00:00",
          "2017-03-09T00:00:00",
          "2017-03-10T00:00:00",
          "2017-03-11T00:00:00",
          "2017-03-12T00:00:00",
          "2017-03-13T00:00:00",
          "2017-03-14T00:00:00",
          "2017-03-15T00:00:00",
          "2017-03-16T00:00:00",
          "2017-03-17T00:00:00",
          "2017-03-18T00:00:00",
          "2017-03-19T00:00:00",
          "2017-03-20T00:00:00",
          "2017-03-21T00:00:00",
          "2017-03-22T00:00:00",
          "2017-03-23T00:00:00",
          "2017-03-24T00:00:00",
          "2017-03-25T00:00:00",
          "2017-03-26T00:00:00",
          "2017-03-27T00:00:00",
          "2017-03-28T00:00:00",
          "2017-03-29T00:00:00",
          "2017-03-30T00:00:00",
          "2017-03-31T00:00:00",
          "2017-04-01T00:00:00",
          "2017-04-02T00:00:00",
          "2017-04-03T00:00:00",
          "2017-04-04T00:00:00",
          "2017-04-05T00:00:00",
          "2017-04-06T00:00:00",
          "2017-04-07T00:00:00",
          "2017-04-08T00:00:00",
          "2017-04-09T00:00:00",
          "2017-04-10T00:00:00",
          "2017-04-11T00:00:00",
          "2017-04-12T00:00:00",
          "2017-04-13T00:00:00",
          "2017-04-14T00:00:00",
          "2017-04-15T00:00:00",
          "2017-04-16T00:00:00",
          "2017-04-17T00:00:00",
          "2017-04-18T00:00:00",
          "2017-04-19T00:00:00",
          "2017-04-20T00:00:00",
          "2017-04-21T00:00:00",
          "2017-04-22T00:00:00",
          "2017-04-23T00:00:00",
          "2017-04-24T00:00:00",
          "2017-04-25T00:00:00",
          "2017-04-26T00:00:00",
          "2017-04-27T00:00:00",
          "2017-04-28T00:00:00",
          "2017-04-29T00:00:00",
          "2017-04-30T00:00:00",
          "2017-05-01T00:00:00",
          "2017-05-02T00:00:00",
          "2017-05-03T00:00:00",
          "2017-05-04T00:00:00",
          "2017-05-05T00:00:00",
          "2017-05-06T00:00:00",
          "2017-05-07T00:00:00",
          "2017-05-08T00:00:00",
          "2017-05-09T00:00:00",
          "2017-05-10T00:00:00",
          "2017-05-11T00:00:00",
          "2017-05-12T00:00:00",
          "2017-05-13T00:00:00",
          "2017-05-14T00:00:00",
          "2017-05-15T00:00:00",
          "2017-05-16T00:00:00",
          "2017-05-17T00:00:00",
          "2017-05-18T00:00:00",
          "2017-05-19T00:00:00",
          "2017-05-20T00:00:00",
          "2017-05-21T00:00:00",
          "2017-05-22T00:00:00",
          "2017-05-23T00:00:00",
          "2017-05-24T00:00:00",
          "2017-05-25T00:00:00",
          "2017-05-26T00:00:00",
          "2017-05-27T00:00:00",
          "2017-05-28T00:00:00",
          "2017-05-29T00:00:00",
          "2017-05-30T00:00:00",
          "2017-05-31T00:00:00",
          "2017-06-01T00:00:00",
          "2017-06-02T00:00:00",
          "2017-06-03T00:00:00",
          "2017-06-04T00:00:00",
          "2017-06-05T00:00:00",
          "2017-06-06T00:00:00",
          "2017-06-07T00:00:00",
          "2017-06-08T00:00:00",
          "2017-06-09T00:00:00",
          "2017-06-10T00:00:00",
          "2017-06-11T00:00:00",
          "2017-06-12T00:00:00",
          "2017-06-13T00:00:00",
          "2017-06-14T00:00:00",
          "2017-06-15T00:00:00",
          "2017-06-16T00:00:00",
          "2017-06-17T00:00:00",
          "2017-06-18T00:00:00",
          "2017-06-19T00:00:00",
          "2017-06-20T00:00:00",
          "2017-06-21T00:00:00",
          "2017-06-22T00:00:00",
          "2017-06-23T00:00:00",
          "2017-06-24T00:00:00",
          "2017-06-25T00:00:00",
          "2017-06-26T00:00:00",
          "2017-06-27T00:00:00",
          "2017-06-28T00:00:00",
          "2017-06-29T00:00:00",
          "2017-06-30T00:00:00",
          "2017-07-01T00:00:00",
          "2017-07-02T00:00:00",
          "2017-07-03T00:00:00",
          "2017-07-04T00:00:00",
          "2017-07-05T00:00:00",
          "2017-07-06T00:00:00",
          "2017-07-07T00:00:00",
          "2017-07-08T00:00:00",
          "2017-07-09T00:00:00",
          "2017-07-10T00:00:00",
          "2017-07-11T00:00:00",
          "2017-07-12T00:00:00",
          "2017-07-13T00:00:00",
          "2017-07-14T00:00:00",
          "2017-07-15T00:00:00",
          "2017-07-16T00:00:00",
          "2017-07-17T00:00:00",
          "2017-07-18T00:00:00",
          "2017-07-19T00:00:00",
          "2017-07-20T00:00:00",
          "2017-07-21T00:00:00",
          "2017-07-22T00:00:00",
          "2017-07-23T00:00:00",
          "2017-07-24T00:00:00",
          "2017-07-25T00:00:00",
          "2017-07-26T00:00:00",
          "2017-07-27T00:00:00",
          "2017-07-28T00:00:00",
          "2017-07-29T00:00:00",
          "2017-07-30T00:00:00",
          "2017-07-31T00:00:00",
          "2017-08-01T00:00:00",
          "2017-08-02T00:00:00",
          "2017-08-03T00:00:00",
          "2017-08-04T00:00:00",
          "2017-08-05T00:00:00",
          "2017-08-06T00:00:00",
          "2017-08-07T00:00:00",
          "2017-08-08T00:00:00",
          "2017-08-09T00:00:00",
          "2017-08-10T00:00:00",
          "2017-08-11T00:00:00",
          "2017-08-12T00:00:00",
          "2017-08-13T00:00:00",
          "2017-08-14T00:00:00",
          "2017-08-15T00:00:00"
         ],
         "xaxis": "x",
         "y": [
          170,
          11812,
          13906,
          22918,
          8550,
          15539,
          10406,
          11277,
          9647,
          11820,
          17301,
          9601,
          15674,
          10682,
          11548,
          9912,
          12064,
          18723,
          9633,
          14854,
          10194,
          11257,
          9356,
          11940,
          18532,
          7562,
          13112,
          8264,
          9260,
          7330,
          10584,
          16375,
          8017,
          13655,
          8302,
          9052,
          7734,
          9964,
          19103,
          7213,
          12607,
          7840,
          8800,
          7527,
          9653,
          17201,
          8104,
          13615,
          8434,
          9119,
          8008,
          10436,
          16096,
          8374,
          14147,
          9005,
          9260,
          8398,
          11215,
          18621,
          9186,
          15308,
          9661,
          10362,
          8100,
          10556,
          16073,
          7340,
          13248,
          7610,
          8594,
          7142,
          9650,
          15436,
          7569,
          14263,
          8705,
          9579,
          8349,
          11112,
          16052,
          6839,
          13150,
          8520,
          9434,
          7884,
          10654,
          17151,
          9116,
          14027,
          7450,
          7946,
          6545,
          9316,
          15094,
          6973,
          12478,
          7567,
          8423,
          6662,
          9681,
          18094,
          10215,
          15812,
          10690,
          11676,
          10152,
          11980,
          19618,
          11231,
          18291,
          12972,
          14276,
          12476,
          14844,
          21140,
          12602,
          18991,
          13643,
          14204,
          12733,
          14155,
          21181,
          10040,
          15908,
          10346,
          11503,
          9552,
          12040,
          20292,
          11109,
          16721,
          12225,
          12682,
          11265,
          13685,
          18617,
          10594,
          15706,
          10841,
          12033,
          10039,
          12292,
          20850,
          9527,
          16458,
          10604,
          11854,
          10056,
          12281,
          17457,
          3498,
          13480,
          9337,
          10512,
          8750,
          11319,
          17369,
          10621,
          15713,
          11792,
          13187,
          10854,
          13186,
          20019,
          10081,
          15820,
          11567,
          12259,
          10399,
          13072,
          21009,
          11621,
          17672,
          12262,
          13371,
          10857,
          13169,
          20138,
          13403,
          18245,
          13017,
          13882,
          12329,
          14888,
          23049,
          13192,
          18485,
          13428,
          14273,
          12239,
          14429,
          20226,
          10199,
          16059,
          11079,
          11720,
          10056,
          12065,
          18201,
          10708,
          15340,
          10070,
          10870,
          9448,
          11325,
          18725,
          8001,
          13850,
          9099,
          10227,
          8649,
          10150,
          16524,
          7859,
          14193,
          8684,
          9565,
          8209,
          10638,
          16117,
          7917,
          14179,
          8312,
          9283,
          8043,
          10605
         ],
         "yaxis": "y"
        },
        {
         "hoverlabel": {
          "namelength": 0
         },
         "hovertemplate": "count_type=promotions_count_mean<br>date=%{x}<br>count=%{y}",
         "legendgroup": "count_type=promotions_count_mean",
         "line": {
          "color": "#EF553B",
          "dash": "solid"
         },
         "mode": "lines",
         "name": "count_type=promotions_count_mean",
         "showlegend": true,
         "type": "scatter",
         "x": [
          "2017-01-01T00:00:00",
          "2017-01-02T00:00:00",
          "2017-01-03T00:00:00",
          "2017-01-04T00:00:00",
          "2017-01-05T00:00:00",
          "2017-01-06T00:00:00",
          "2017-01-07T00:00:00",
          "2017-01-08T00:00:00",
          "2017-01-09T00:00:00",
          "2017-01-10T00:00:00",
          "2017-01-11T00:00:00",
          "2017-01-12T00:00:00",
          "2017-01-13T00:00:00",
          "2017-01-14T00:00:00",
          "2017-01-15T00:00:00",
          "2017-01-16T00:00:00",
          "2017-01-17T00:00:00",
          "2017-01-18T00:00:00",
          "2017-01-19T00:00:00",
          "2017-01-20T00:00:00",
          "2017-01-21T00:00:00",
          "2017-01-22T00:00:00",
          "2017-01-23T00:00:00",
          "2017-01-24T00:00:00",
          "2017-01-25T00:00:00",
          "2017-01-26T00:00:00",
          "2017-01-27T00:00:00",
          "2017-01-28T00:00:00",
          "2017-01-29T00:00:00",
          "2017-01-30T00:00:00",
          "2017-01-31T00:00:00",
          "2017-02-01T00:00:00",
          "2017-02-02T00:00:00",
          "2017-02-03T00:00:00",
          "2017-02-04T00:00:00",
          "2017-02-05T00:00:00",
          "2017-02-06T00:00:00",
          "2017-02-07T00:00:00",
          "2017-02-08T00:00:00",
          "2017-02-09T00:00:00",
          "2017-02-10T00:00:00",
          "2017-02-11T00:00:00",
          "2017-02-12T00:00:00",
          "2017-02-13T00:00:00",
          "2017-02-14T00:00:00",
          "2017-02-15T00:00:00",
          "2017-02-16T00:00:00",
          "2017-02-17T00:00:00",
          "2017-02-18T00:00:00",
          "2017-02-19T00:00:00",
          "2017-02-20T00:00:00",
          "2017-02-21T00:00:00",
          "2017-02-22T00:00:00",
          "2017-02-23T00:00:00",
          "2017-02-24T00:00:00",
          "2017-02-25T00:00:00",
          "2017-02-26T00:00:00",
          "2017-02-27T00:00:00",
          "2017-02-28T00:00:00",
          "2017-03-01T00:00:00",
          "2017-03-02T00:00:00",
          "2017-03-03T00:00:00",
          "2017-03-04T00:00:00",
          "2017-03-05T00:00:00",
          "2017-03-06T00:00:00",
          "2017-03-07T00:00:00",
          "2017-03-08T00:00:00",
          "2017-03-09T00:00:00",
          "2017-03-10T00:00:00",
          "2017-03-11T00:00:00",
          "2017-03-12T00:00:00",
          "2017-03-13T00:00:00",
          "2017-03-14T00:00:00",
          "2017-03-15T00:00:00",
          "2017-03-16T00:00:00",
          "2017-03-17T00:00:00",
          "2017-03-18T00:00:00",
          "2017-03-19T00:00:00",
          "2017-03-20T00:00:00",
          "2017-03-21T00:00:00",
          "2017-03-22T00:00:00",
          "2017-03-23T00:00:00",
          "2017-03-24T00:00:00",
          "2017-03-25T00:00:00",
          "2017-03-26T00:00:00",
          "2017-03-27T00:00:00",
          "2017-03-28T00:00:00",
          "2017-03-29T00:00:00",
          "2017-03-30T00:00:00",
          "2017-03-31T00:00:00",
          "2017-04-01T00:00:00",
          "2017-04-02T00:00:00",
          "2017-04-03T00:00:00",
          "2017-04-04T00:00:00",
          "2017-04-05T00:00:00",
          "2017-04-06T00:00:00",
          "2017-04-07T00:00:00",
          "2017-04-08T00:00:00",
          "2017-04-09T00:00:00",
          "2017-04-10T00:00:00",
          "2017-04-11T00:00:00",
          "2017-04-12T00:00:00",
          "2017-04-13T00:00:00",
          "2017-04-14T00:00:00",
          "2017-04-15T00:00:00",
          "2017-04-16T00:00:00",
          "2017-04-17T00:00:00",
          "2017-04-18T00:00:00",
          "2017-04-19T00:00:00",
          "2017-04-20T00:00:00",
          "2017-04-21T00:00:00",
          "2017-04-22T00:00:00",
          "2017-04-23T00:00:00",
          "2017-04-24T00:00:00",
          "2017-04-25T00:00:00",
          "2017-04-26T00:00:00",
          "2017-04-27T00:00:00",
          "2017-04-28T00:00:00",
          "2017-04-29T00:00:00",
          "2017-04-30T00:00:00",
          "2017-05-01T00:00:00",
          "2017-05-02T00:00:00",
          "2017-05-03T00:00:00",
          "2017-05-04T00:00:00",
          "2017-05-05T00:00:00",
          "2017-05-06T00:00:00",
          "2017-05-07T00:00:00",
          "2017-05-08T00:00:00",
          "2017-05-09T00:00:00",
          "2017-05-10T00:00:00",
          "2017-05-11T00:00:00",
          "2017-05-12T00:00:00",
          "2017-05-13T00:00:00",
          "2017-05-14T00:00:00",
          "2017-05-15T00:00:00",
          "2017-05-16T00:00:00",
          "2017-05-17T00:00:00",
          "2017-05-18T00:00:00",
          "2017-05-19T00:00:00",
          "2017-05-20T00:00:00",
          "2017-05-21T00:00:00",
          "2017-05-22T00:00:00",
          "2017-05-23T00:00:00",
          "2017-05-24T00:00:00",
          "2017-05-25T00:00:00",
          "2017-05-26T00:00:00",
          "2017-05-27T00:00:00",
          "2017-05-28T00:00:00",
          "2017-05-29T00:00:00",
          "2017-05-30T00:00:00",
          "2017-05-31T00:00:00",
          "2017-06-01T00:00:00",
          "2017-06-02T00:00:00",
          "2017-06-03T00:00:00",
          "2017-06-04T00:00:00",
          "2017-06-05T00:00:00",
          "2017-06-06T00:00:00",
          "2017-06-07T00:00:00",
          "2017-06-08T00:00:00",
          "2017-06-09T00:00:00",
          "2017-06-10T00:00:00",
          "2017-06-11T00:00:00",
          "2017-06-12T00:00:00",
          "2017-06-13T00:00:00",
          "2017-06-14T00:00:00",
          "2017-06-15T00:00:00",
          "2017-06-16T00:00:00",
          "2017-06-17T00:00:00",
          "2017-06-18T00:00:00",
          "2017-06-19T00:00:00",
          "2017-06-20T00:00:00",
          "2017-06-21T00:00:00",
          "2017-06-22T00:00:00",
          "2017-06-23T00:00:00",
          "2017-06-24T00:00:00",
          "2017-06-25T00:00:00",
          "2017-06-26T00:00:00",
          "2017-06-27T00:00:00",
          "2017-06-28T00:00:00",
          "2017-06-29T00:00:00",
          "2017-06-30T00:00:00",
          "2017-07-01T00:00:00",
          "2017-07-02T00:00:00",
          "2017-07-03T00:00:00",
          "2017-07-04T00:00:00",
          "2017-07-05T00:00:00",
          "2017-07-06T00:00:00",
          "2017-07-07T00:00:00",
          "2017-07-08T00:00:00",
          "2017-07-09T00:00:00",
          "2017-07-10T00:00:00",
          "2017-07-11T00:00:00",
          "2017-07-12T00:00:00",
          "2017-07-13T00:00:00",
          "2017-07-14T00:00:00",
          "2017-07-15T00:00:00",
          "2017-07-16T00:00:00",
          "2017-07-17T00:00:00",
          "2017-07-18T00:00:00",
          "2017-07-19T00:00:00",
          "2017-07-20T00:00:00",
          "2017-07-21T00:00:00",
          "2017-07-22T00:00:00",
          "2017-07-23T00:00:00",
          "2017-07-24T00:00:00",
          "2017-07-25T00:00:00",
          "2017-07-26T00:00:00",
          "2017-07-27T00:00:00",
          "2017-07-28T00:00:00",
          "2017-07-29T00:00:00",
          "2017-07-30T00:00:00",
          "2017-07-31T00:00:00",
          "2017-08-01T00:00:00",
          "2017-08-02T00:00:00",
          "2017-08-03T00:00:00",
          "2017-08-04T00:00:00",
          "2017-08-05T00:00:00",
          "2017-08-06T00:00:00",
          "2017-08-07T00:00:00",
          "2017-08-08T00:00:00",
          "2017-08-09T00:00:00",
          "2017-08-10T00:00:00",
          "2017-08-11T00:00:00",
          "2017-08-12T00:00:00",
          "2017-08-13T00:00:00",
          "2017-08-14T00:00:00",
          "2017-08-15T00:00:00"
         ],
         "xaxis": "x",
         "y": [
          170,
          5991,
          8629.333333333334,
          12201.5,
          11471.2,
          12149.166666666666,
          11900.142857142857,
          11822.25,
          11580.555555555555,
          11604.5,
          12122.363636363636,
          11912.25,
          12201.615384615385,
          12093.07142857143,
          12056.733333333334,
          11922.6875,
          11931,
          12308.333333333334,
          12167.526315789473,
          12301.85,
          12201.47619047619,
          12158.545454545454,
          12036.695652173914,
          12032.666666666666,
          12292.64,
          12110.692307692309,
          12147.777777777777,
          12009.07142857143,
          11914.275862068966,
          11761.466666666667,
          11723.483870967742,
          11868.84375,
          11752.121212121212,
          11808.088235294117,
          11707.914285714285,
          11634.138888888889,
          11528.72972972973,
          11487.552631578947,
          11682.820512820514,
          11571.075,
          11596.341463414634,
          11506.904761904761,
          11443.953488372093,
          11354.931818181818,
          11317.111111111111,
          11445.021739130434,
          11373.936170212766,
          11420.625,
          11359.673469387755,
          11314.86,
          11250.019607843138,
          11234.365384615385,
          11326.094339622641,
          11271.425925925925,
          11323.709090909091,
          11282.30357142857,
          11246.82456140351,
          11197.706896551725,
          11198,
          11321.716666666667,
          11286.704918032787,
          11351.564516129032,
          11324.730158730159,
          11309.6875,
          11260.307692307691,
          11249.636363636364,
          11321.626865671642,
          11263.073529411764,
          11291.840579710144,
          11239.242857142857,
          11201.985915492958,
          11145.597222222223,
          11125.109589041096,
          11183.364864864865,
          11135.173333333334,
          11176.328947368422,
          11144.233766233767,
          11124.166666666666,
          11089.037974683544,
          11089.325,
          11150.592592592593,
          11098.012195121952,
          11122.734939759037,
          11091.75,
          11072.24705882353,
          11035.17441860465,
          11030.793103448275,
          11100.34090909091,
          11078.044943820225,
          11110.81111111111,
          11070.582417582418,
          11036.619565217392,
          10988.322580645161,
          10970.531914893618,
          11013.936842105262,
          10971.84375,
          10987.37113402062,
          10952.469387755102,
          10926.919191919193,
          10884.27,
          10872.356435643564,
          10943.156862745098,
          10936.087378640777,
          10982.971153846154,
          10980.180952380952,
          10986.745283018869,
          10978.943925233645,
          10988.212962962964,
          11067.385321100917,
          11068.872727272726,
          11133.936936936936,
          11150.348214285714,
          11178.008849557522,
          11189.394736842105,
          11221.173913043478,
          11306.681034482759,
          11317.752136752137,
          11382.77966101695,
          11401.773109243697,
          11425.125,
          11435.933884297521,
          11458.22131147541,
          11537.268292682927,
          11525.193548387097,
          11560.256,
          11550.619047619048,
          11550.24409448819,
          11534.6328125,
          11538.550387596899,
          11605.884615384615,
          11602.091603053435,
          11640.871212121212,
          11645.263157894737,
          11653,
          11650.125925925926,
          11665.088235294117,
          11715.83211678832,
          11707.702898550724,
          11736.46762589928,
          11730.07142857143,
          11732.219858156028,
          11720.295774647888,
          11724.293706293707,
          11787.666666666666,
          11772.075862068965,
          11804.171232876712,
          11796.00680272109,
          11796.398648648648,
          11784.71812080537,
          11788.026666666667,
          11825.569536423842,
          11770.782894736842,
          11781.954248366013,
          11766.077922077922,
          11757.987096774194,
          11738.705128205129,
          11736.031847133758,
          11771.683544303798,
          11764.446540880503,
          11789.125,
          11789.142857142857,
          11797.771604938273,
          11791.981595092024,
          11800.481707317073,
          11850.290909090909,
          11839.632530120482,
          11863.467065868263,
          11861.702380952382,
          11864.05325443787,
          11855.435294117648,
          11862.549707602338,
          11915.726744186046,
          11914.023121387283,
          11947.114942528735,
          11948.914285714285,
          11956.994318181818,
          11950.77966101695,
          11957.623595505618,
          12003.324022346369,
          12011.1,
          12045.54143646409,
          12050.87912087912,
          12060.88524590164,
          12062.342391304348,
          12077.616216216216,
          12136.602150537634,
          12142.245989304813,
          12175.984042553191,
          12182.608465608466,
          12193.61052631579,
          12193.848167539267,
          12205.489583333334,
          12247.046632124353,
          12236.48969072165,
          12256.092307692308,
          12250.086734693878,
          12247.395939086295,
          12236.328282828283,
          12235.467336683418,
          12265.295,
          12257.547263681592,
          12272.80693069307,
          12261.95566502463,
          12255.132352941177,
          12241.439024390244,
          12236.990291262136,
          12268.333333333334,
          12247.817307692309,
          12255.483253588516,
          12240.452380952382,
          12230.909952606635,
          12214.014150943396,
          12204.323943661971,
          12224.509345794393,
          12204.20465116279,
          12213.412037037036,
          12197.147465437789,
          12185.073394495414,
          12166.917808219177,
          12159.968181818182,
          12177.87330316742,
          12158.68018018018,
          12167.739910313901,
          12150.526785714286,
          12137.782222222222,
          12119.663716814159,
          12112.991189427314
         ],
         "yaxis": "y"
        }
       ],
       "layout": {
        "height": 600,
        "legend": {
         "tracegroupgap": 0
        },
        "margin": {
         "t": 60
        },
        "template": {
         "data": {
          "bar": [
           {
            "error_x": {
             "color": "#2a3f5f"
            },
            "error_y": {
             "color": "#2a3f5f"
            },
            "marker": {
             "line": {
              "color": "#E5ECF6",
              "width": 0.5
             }
            },
            "type": "bar"
           }
          ],
          "barpolar": [
           {
            "marker": {
             "line": {
              "color": "#E5ECF6",
              "width": 0.5
             }
            },
            "type": "barpolar"
           }
          ],
          "carpet": [
           {
            "aaxis": {
             "endlinecolor": "#2a3f5f",
             "gridcolor": "white",
             "linecolor": "white",
             "minorgridcolor": "white",
             "startlinecolor": "#2a3f5f"
            },
            "baxis": {
             "endlinecolor": "#2a3f5f",
             "gridcolor": "white",
             "linecolor": "white",
             "minorgridcolor": "white",
             "startlinecolor": "#2a3f5f"
            },
            "type": "carpet"
           }
          ],
          "choropleth": [
           {
            "colorbar": {
             "outlinewidth": 0,
             "ticks": ""
            },
            "type": "choropleth"
           }
          ],
          "contour": [
           {
            "colorbar": {
             "outlinewidth": 0,
             "ticks": ""
            },
            "colorscale": [
             [
              0,
              "#0d0887"
             ],
             [
              0.1111111111111111,
              "#46039f"
             ],
             [
              0.2222222222222222,
              "#7201a8"
             ],
             [
              0.3333333333333333,
              "#9c179e"
             ],
             [
              0.4444444444444444,
              "#bd3786"
             ],
             [
              0.5555555555555556,
              "#d8576b"
             ],
             [
              0.6666666666666666,
              "#ed7953"
             ],
             [
              0.7777777777777778,
              "#fb9f3a"
             ],
             [
              0.8888888888888888,
              "#fdca26"
             ],
             [
              1,
              "#f0f921"
             ]
            ],
            "type": "contour"
           }
          ],
          "contourcarpet": [
           {
            "colorbar": {
             "outlinewidth": 0,
             "ticks": ""
            },
            "type": "contourcarpet"
           }
          ],
          "heatmap": [
           {
            "colorbar": {
             "outlinewidth": 0,
             "ticks": ""
            },
            "colorscale": [
             [
              0,
              "#0d0887"
             ],
             [
              0.1111111111111111,
              "#46039f"
             ],
             [
              0.2222222222222222,
              "#7201a8"
             ],
             [
              0.3333333333333333,
              "#9c179e"
             ],
             [
              0.4444444444444444,
              "#bd3786"
             ],
             [
              0.5555555555555556,
              "#d8576b"
             ],
             [
              0.6666666666666666,
              "#ed7953"
             ],
             [
              0.7777777777777778,
              "#fb9f3a"
             ],
             [
              0.8888888888888888,
              "#fdca26"
             ],
             [
              1,
              "#f0f921"
             ]
            ],
            "type": "heatmap"
           }
          ],
          "heatmapgl": [
           {
            "colorbar": {
             "outlinewidth": 0,
             "ticks": ""
            },
            "colorscale": [
             [
              0,
              "#0d0887"
             ],
             [
              0.1111111111111111,
              "#46039f"
             ],
             [
              0.2222222222222222,
              "#7201a8"
             ],
             [
              0.3333333333333333,
              "#9c179e"
             ],
             [
              0.4444444444444444,
              "#bd3786"
             ],
             [
              0.5555555555555556,
              "#d8576b"
             ],
             [
              0.6666666666666666,
              "#ed7953"
             ],
             [
              0.7777777777777778,
              "#fb9f3a"
             ],
             [
              0.8888888888888888,
              "#fdca26"
             ],
             [
              1,
              "#f0f921"
             ]
            ],
            "type": "heatmapgl"
           }
          ],
          "histogram": [
           {
            "marker": {
             "colorbar": {
              "outlinewidth": 0,
              "ticks": ""
             }
            },
            "type": "histogram"
           }
          ],
          "histogram2d": [
           {
            "colorbar": {
             "outlinewidth": 0,
             "ticks": ""
            },
            "colorscale": [
             [
              0,
              "#0d0887"
             ],
             [
              0.1111111111111111,
              "#46039f"
             ],
             [
              0.2222222222222222,
              "#7201a8"
             ],
             [
              0.3333333333333333,
              "#9c179e"
             ],
             [
              0.4444444444444444,
              "#bd3786"
             ],
             [
              0.5555555555555556,
              "#d8576b"
             ],
             [
              0.6666666666666666,
              "#ed7953"
             ],
             [
              0.7777777777777778,
              "#fb9f3a"
             ],
             [
              0.8888888888888888,
              "#fdca26"
             ],
             [
              1,
              "#f0f921"
             ]
            ],
            "type": "histogram2d"
           }
          ],
          "histogram2dcontour": [
           {
            "colorbar": {
             "outlinewidth": 0,
             "ticks": ""
            },
            "colorscale": [
             [
              0,
              "#0d0887"
             ],
             [
              0.1111111111111111,
              "#46039f"
             ],
             [
              0.2222222222222222,
              "#7201a8"
             ],
             [
              0.3333333333333333,
              "#9c179e"
             ],
             [
              0.4444444444444444,
              "#bd3786"
             ],
             [
              0.5555555555555556,
              "#d8576b"
             ],
             [
              0.6666666666666666,
              "#ed7953"
             ],
             [
              0.7777777777777778,
              "#fb9f3a"
             ],
             [
              0.8888888888888888,
              "#fdca26"
             ],
             [
              1,
              "#f0f921"
             ]
            ],
            "type": "histogram2dcontour"
           }
          ],
          "mesh3d": [
           {
            "colorbar": {
             "outlinewidth": 0,
             "ticks": ""
            },
            "type": "mesh3d"
           }
          ],
          "parcoords": [
           {
            "line": {
             "colorbar": {
              "outlinewidth": 0,
              "ticks": ""
             }
            },
            "type": "parcoords"
           }
          ],
          "scatter": [
           {
            "marker": {
             "colorbar": {
              "outlinewidth": 0,
              "ticks": ""
             }
            },
            "type": "scatter"
           }
          ],
          "scatter3d": [
           {
            "line": {
             "colorbar": {
              "outlinewidth": 0,
              "ticks": ""
             }
            },
            "marker": {
             "colorbar": {
              "outlinewidth": 0,
              "ticks": ""
             }
            },
            "type": "scatter3d"
           }
          ],
          "scattercarpet": [
           {
            "marker": {
             "colorbar": {
              "outlinewidth": 0,
              "ticks": ""
             }
            },
            "type": "scattercarpet"
           }
          ],
          "scattergeo": [
           {
            "marker": {
             "colorbar": {
              "outlinewidth": 0,
              "ticks": ""
             }
            },
            "type": "scattergeo"
           }
          ],
          "scattergl": [
           {
            "marker": {
             "colorbar": {
              "outlinewidth": 0,
              "ticks": ""
             }
            },
            "type": "scattergl"
           }
          ],
          "scattermapbox": [
           {
            "marker": {
             "colorbar": {
              "outlinewidth": 0,
              "ticks": ""
             }
            },
            "type": "scattermapbox"
           }
          ],
          "scatterpolar": [
           {
            "marker": {
             "colorbar": {
              "outlinewidth": 0,
              "ticks": ""
             }
            },
            "type": "scatterpolar"
           }
          ],
          "scatterpolargl": [
           {
            "marker": {
             "colorbar": {
              "outlinewidth": 0,
              "ticks": ""
             }
            },
            "type": "scatterpolargl"
           }
          ],
          "scatterternary": [
           {
            "marker": {
             "colorbar": {
              "outlinewidth": 0,
              "ticks": ""
             }
            },
            "type": "scatterternary"
           }
          ],
          "surface": [
           {
            "colorbar": {
             "outlinewidth": 0,
             "ticks": ""
            },
            "colorscale": [
             [
              0,
              "#0d0887"
             ],
             [
              0.1111111111111111,
              "#46039f"
             ],
             [
              0.2222222222222222,
              "#7201a8"
             ],
             [
              0.3333333333333333,
              "#9c179e"
             ],
             [
              0.4444444444444444,
              "#bd3786"
             ],
             [
              0.5555555555555556,
              "#d8576b"
             ],
             [
              0.6666666666666666,
              "#ed7953"
             ],
             [
              0.7777777777777778,
              "#fb9f3a"
             ],
             [
              0.8888888888888888,
              "#fdca26"
             ],
             [
              1,
              "#f0f921"
             ]
            ],
            "type": "surface"
           }
          ],
          "table": [
           {
            "cells": {
             "fill": {
              "color": "#EBF0F8"
             },
             "line": {
              "color": "white"
             }
            },
            "header": {
             "fill": {
              "color": "#C8D4E3"
             },
             "line": {
              "color": "white"
             }
            },
            "type": "table"
           }
          ]
         },
         "layout": {
          "annotationdefaults": {
           "arrowcolor": "#2a3f5f",
           "arrowhead": 0,
           "arrowwidth": 1
          },
          "colorscale": {
           "diverging": [
            [
             0,
             "#8e0152"
            ],
            [
             0.1,
             "#c51b7d"
            ],
            [
             0.2,
             "#de77ae"
            ],
            [
             0.3,
             "#f1b6da"
            ],
            [
             0.4,
             "#fde0ef"
            ],
            [
             0.5,
             "#f7f7f7"
            ],
            [
             0.6,
             "#e6f5d0"
            ],
            [
             0.7,
             "#b8e186"
            ],
            [
             0.8,
             "#7fbc41"
            ],
            [
             0.9,
             "#4d9221"
            ],
            [
             1,
             "#276419"
            ]
           ],
           "sequential": [
            [
             0,
             "#0d0887"
            ],
            [
             0.1111111111111111,
             "#46039f"
            ],
            [
             0.2222222222222222,
             "#7201a8"
            ],
            [
             0.3333333333333333,
             "#9c179e"
            ],
            [
             0.4444444444444444,
             "#bd3786"
            ],
            [
             0.5555555555555556,
             "#d8576b"
            ],
            [
             0.6666666666666666,
             "#ed7953"
            ],
            [
             0.7777777777777778,
             "#fb9f3a"
            ],
            [
             0.8888888888888888,
             "#fdca26"
            ],
            [
             1,
             "#f0f921"
            ]
           ],
           "sequentialminus": [
            [
             0,
             "#0d0887"
            ],
            [
             0.1111111111111111,
             "#46039f"
            ],
            [
             0.2222222222222222,
             "#7201a8"
            ],
            [
             0.3333333333333333,
             "#9c179e"
            ],
            [
             0.4444444444444444,
             "#bd3786"
            ],
            [
             0.5555555555555556,
             "#d8576b"
            ],
            [
             0.6666666666666666,
             "#ed7953"
            ],
            [
             0.7777777777777778,
             "#fb9f3a"
            ],
            [
             0.8888888888888888,
             "#fdca26"
            ],
            [
             1,
             "#f0f921"
            ]
           ]
          },
          "colorway": [
           "#636efa",
           "#EF553B",
           "#00cc96",
           "#ab63fa",
           "#FFA15A",
           "#19d3f3",
           "#FF6692",
           "#B6E880",
           "#FF97FF",
           "#FECB52"
          ],
          "font": {
           "color": "#2a3f5f"
          },
          "geo": {
           "bgcolor": "white",
           "lakecolor": "white",
           "landcolor": "#E5ECF6",
           "showlakes": true,
           "showland": true,
           "subunitcolor": "white"
          },
          "hoverlabel": {
           "align": "left"
          },
          "hovermode": "closest",
          "mapbox": {
           "style": "light"
          },
          "paper_bgcolor": "white",
          "plot_bgcolor": "#E5ECF6",
          "polar": {
           "angularaxis": {
            "gridcolor": "white",
            "linecolor": "white",
            "ticks": ""
           },
           "bgcolor": "#E5ECF6",
           "radialaxis": {
            "gridcolor": "white",
            "linecolor": "white",
            "ticks": ""
           }
          },
          "scene": {
           "xaxis": {
            "backgroundcolor": "#E5ECF6",
            "gridcolor": "white",
            "gridwidth": 2,
            "linecolor": "white",
            "showbackground": true,
            "ticks": "",
            "zerolinecolor": "white"
           },
           "yaxis": {
            "backgroundcolor": "#E5ECF6",
            "gridcolor": "white",
            "gridwidth": 2,
            "linecolor": "white",
            "showbackground": true,
            "ticks": "",
            "zerolinecolor": "white"
           },
           "zaxis": {
            "backgroundcolor": "#E5ECF6",
            "gridcolor": "white",
            "gridwidth": 2,
            "linecolor": "white",
            "showbackground": true,
            "ticks": "",
            "zerolinecolor": "white"
           }
          },
          "shapedefaults": {
           "line": {
            "color": "#2a3f5f"
           }
          },
          "ternary": {
           "aaxis": {
            "gridcolor": "white",
            "linecolor": "white",
            "ticks": ""
           },
           "baxis": {
            "gridcolor": "white",
            "linecolor": "white",
            "ticks": ""
           },
           "bgcolor": "#E5ECF6",
           "caxis": {
            "gridcolor": "white",
            "linecolor": "white",
            "ticks": ""
           }
          },
          "title": {
           "x": 0.05
          },
          "xaxis": {
           "automargin": true,
           "gridcolor": "white",
           "linecolor": "white",
           "ticks": "",
           "zerolinecolor": "white",
           "zerolinewidth": 2
          },
          "yaxis": {
           "automargin": true,
           "gridcolor": "white",
           "linecolor": "white",
           "ticks": "",
           "zerolinecolor": "white",
           "zerolinewidth": 2
          }
         }
        },
        "xaxis": {
         "anchor": "y",
         "domain": [
          0,
          0.98
         ],
         "title": {
          "text": "date"
         }
        },
        "yaxis": {
         "anchor": "x",
         "domain": [
          0,
          1
         ],
         "title": {
          "text": "count"
         }
        }
       }
      },
      "text/html": [
       "<div>\n",
       "        \n",
       "        \n",
       "            <div id=\"b4caf4ab-80bc-4414-b2b9-21446345c487\" class=\"plotly-graph-div\" style=\"height:600px; width:100%;\"></div>\n",
       "            <script type=\"text/javascript\">\n",
       "                require([\"plotly\"], function(Plotly) {\n",
       "                    window.PLOTLYENV=window.PLOTLYENV || {};\n",
       "                    \n",
       "                if (document.getElementById(\"b4caf4ab-80bc-4414-b2b9-21446345c487\")) {\n",
       "                    Plotly.newPlot(\n",
       "                        'b4caf4ab-80bc-4414-b2b9-21446345c487',\n",
       "                        [{\"hoverlabel\": {\"namelength\": 0}, \"hovertemplate\": \"count_type=promotions_count<br>date=%{x}<br>count=%{y}\", \"legendgroup\": \"count_type=promotions_count\", \"line\": {\"color\": \"#636efa\", \"dash\": \"solid\"}, \"mode\": \"lines\", \"name\": \"count_type=promotions_count\", \"showlegend\": true, \"type\": \"scatter\", \"x\": [\"2017-01-01T00:00:00\", \"2017-01-02T00:00:00\", \"2017-01-03T00:00:00\", \"2017-01-04T00:00:00\", \"2017-01-05T00:00:00\", \"2017-01-06T00:00:00\", \"2017-01-07T00:00:00\", \"2017-01-08T00:00:00\", \"2017-01-09T00:00:00\", \"2017-01-10T00:00:00\", \"2017-01-11T00:00:00\", \"2017-01-12T00:00:00\", \"2017-01-13T00:00:00\", \"2017-01-14T00:00:00\", \"2017-01-15T00:00:00\", \"2017-01-16T00:00:00\", \"2017-01-17T00:00:00\", \"2017-01-18T00:00:00\", \"2017-01-19T00:00:00\", \"2017-01-20T00:00:00\", \"2017-01-21T00:00:00\", \"2017-01-22T00:00:00\", \"2017-01-23T00:00:00\", \"2017-01-24T00:00:00\", \"2017-01-25T00:00:00\", \"2017-01-26T00:00:00\", \"2017-01-27T00:00:00\", \"2017-01-28T00:00:00\", \"2017-01-29T00:00:00\", \"2017-01-30T00:00:00\", \"2017-01-31T00:00:00\", \"2017-02-01T00:00:00\", \"2017-02-02T00:00:00\", \"2017-02-03T00:00:00\", \"2017-02-04T00:00:00\", \"2017-02-05T00:00:00\", \"2017-02-06T00:00:00\", \"2017-02-07T00:00:00\", \"2017-02-08T00:00:00\", \"2017-02-09T00:00:00\", \"2017-02-10T00:00:00\", \"2017-02-11T00:00:00\", \"2017-02-12T00:00:00\", \"2017-02-13T00:00:00\", \"2017-02-14T00:00:00\", \"2017-02-15T00:00:00\", \"2017-02-16T00:00:00\", \"2017-02-17T00:00:00\", \"2017-02-18T00:00:00\", \"2017-02-19T00:00:00\", \"2017-02-20T00:00:00\", \"2017-02-21T00:00:00\", \"2017-02-22T00:00:00\", \"2017-02-23T00:00:00\", \"2017-02-24T00:00:00\", \"2017-02-25T00:00:00\", \"2017-02-26T00:00:00\", \"2017-02-27T00:00:00\", \"2017-02-28T00:00:00\", \"2017-03-01T00:00:00\", \"2017-03-02T00:00:00\", \"2017-03-03T00:00:00\", \"2017-03-04T00:00:00\", \"2017-03-05T00:00:00\", \"2017-03-06T00:00:00\", \"2017-03-07T00:00:00\", \"2017-03-08T00:00:00\", \"2017-03-09T00:00:00\", \"2017-03-10T00:00:00\", \"2017-03-11T00:00:00\", \"2017-03-12T00:00:00\", \"2017-03-13T00:00:00\", \"2017-03-14T00:00:00\", \"2017-03-15T00:00:00\", \"2017-03-16T00:00:00\", \"2017-03-17T00:00:00\", \"2017-03-18T00:00:00\", \"2017-03-19T00:00:00\", \"2017-03-20T00:00:00\", \"2017-03-21T00:00:00\", \"2017-03-22T00:00:00\", \"2017-03-23T00:00:00\", \"2017-03-24T00:00:00\", \"2017-03-25T00:00:00\", \"2017-03-26T00:00:00\", \"2017-03-27T00:00:00\", \"2017-03-28T00:00:00\", \"2017-03-29T00:00:00\", \"2017-03-30T00:00:00\", \"2017-03-31T00:00:00\", \"2017-04-01T00:00:00\", \"2017-04-02T00:00:00\", \"2017-04-03T00:00:00\", \"2017-04-04T00:00:00\", \"2017-04-05T00:00:00\", \"2017-04-06T00:00:00\", \"2017-04-07T00:00:00\", \"2017-04-08T00:00:00\", \"2017-04-09T00:00:00\", \"2017-04-10T00:00:00\", \"2017-04-11T00:00:00\", \"2017-04-12T00:00:00\", \"2017-04-13T00:00:00\", \"2017-04-14T00:00:00\", \"2017-04-15T00:00:00\", \"2017-04-16T00:00:00\", \"2017-04-17T00:00:00\", \"2017-04-18T00:00:00\", \"2017-04-19T00:00:00\", \"2017-04-20T00:00:00\", \"2017-04-21T00:00:00\", \"2017-04-22T00:00:00\", \"2017-04-23T00:00:00\", \"2017-04-24T00:00:00\", \"2017-04-25T00:00:00\", \"2017-04-26T00:00:00\", \"2017-04-27T00:00:00\", \"2017-04-28T00:00:00\", \"2017-04-29T00:00:00\", \"2017-04-30T00:00:00\", \"2017-05-01T00:00:00\", \"2017-05-02T00:00:00\", \"2017-05-03T00:00:00\", \"2017-05-04T00:00:00\", \"2017-05-05T00:00:00\", \"2017-05-06T00:00:00\", \"2017-05-07T00:00:00\", \"2017-05-08T00:00:00\", \"2017-05-09T00:00:00\", \"2017-05-10T00:00:00\", \"2017-05-11T00:00:00\", \"2017-05-12T00:00:00\", \"2017-05-13T00:00:00\", \"2017-05-14T00:00:00\", \"2017-05-15T00:00:00\", \"2017-05-16T00:00:00\", \"2017-05-17T00:00:00\", \"2017-05-18T00:00:00\", \"2017-05-19T00:00:00\", \"2017-05-20T00:00:00\", \"2017-05-21T00:00:00\", \"2017-05-22T00:00:00\", \"2017-05-23T00:00:00\", \"2017-05-24T00:00:00\", \"2017-05-25T00:00:00\", \"2017-05-26T00:00:00\", \"2017-05-27T00:00:00\", \"2017-05-28T00:00:00\", \"2017-05-29T00:00:00\", \"2017-05-30T00:00:00\", \"2017-05-31T00:00:00\", \"2017-06-01T00:00:00\", \"2017-06-02T00:00:00\", \"2017-06-03T00:00:00\", \"2017-06-04T00:00:00\", \"2017-06-05T00:00:00\", \"2017-06-06T00:00:00\", \"2017-06-07T00:00:00\", \"2017-06-08T00:00:00\", \"2017-06-09T00:00:00\", \"2017-06-10T00:00:00\", \"2017-06-11T00:00:00\", \"2017-06-12T00:00:00\", \"2017-06-13T00:00:00\", \"2017-06-14T00:00:00\", \"2017-06-15T00:00:00\", \"2017-06-16T00:00:00\", \"2017-06-17T00:00:00\", \"2017-06-18T00:00:00\", \"2017-06-19T00:00:00\", \"2017-06-20T00:00:00\", \"2017-06-21T00:00:00\", \"2017-06-22T00:00:00\", \"2017-06-23T00:00:00\", \"2017-06-24T00:00:00\", \"2017-06-25T00:00:00\", \"2017-06-26T00:00:00\", \"2017-06-27T00:00:00\", \"2017-06-28T00:00:00\", \"2017-06-29T00:00:00\", \"2017-06-30T00:00:00\", \"2017-07-01T00:00:00\", \"2017-07-02T00:00:00\", \"2017-07-03T00:00:00\", \"2017-07-04T00:00:00\", \"2017-07-05T00:00:00\", \"2017-07-06T00:00:00\", \"2017-07-07T00:00:00\", \"2017-07-08T00:00:00\", \"2017-07-09T00:00:00\", \"2017-07-10T00:00:00\", \"2017-07-11T00:00:00\", \"2017-07-12T00:00:00\", \"2017-07-13T00:00:00\", \"2017-07-14T00:00:00\", \"2017-07-15T00:00:00\", \"2017-07-16T00:00:00\", \"2017-07-17T00:00:00\", \"2017-07-18T00:00:00\", \"2017-07-19T00:00:00\", \"2017-07-20T00:00:00\", \"2017-07-21T00:00:00\", \"2017-07-22T00:00:00\", \"2017-07-23T00:00:00\", \"2017-07-24T00:00:00\", \"2017-07-25T00:00:00\", \"2017-07-26T00:00:00\", \"2017-07-27T00:00:00\", \"2017-07-28T00:00:00\", \"2017-07-29T00:00:00\", \"2017-07-30T00:00:00\", \"2017-07-31T00:00:00\", \"2017-08-01T00:00:00\", \"2017-08-02T00:00:00\", \"2017-08-03T00:00:00\", \"2017-08-04T00:00:00\", \"2017-08-05T00:00:00\", \"2017-08-06T00:00:00\", \"2017-08-07T00:00:00\", \"2017-08-08T00:00:00\", \"2017-08-09T00:00:00\", \"2017-08-10T00:00:00\", \"2017-08-11T00:00:00\", \"2017-08-12T00:00:00\", \"2017-08-13T00:00:00\", \"2017-08-14T00:00:00\", \"2017-08-15T00:00:00\"], \"xaxis\": \"x\", \"y\": [170.0, 11812.0, 13906.0, 22918.0, 8550.0, 15539.0, 10406.0, 11277.0, 9647.0, 11820.0, 17301.0, 9601.0, 15674.0, 10682.0, 11548.0, 9912.0, 12064.0, 18723.0, 9633.0, 14854.0, 10194.0, 11257.0, 9356.0, 11940.0, 18532.0, 7562.0, 13112.0, 8264.0, 9260.0, 7330.0, 10584.0, 16375.0, 8017.0, 13655.0, 8302.0, 9052.0, 7734.0, 9964.0, 19103.0, 7213.0, 12607.0, 7840.0, 8800.0, 7527.0, 9653.0, 17201.0, 8104.0, 13615.0, 8434.0, 9119.0, 8008.0, 10436.0, 16096.0, 8374.0, 14147.0, 9005.0, 9260.0, 8398.0, 11215.0, 18621.0, 9186.0, 15308.0, 9661.0, 10362.0, 8100.0, 10556.0, 16073.0, 7340.0, 13248.0, 7610.0, 8594.0, 7142.0, 9650.0, 15436.0, 7569.0, 14263.0, 8705.0, 9579.0, 8349.0, 11112.0, 16052.0, 6839.0, 13150.0, 8520.0, 9434.0, 7884.0, 10654.0, 17151.0, 9116.0, 14027.0, 7450.0, 7946.0, 6545.0, 9316.0, 15094.0, 6973.0, 12478.0, 7567.0, 8423.0, 6662.0, 9681.0, 18094.0, 10215.0, 15812.0, 10690.0, 11676.0, 10152.0, 11980.0, 19618.0, 11231.0, 18291.0, 12972.0, 14276.0, 12476.0, 14844.0, 21140.0, 12602.0, 18991.0, 13643.0, 14204.0, 12733.0, 14155.0, 21181.0, 10040.0, 15908.0, 10346.0, 11503.0, 9552.0, 12040.0, 20292.0, 11109.0, 16721.0, 12225.0, 12682.0, 11265.0, 13685.0, 18617.0, 10594.0, 15706.0, 10841.0, 12033.0, 10039.0, 12292.0, 20850.0, 9527.0, 16458.0, 10604.0, 11854.0, 10056.0, 12281.0, 17457.0, 3498.0, 13480.0, 9337.0, 10512.0, 8750.0, 11319.0, 17369.0, 10621.0, 15713.0, 11792.0, 13187.0, 10854.0, 13186.0, 20019.0, 10081.0, 15820.0, 11567.0, 12259.0, 10399.0, 13072.0, 21009.0, 11621.0, 17672.0, 12262.0, 13371.0, 10857.0, 13169.0, 20138.0, 13403.0, 18245.0, 13017.0, 13882.0, 12329.0, 14888.0, 23049.0, 13192.0, 18485.0, 13428.0, 14273.0, 12239.0, 14429.0, 20226.0, 10199.0, 16059.0, 11079.0, 11720.0, 10056.0, 12065.0, 18201.0, 10708.0, 15340.0, 10070.0, 10870.0, 9448.0, 11325.0, 18725.0, 8001.0, 13850.0, 9099.0, 10227.0, 8649.0, 10150.0, 16524.0, 7859.0, 14193.0, 8684.0, 9565.0, 8209.0, 10638.0, 16117.0, 7917.0, 14179.0, 8312.0, 9283.0, 8043.0, 10605.0], \"yaxis\": \"y\"}, {\"hoverlabel\": {\"namelength\": 0}, \"hovertemplate\": \"count_type=promotions_count_mean<br>date=%{x}<br>count=%{y}\", \"legendgroup\": \"count_type=promotions_count_mean\", \"line\": {\"color\": \"#EF553B\", \"dash\": \"solid\"}, \"mode\": \"lines\", \"name\": \"count_type=promotions_count_mean\", \"showlegend\": true, \"type\": \"scatter\", \"x\": [\"2017-01-01T00:00:00\", \"2017-01-02T00:00:00\", \"2017-01-03T00:00:00\", \"2017-01-04T00:00:00\", \"2017-01-05T00:00:00\", \"2017-01-06T00:00:00\", \"2017-01-07T00:00:00\", \"2017-01-08T00:00:00\", \"2017-01-09T00:00:00\", \"2017-01-10T00:00:00\", \"2017-01-11T00:00:00\", \"2017-01-12T00:00:00\", \"2017-01-13T00:00:00\", \"2017-01-14T00:00:00\", \"2017-01-15T00:00:00\", \"2017-01-16T00:00:00\", \"2017-01-17T00:00:00\", \"2017-01-18T00:00:00\", \"2017-01-19T00:00:00\", \"2017-01-20T00:00:00\", \"2017-01-21T00:00:00\", \"2017-01-22T00:00:00\", \"2017-01-23T00:00:00\", \"2017-01-24T00:00:00\", \"2017-01-25T00:00:00\", \"2017-01-26T00:00:00\", \"2017-01-27T00:00:00\", \"2017-01-28T00:00:00\", \"2017-01-29T00:00:00\", \"2017-01-30T00:00:00\", \"2017-01-31T00:00:00\", \"2017-02-01T00:00:00\", \"2017-02-02T00:00:00\", \"2017-02-03T00:00:00\", \"2017-02-04T00:00:00\", \"2017-02-05T00:00:00\", \"2017-02-06T00:00:00\", \"2017-02-07T00:00:00\", \"2017-02-08T00:00:00\", \"2017-02-09T00:00:00\", \"2017-02-10T00:00:00\", \"2017-02-11T00:00:00\", \"2017-02-12T00:00:00\", \"2017-02-13T00:00:00\", \"2017-02-14T00:00:00\", \"2017-02-15T00:00:00\", \"2017-02-16T00:00:00\", \"2017-02-17T00:00:00\", \"2017-02-18T00:00:00\", \"2017-02-19T00:00:00\", \"2017-02-20T00:00:00\", \"2017-02-21T00:00:00\", \"2017-02-22T00:00:00\", \"2017-02-23T00:00:00\", \"2017-02-24T00:00:00\", \"2017-02-25T00:00:00\", \"2017-02-26T00:00:00\", \"2017-02-27T00:00:00\", \"2017-02-28T00:00:00\", \"2017-03-01T00:00:00\", \"2017-03-02T00:00:00\", \"2017-03-03T00:00:00\", \"2017-03-04T00:00:00\", \"2017-03-05T00:00:00\", \"2017-03-06T00:00:00\", \"2017-03-07T00:00:00\", \"2017-03-08T00:00:00\", \"2017-03-09T00:00:00\", \"2017-03-10T00:00:00\", \"2017-03-11T00:00:00\", \"2017-03-12T00:00:00\", \"2017-03-13T00:00:00\", \"2017-03-14T00:00:00\", \"2017-03-15T00:00:00\", \"2017-03-16T00:00:00\", \"2017-03-17T00:00:00\", \"2017-03-18T00:00:00\", \"2017-03-19T00:00:00\", \"2017-03-20T00:00:00\", \"2017-03-21T00:00:00\", \"2017-03-22T00:00:00\", \"2017-03-23T00:00:00\", \"2017-03-24T00:00:00\", \"2017-03-25T00:00:00\", \"2017-03-26T00:00:00\", \"2017-03-27T00:00:00\", \"2017-03-28T00:00:00\", \"2017-03-29T00:00:00\", \"2017-03-30T00:00:00\", \"2017-03-31T00:00:00\", \"2017-04-01T00:00:00\", \"2017-04-02T00:00:00\", \"2017-04-03T00:00:00\", \"2017-04-04T00:00:00\", \"2017-04-05T00:00:00\", \"2017-04-06T00:00:00\", \"2017-04-07T00:00:00\", \"2017-04-08T00:00:00\", \"2017-04-09T00:00:00\", \"2017-04-10T00:00:00\", \"2017-04-11T00:00:00\", \"2017-04-12T00:00:00\", \"2017-04-13T00:00:00\", \"2017-04-14T00:00:00\", \"2017-04-15T00:00:00\", \"2017-04-16T00:00:00\", \"2017-04-17T00:00:00\", \"2017-04-18T00:00:00\", \"2017-04-19T00:00:00\", \"2017-04-20T00:00:00\", \"2017-04-21T00:00:00\", \"2017-04-22T00:00:00\", \"2017-04-23T00:00:00\", \"2017-04-24T00:00:00\", \"2017-04-25T00:00:00\", \"2017-04-26T00:00:00\", \"2017-04-27T00:00:00\", \"2017-04-28T00:00:00\", \"2017-04-29T00:00:00\", \"2017-04-30T00:00:00\", \"2017-05-01T00:00:00\", \"2017-05-02T00:00:00\", \"2017-05-03T00:00:00\", \"2017-05-04T00:00:00\", \"2017-05-05T00:00:00\", \"2017-05-06T00:00:00\", \"2017-05-07T00:00:00\", \"2017-05-08T00:00:00\", \"2017-05-09T00:00:00\", \"2017-05-10T00:00:00\", \"2017-05-11T00:00:00\", \"2017-05-12T00:00:00\", \"2017-05-13T00:00:00\", \"2017-05-14T00:00:00\", \"2017-05-15T00:00:00\", \"2017-05-16T00:00:00\", \"2017-05-17T00:00:00\", \"2017-05-18T00:00:00\", \"2017-05-19T00:00:00\", \"2017-05-20T00:00:00\", \"2017-05-21T00:00:00\", \"2017-05-22T00:00:00\", \"2017-05-23T00:00:00\", \"2017-05-24T00:00:00\", \"2017-05-25T00:00:00\", \"2017-05-26T00:00:00\", \"2017-05-27T00:00:00\", \"2017-05-28T00:00:00\", \"2017-05-29T00:00:00\", \"2017-05-30T00:00:00\", \"2017-05-31T00:00:00\", \"2017-06-01T00:00:00\", \"2017-06-02T00:00:00\", \"2017-06-03T00:00:00\", \"2017-06-04T00:00:00\", \"2017-06-05T00:00:00\", \"2017-06-06T00:00:00\", \"2017-06-07T00:00:00\", \"2017-06-08T00:00:00\", \"2017-06-09T00:00:00\", \"2017-06-10T00:00:00\", \"2017-06-11T00:00:00\", \"2017-06-12T00:00:00\", \"2017-06-13T00:00:00\", \"2017-06-14T00:00:00\", \"2017-06-15T00:00:00\", \"2017-06-16T00:00:00\", \"2017-06-17T00:00:00\", \"2017-06-18T00:00:00\", \"2017-06-19T00:00:00\", \"2017-06-20T00:00:00\", \"2017-06-21T00:00:00\", \"2017-06-22T00:00:00\", \"2017-06-23T00:00:00\", \"2017-06-24T00:00:00\", \"2017-06-25T00:00:00\", \"2017-06-26T00:00:00\", \"2017-06-27T00:00:00\", \"2017-06-28T00:00:00\", \"2017-06-29T00:00:00\", \"2017-06-30T00:00:00\", \"2017-07-01T00:00:00\", \"2017-07-02T00:00:00\", \"2017-07-03T00:00:00\", \"2017-07-04T00:00:00\", \"2017-07-05T00:00:00\", \"2017-07-06T00:00:00\", \"2017-07-07T00:00:00\", \"2017-07-08T00:00:00\", \"2017-07-09T00:00:00\", \"2017-07-10T00:00:00\", \"2017-07-11T00:00:00\", \"2017-07-12T00:00:00\", \"2017-07-13T00:00:00\", \"2017-07-14T00:00:00\", \"2017-07-15T00:00:00\", \"2017-07-16T00:00:00\", \"2017-07-17T00:00:00\", \"2017-07-18T00:00:00\", \"2017-07-19T00:00:00\", \"2017-07-20T00:00:00\", \"2017-07-21T00:00:00\", \"2017-07-22T00:00:00\", \"2017-07-23T00:00:00\", \"2017-07-24T00:00:00\", \"2017-07-25T00:00:00\", \"2017-07-26T00:00:00\", \"2017-07-27T00:00:00\", \"2017-07-28T00:00:00\", \"2017-07-29T00:00:00\", \"2017-07-30T00:00:00\", \"2017-07-31T00:00:00\", \"2017-08-01T00:00:00\", \"2017-08-02T00:00:00\", \"2017-08-03T00:00:00\", \"2017-08-04T00:00:00\", \"2017-08-05T00:00:00\", \"2017-08-06T00:00:00\", \"2017-08-07T00:00:00\", \"2017-08-08T00:00:00\", \"2017-08-09T00:00:00\", \"2017-08-10T00:00:00\", \"2017-08-11T00:00:00\", \"2017-08-12T00:00:00\", \"2017-08-13T00:00:00\", \"2017-08-14T00:00:00\", \"2017-08-15T00:00:00\"], \"xaxis\": \"x\", \"y\": [170.0, 5991.0, 8629.333333333334, 12201.5, 11471.2, 12149.166666666666, 11900.142857142857, 11822.25, 11580.555555555555, 11604.5, 12122.363636363636, 11912.25, 12201.615384615385, 12093.07142857143, 12056.733333333334, 11922.6875, 11931.0, 12308.333333333334, 12167.526315789473, 12301.85, 12201.47619047619, 12158.545454545454, 12036.695652173914, 12032.666666666666, 12292.64, 12110.692307692309, 12147.777777777777, 12009.07142857143, 11914.275862068966, 11761.466666666667, 11723.483870967742, 11868.84375, 11752.121212121212, 11808.088235294117, 11707.914285714285, 11634.138888888889, 11528.72972972973, 11487.552631578947, 11682.820512820514, 11571.075, 11596.341463414634, 11506.904761904761, 11443.953488372093, 11354.931818181818, 11317.111111111111, 11445.021739130434, 11373.936170212766, 11420.625, 11359.673469387755, 11314.86, 11250.019607843138, 11234.365384615385, 11326.094339622641, 11271.425925925925, 11323.709090909091, 11282.30357142857, 11246.82456140351, 11197.706896551725, 11198.0, 11321.716666666667, 11286.704918032787, 11351.564516129032, 11324.730158730159, 11309.6875, 11260.307692307691, 11249.636363636364, 11321.626865671642, 11263.073529411764, 11291.840579710144, 11239.242857142857, 11201.985915492958, 11145.597222222223, 11125.109589041096, 11183.364864864865, 11135.173333333334, 11176.328947368422, 11144.233766233767, 11124.166666666666, 11089.037974683544, 11089.325, 11150.592592592593, 11098.012195121952, 11122.734939759037, 11091.75, 11072.24705882353, 11035.17441860465, 11030.793103448275, 11100.34090909091, 11078.044943820225, 11110.81111111111, 11070.582417582418, 11036.619565217392, 10988.322580645161, 10970.531914893618, 11013.936842105262, 10971.84375, 10987.37113402062, 10952.469387755102, 10926.919191919193, 10884.27, 10872.356435643564, 10943.156862745098, 10936.087378640777, 10982.971153846154, 10980.180952380952, 10986.745283018869, 10978.943925233645, 10988.212962962964, 11067.385321100917, 11068.872727272726, 11133.936936936936, 11150.348214285714, 11178.008849557522, 11189.394736842105, 11221.173913043478, 11306.681034482759, 11317.752136752137, 11382.77966101695, 11401.773109243697, 11425.125, 11435.933884297521, 11458.22131147541, 11537.268292682927, 11525.193548387097, 11560.256, 11550.619047619048, 11550.24409448819, 11534.6328125, 11538.550387596899, 11605.884615384615, 11602.091603053435, 11640.871212121212, 11645.263157894737, 11653.0, 11650.125925925926, 11665.088235294117, 11715.83211678832, 11707.702898550724, 11736.46762589928, 11730.07142857143, 11732.219858156028, 11720.295774647888, 11724.293706293707, 11787.666666666666, 11772.075862068965, 11804.171232876712, 11796.00680272109, 11796.398648648648, 11784.71812080537, 11788.026666666667, 11825.569536423842, 11770.782894736842, 11781.954248366013, 11766.077922077922, 11757.987096774194, 11738.705128205129, 11736.031847133758, 11771.683544303798, 11764.446540880503, 11789.125, 11789.142857142857, 11797.771604938273, 11791.981595092024, 11800.481707317073, 11850.290909090909, 11839.632530120482, 11863.467065868263, 11861.702380952382, 11864.05325443787, 11855.435294117648, 11862.549707602338, 11915.726744186046, 11914.023121387283, 11947.114942528735, 11948.914285714285, 11956.994318181818, 11950.77966101695, 11957.623595505618, 12003.324022346369, 12011.1, 12045.54143646409, 12050.87912087912, 12060.88524590164, 12062.342391304348, 12077.616216216216, 12136.602150537634, 12142.245989304813, 12175.984042553191, 12182.608465608466, 12193.61052631579, 12193.848167539267, 12205.489583333334, 12247.046632124353, 12236.48969072165, 12256.092307692308, 12250.086734693878, 12247.395939086295, 12236.328282828283, 12235.467336683418, 12265.295, 12257.547263681592, 12272.80693069307, 12261.95566502463, 12255.132352941177, 12241.439024390244, 12236.990291262136, 12268.333333333334, 12247.817307692309, 12255.483253588516, 12240.452380952382, 12230.909952606635, 12214.014150943396, 12204.323943661971, 12224.509345794393, 12204.20465116279, 12213.412037037036, 12197.147465437789, 12185.073394495414, 12166.917808219177, 12159.968181818182, 12177.87330316742, 12158.68018018018, 12167.739910313901, 12150.526785714286, 12137.782222222222, 12119.663716814159, 12112.991189427314], \"yaxis\": \"y\"}],\n",
       "                        {\"height\": 600, \"legend\": {\"tracegroupgap\": 0}, \"margin\": {\"t\": 60}, \"template\": {\"data\": {\"bar\": [{\"error_x\": {\"color\": \"#2a3f5f\"}, \"error_y\": {\"color\": \"#2a3f5f\"}, \"marker\": {\"line\": {\"color\": \"#E5ECF6\", \"width\": 0.5}}, \"type\": \"bar\"}], \"barpolar\": [{\"marker\": {\"line\": {\"color\": \"#E5ECF6\", \"width\": 0.5}}, \"type\": \"barpolar\"}], \"carpet\": [{\"aaxis\": {\"endlinecolor\": \"#2a3f5f\", \"gridcolor\": \"white\", \"linecolor\": \"white\", \"minorgridcolor\": \"white\", \"startlinecolor\": \"#2a3f5f\"}, \"baxis\": {\"endlinecolor\": \"#2a3f5f\", \"gridcolor\": \"white\", \"linecolor\": \"white\", \"minorgridcolor\": \"white\", \"startlinecolor\": \"#2a3f5f\"}, \"type\": \"carpet\"}], \"choropleth\": [{\"colorbar\": {\"outlinewidth\": 0, \"ticks\": \"\"}, \"type\": \"choropleth\"}], \"contour\": [{\"colorbar\": {\"outlinewidth\": 0, \"ticks\": \"\"}, \"colorscale\": [[0.0, \"#0d0887\"], [0.1111111111111111, \"#46039f\"], [0.2222222222222222, \"#7201a8\"], [0.3333333333333333, \"#9c179e\"], [0.4444444444444444, \"#bd3786\"], [0.5555555555555556, \"#d8576b\"], [0.6666666666666666, \"#ed7953\"], [0.7777777777777778, \"#fb9f3a\"], [0.8888888888888888, \"#fdca26\"], [1.0, \"#f0f921\"]], \"type\": \"contour\"}], \"contourcarpet\": [{\"colorbar\": {\"outlinewidth\": 0, \"ticks\": \"\"}, \"type\": \"contourcarpet\"}], \"heatmap\": [{\"colorbar\": {\"outlinewidth\": 0, \"ticks\": \"\"}, \"colorscale\": [[0.0, \"#0d0887\"], [0.1111111111111111, \"#46039f\"], [0.2222222222222222, \"#7201a8\"], [0.3333333333333333, \"#9c179e\"], [0.4444444444444444, \"#bd3786\"], [0.5555555555555556, \"#d8576b\"], [0.6666666666666666, \"#ed7953\"], [0.7777777777777778, \"#fb9f3a\"], [0.8888888888888888, \"#fdca26\"], [1.0, \"#f0f921\"]], \"type\": \"heatmap\"}], \"heatmapgl\": [{\"colorbar\": {\"outlinewidth\": 0, \"ticks\": \"\"}, \"colorscale\": [[0.0, \"#0d0887\"], [0.1111111111111111, \"#46039f\"], [0.2222222222222222, \"#7201a8\"], [0.3333333333333333, \"#9c179e\"], [0.4444444444444444, \"#bd3786\"], [0.5555555555555556, \"#d8576b\"], [0.6666666666666666, \"#ed7953\"], [0.7777777777777778, \"#fb9f3a\"], [0.8888888888888888, \"#fdca26\"], [1.0, \"#f0f921\"]], \"type\": \"heatmapgl\"}], \"histogram\": [{\"marker\": {\"colorbar\": {\"outlinewidth\": 0, \"ticks\": \"\"}}, \"type\": \"histogram\"}], \"histogram2d\": [{\"colorbar\": {\"outlinewidth\": 0, \"ticks\": \"\"}, \"colorscale\": [[0.0, \"#0d0887\"], [0.1111111111111111, \"#46039f\"], [0.2222222222222222, \"#7201a8\"], [0.3333333333333333, \"#9c179e\"], [0.4444444444444444, \"#bd3786\"], [0.5555555555555556, \"#d8576b\"], [0.6666666666666666, \"#ed7953\"], [0.7777777777777778, \"#fb9f3a\"], [0.8888888888888888, \"#fdca26\"], [1.0, \"#f0f921\"]], \"type\": \"histogram2d\"}], \"histogram2dcontour\": [{\"colorbar\": {\"outlinewidth\": 0, \"ticks\": \"\"}, \"colorscale\": [[0.0, \"#0d0887\"], [0.1111111111111111, \"#46039f\"], [0.2222222222222222, \"#7201a8\"], [0.3333333333333333, \"#9c179e\"], [0.4444444444444444, \"#bd3786\"], [0.5555555555555556, \"#d8576b\"], [0.6666666666666666, \"#ed7953\"], [0.7777777777777778, \"#fb9f3a\"], [0.8888888888888888, \"#fdca26\"], [1.0, \"#f0f921\"]], \"type\": \"histogram2dcontour\"}], \"mesh3d\": [{\"colorbar\": {\"outlinewidth\": 0, \"ticks\": \"\"}, \"type\": \"mesh3d\"}], \"parcoords\": [{\"line\": {\"colorbar\": {\"outlinewidth\": 0, \"ticks\": \"\"}}, \"type\": \"parcoords\"}], \"scatter\": [{\"marker\": {\"colorbar\": {\"outlinewidth\": 0, \"ticks\": \"\"}}, \"type\": \"scatter\"}], \"scatter3d\": [{\"line\": {\"colorbar\": {\"outlinewidth\": 0, \"ticks\": \"\"}}, \"marker\": {\"colorbar\": {\"outlinewidth\": 0, \"ticks\": \"\"}}, \"type\": \"scatter3d\"}], \"scattercarpet\": [{\"marker\": {\"colorbar\": {\"outlinewidth\": 0, \"ticks\": \"\"}}, \"type\": \"scattercarpet\"}], \"scattergeo\": [{\"marker\": {\"colorbar\": {\"outlinewidth\": 0, \"ticks\": \"\"}}, \"type\": \"scattergeo\"}], \"scattergl\": [{\"marker\": {\"colorbar\": {\"outlinewidth\": 0, \"ticks\": \"\"}}, \"type\": \"scattergl\"}], \"scattermapbox\": [{\"marker\": {\"colorbar\": {\"outlinewidth\": 0, \"ticks\": \"\"}}, \"type\": \"scattermapbox\"}], \"scatterpolar\": [{\"marker\": {\"colorbar\": {\"outlinewidth\": 0, \"ticks\": \"\"}}, \"type\": \"scatterpolar\"}], \"scatterpolargl\": [{\"marker\": {\"colorbar\": {\"outlinewidth\": 0, \"ticks\": \"\"}}, \"type\": \"scatterpolargl\"}], \"scatterternary\": [{\"marker\": {\"colorbar\": {\"outlinewidth\": 0, \"ticks\": \"\"}}, \"type\": \"scatterternary\"}], \"surface\": [{\"colorbar\": {\"outlinewidth\": 0, \"ticks\": \"\"}, \"colorscale\": [[0.0, \"#0d0887\"], [0.1111111111111111, \"#46039f\"], [0.2222222222222222, \"#7201a8\"], [0.3333333333333333, \"#9c179e\"], [0.4444444444444444, \"#bd3786\"], [0.5555555555555556, \"#d8576b\"], [0.6666666666666666, \"#ed7953\"], [0.7777777777777778, \"#fb9f3a\"], [0.8888888888888888, \"#fdca26\"], [1.0, \"#f0f921\"]], \"type\": \"surface\"}], \"table\": [{\"cells\": {\"fill\": {\"color\": \"#EBF0F8\"}, \"line\": {\"color\": \"white\"}}, \"header\": {\"fill\": {\"color\": \"#C8D4E3\"}, \"line\": {\"color\": \"white\"}}, \"type\": \"table\"}]}, \"layout\": {\"annotationdefaults\": {\"arrowcolor\": \"#2a3f5f\", \"arrowhead\": 0, \"arrowwidth\": 1}, \"colorscale\": {\"diverging\": [[0, \"#8e0152\"], [0.1, \"#c51b7d\"], [0.2, \"#de77ae\"], [0.3, \"#f1b6da\"], [0.4, \"#fde0ef\"], [0.5, \"#f7f7f7\"], [0.6, \"#e6f5d0\"], [0.7, \"#b8e186\"], [0.8, \"#7fbc41\"], [0.9, \"#4d9221\"], [1, \"#276419\"]], \"sequential\": [[0.0, \"#0d0887\"], [0.1111111111111111, \"#46039f\"], [0.2222222222222222, \"#7201a8\"], [0.3333333333333333, \"#9c179e\"], [0.4444444444444444, \"#bd3786\"], [0.5555555555555556, \"#d8576b\"], [0.6666666666666666, \"#ed7953\"], [0.7777777777777778, \"#fb9f3a\"], [0.8888888888888888, \"#fdca26\"], [1.0, \"#f0f921\"]], \"sequentialminus\": [[0.0, \"#0d0887\"], [0.1111111111111111, \"#46039f\"], [0.2222222222222222, \"#7201a8\"], [0.3333333333333333, \"#9c179e\"], [0.4444444444444444, \"#bd3786\"], [0.5555555555555556, \"#d8576b\"], [0.6666666666666666, \"#ed7953\"], [0.7777777777777778, \"#fb9f3a\"], [0.8888888888888888, \"#fdca26\"], [1.0, \"#f0f921\"]]}, \"colorway\": [\"#636efa\", \"#EF553B\", \"#00cc96\", \"#ab63fa\", \"#FFA15A\", \"#19d3f3\", \"#FF6692\", \"#B6E880\", \"#FF97FF\", \"#FECB52\"], \"font\": {\"color\": \"#2a3f5f\"}, \"geo\": {\"bgcolor\": \"white\", \"lakecolor\": \"white\", \"landcolor\": \"#E5ECF6\", \"showlakes\": true, \"showland\": true, \"subunitcolor\": \"white\"}, \"hoverlabel\": {\"align\": \"left\"}, \"hovermode\": \"closest\", \"mapbox\": {\"style\": \"light\"}, \"paper_bgcolor\": \"white\", \"plot_bgcolor\": \"#E5ECF6\", \"polar\": {\"angularaxis\": {\"gridcolor\": \"white\", \"linecolor\": \"white\", \"ticks\": \"\"}, \"bgcolor\": \"#E5ECF6\", \"radialaxis\": {\"gridcolor\": \"white\", \"linecolor\": \"white\", \"ticks\": \"\"}}, \"scene\": {\"xaxis\": {\"backgroundcolor\": \"#E5ECF6\", \"gridcolor\": \"white\", \"gridwidth\": 2, \"linecolor\": \"white\", \"showbackground\": true, \"ticks\": \"\", \"zerolinecolor\": \"white\"}, \"yaxis\": {\"backgroundcolor\": \"#E5ECF6\", \"gridcolor\": \"white\", \"gridwidth\": 2, \"linecolor\": \"white\", \"showbackground\": true, \"ticks\": \"\", \"zerolinecolor\": \"white\"}, \"zaxis\": {\"backgroundcolor\": \"#E5ECF6\", \"gridcolor\": \"white\", \"gridwidth\": 2, \"linecolor\": \"white\", \"showbackground\": true, \"ticks\": \"\", \"zerolinecolor\": \"white\"}}, \"shapedefaults\": {\"line\": {\"color\": \"#2a3f5f\"}}, \"ternary\": {\"aaxis\": {\"gridcolor\": \"white\", \"linecolor\": \"white\", \"ticks\": \"\"}, \"baxis\": {\"gridcolor\": \"white\", \"linecolor\": \"white\", \"ticks\": \"\"}, \"bgcolor\": \"#E5ECF6\", \"caxis\": {\"gridcolor\": \"white\", \"linecolor\": \"white\", \"ticks\": \"\"}}, \"title\": {\"x\": 0.05}, \"xaxis\": {\"automargin\": true, \"gridcolor\": \"white\", \"linecolor\": \"white\", \"ticks\": \"\", \"zerolinecolor\": \"white\", \"zerolinewidth\": 2}, \"yaxis\": {\"automargin\": true, \"gridcolor\": \"white\", \"linecolor\": \"white\", \"ticks\": \"\", \"zerolinecolor\": \"white\", \"zerolinewidth\": 2}}}, \"xaxis\": {\"anchor\": \"y\", \"domain\": [0.0, 0.98], \"title\": {\"text\": \"date\"}}, \"yaxis\": {\"anchor\": \"x\", \"domain\": [0.0, 1.0], \"title\": {\"text\": \"count\"}}},\n",
       "                        {\"responsive\": true}\n",
       "                    ).then(function(){\n",
       "                            \n",
       "var gd = document.getElementById('b4caf4ab-80bc-4414-b2b9-21446345c487');\n",
       "var x = new MutationObserver(function (mutations, observer) {{\n",
       "        var display = window.getComputedStyle(gd).display;\n",
       "        if (!display || display === 'none') {{\n",
       "            console.log([gd, 'removed!']);\n",
       "            Plotly.purge(gd);\n",
       "            observer.disconnect();\n",
       "        }}\n",
       "}});\n",
       "\n",
       "// Listen for the removal of the full notebook cells\n",
       "var notebookContainer = gd.closest('#notebook-container');\n",
       "if (notebookContainer) {{\n",
       "    x.observe(notebookContainer, {childList: true});\n",
       "}}\n",
       "\n",
       "// Listen for the clearing of the current output cell\n",
       "var outputEl = gd.closest('.output');\n",
       "if (outputEl) {{\n",
       "    x.observe(outputEl, {childList: true});\n",
       "}}\n",
       "\n",
       "                        })\n",
       "                };\n",
       "                });\n",
       "            </script>\n",
       "        </div>"
      ]
     },
     "metadata": {},
     "output_type": "display_data"
    }
   ],
   "source": [
    "px.line(daily_promotion_items.reset_index(), x = 'date', y='count', color = 'count_type')"
   ]
  },
  {
   "cell_type": "markdown",
   "metadata": {},
   "source": [
    " We can see, there are pon average 12k items on promotion across the whole chain"
   ]
  },
  {
   "cell_type": "code",
   "execution_count": 193,
   "metadata": {},
   "outputs": [],
   "source": [
    "df_sales_promotions = pd.DataFrame()\n",
    "df_sales_promotions['sales'] = df_2017.sum(axis=0)\n",
    "df_sales_promotions['promo'] = promo_2017_train.sum(axis=0)"
   ]
  },
  {
   "cell_type": "code",
   "execution_count": 202,
   "metadata": {},
   "outputs": [
    {
     "data": {
      "text/html": [
       "<div>\n",
       "<style scoped>\n",
       "    .dataframe tbody tr th:only-of-type {\n",
       "        vertical-align: middle;\n",
       "    }\n",
       "\n",
       "    .dataframe tbody tr th {\n",
       "        vertical-align: top;\n",
       "    }\n",
       "\n",
       "    .dataframe thead th {\n",
       "        text-align: right;\n",
       "    }\n",
       "</style>\n",
       "<table border=\"1\" class=\"dataframe\">\n",
       "  <thead>\n",
       "    <tr style=\"text-align: right;\">\n",
       "      <th></th>\n",
       "      <th>date</th>\n",
       "      <th>sales</th>\n",
       "      <th>promo</th>\n",
       "    </tr>\n",
       "  </thead>\n",
       "  <tbody>\n",
       "    <tr>\n",
       "      <td>0</td>\n",
       "      <td>2017-01-01</td>\n",
       "      <td>2507.591043</td>\n",
       "      <td>170</td>\n",
       "    </tr>\n",
       "    <tr>\n",
       "      <td>1</td>\n",
       "      <td>2017-01-02</td>\n",
       "      <td>227858.550476</td>\n",
       "      <td>11812</td>\n",
       "    </tr>\n",
       "    <tr>\n",
       "      <td>2</td>\n",
       "      <td>2017-01-03</td>\n",
       "      <td>205072.157562</td>\n",
       "      <td>13906</td>\n",
       "    </tr>\n",
       "    <tr>\n",
       "      <td>3</td>\n",
       "      <td>2017-01-04</td>\n",
       "      <td>191666.320894</td>\n",
       "      <td>22918</td>\n",
       "    </tr>\n",
       "    <tr>\n",
       "      <td>4</td>\n",
       "      <td>2017-01-05</td>\n",
       "      <td>171373.423513</td>\n",
       "      <td>8550</td>\n",
       "    </tr>\n",
       "  </tbody>\n",
       "</table>\n",
       "</div>"
      ],
      "text/plain": [
       "        date          sales  promo\n",
       "0 2017-01-01    2507.591043    170\n",
       "1 2017-01-02  227858.550476  11812\n",
       "2 2017-01-03  205072.157562  13906\n",
       "3 2017-01-04  191666.320894  22918\n",
       "4 2017-01-05  171373.423513   8550"
      ]
     },
     "execution_count": 202,
     "metadata": {},
     "output_type": "execute_result"
    }
   ],
   "source": [
    ".head()"
   ]
  },
  {
   "cell_type": "code",
   "execution_count": 196,
   "metadata": {},
   "outputs": [],
   "source": [
    "df_sales_promotions_px = df_sales_promotions.stack().reset_index().rename(columns = {'level_1':'type', 0:'value'})"
   ]
  },
  {
   "cell_type": "code",
   "execution_count": 206,
   "metadata": {
    "scrolled": true
   },
   "outputs": [
    {
     "data": {
      "application/vnd.plotly.v1+json": {
       "config": {
        "plotlyServerURL": "https://plot.ly"
       },
       "data": [
        {
         "hoverlabel": {
          "namelength": 0
         },
         "hovertemplate": "promo=%{x}<br>sales=%{y}",
         "legendgroup": "",
         "marker": {
          "color": "#636efa",
          "symbol": "circle"
         },
         "mode": "markers",
         "name": "",
         "showlegend": false,
         "type": "scatter",
         "x": [
          170,
          11812,
          13906,
          22918,
          8550,
          15539,
          10406,
          11277,
          9647,
          11820,
          17301,
          9601,
          15674,
          10682,
          11548,
          9912,
          12064,
          18723,
          9633,
          14854,
          10194,
          11257,
          9356,
          11940,
          18532,
          7562,
          13112,
          8264,
          9260,
          7330,
          10584,
          16375,
          8017,
          13655,
          8302,
          9052,
          7734,
          9964,
          19103,
          7213,
          12607,
          7840,
          8800,
          7527,
          9653,
          17201,
          8104,
          13615,
          8434,
          9119,
          8008,
          10436,
          16096,
          8374,
          14147,
          9005,
          9260,
          8398,
          11215,
          18621,
          9186,
          15308,
          9661,
          10362,
          8100,
          10556,
          16073,
          7340,
          13248,
          7610,
          8594,
          7142,
          9650,
          15436,
          7569,
          14263,
          8705,
          9579,
          8349,
          11112,
          16052,
          6839,
          13150,
          8520,
          9434,
          7884,
          10654,
          17151,
          9116,
          14027,
          7450,
          7946,
          6545,
          9316,
          15094,
          6973,
          12478,
          7567,
          8423,
          6662,
          9681,
          18094,
          10215,
          15812,
          10690,
          11676,
          10152,
          11980,
          19618,
          11231,
          18291,
          12972,
          14276,
          12476,
          14844,
          21140,
          12602,
          18991,
          13643,
          14204,
          12733,
          14155,
          21181,
          10040,
          15908,
          10346,
          11503,
          9552,
          12040,
          20292,
          11109,
          16721,
          12225,
          12682,
          11265,
          13685,
          18617,
          10594,
          15706,
          10841,
          12033,
          10039,
          12292,
          20850,
          9527,
          16458,
          10604,
          11854,
          10056,
          12281,
          17457,
          3498,
          13480,
          9337,
          10512,
          8750,
          11319,
          17369,
          10621,
          15713,
          11792,
          13187,
          10854,
          13186,
          20019,
          10081,
          15820,
          11567,
          12259,
          10399,
          13072,
          21009,
          11621,
          17672,
          12262,
          13371,
          10857,
          13169,
          20138,
          13403,
          18245,
          13017,
          13882,
          12329,
          14888,
          23049,
          13192,
          18485,
          13428,
          14273,
          12239,
          14429,
          20226,
          10199,
          16059,
          11079,
          11720,
          10056,
          12065,
          18201,
          10708,
          15340,
          10070,
          10870,
          9448,
          11325,
          18725,
          8001,
          13850,
          9099,
          10227,
          8649,
          10150,
          16524,
          7859,
          14193,
          8684,
          9565,
          8209,
          10638,
          16117,
          7917,
          14179,
          8312,
          9283,
          8043,
          10605
         ],
         "xaxis": "x",
         "y": [
          2507.591043317843,
          227858.55047605917,
          205072.15756210202,
          191666.32089441863,
          171373.4235133792,
          174187.3347523061,
          205905.77252312313,
          209304.1746629663,
          171027.9933117348,
          164696.77875040798,
          164865.2852297332,
          150891.42484624576,
          165217.88650695834,
          198011.58041508414,
          208006.61532810508,
          175190.84441829452,
          165020.5239719204,
          165958.2227674435,
          149021.66372964074,
          161025.7161270955,
          202910.46396159776,
          205224.28712293928,
          172981.9095607189,
          162758.90295946575,
          162148.7466396879,
          146376.49374518447,
          163162.75756171456,
          197956.27127224262,
          203887.16906434167,
          162744.24041198613,
          175185.30032176577,
          192759.87423448736,
          172909.88395629314,
          179162.9521598742,
          214338.44046008232,
          210627.47706982004,
          174652.9666505304,
          168836.1061197478,
          168943.51379943636,
          153310.4019410051,
          166191.35677057345,
          194229.88424502994,
          203166.4799239517,
          174980.03823577345,
          156263.69086788784,
          166963.77096898248,
          157048.9256829022,
          168018.50993284612,
          203430.0008382254,
          180682.46042738628,
          170091.5101826963,
          165193.84827302082,
          164264.7366431205,
          160848.90609520982,
          175514.4164470136,
          203173.55174182603,
          169986.33300025106,
          164561.07124347353,
          188676.68325826337,
          197411.4781829005,
          181382.2984177368,
          181886.2445577255,
          211140.26541010788,
          211813.05568992486,
          171426.8155770933,
          168395.8273728526,
          166574.14529078547,
          156741.9342658169,
          167928.51562421955,
          196519.5724757646,
          205212.1868383169,
          167037.4538541929,
          159844.5694726861,
          173018.1130324942,
          161247.00491506784,
          171811.33752895638,
          199925.93652916423,
          204846.1687598913,
          175786.94640485692,
          166712.37815930592,
          165196.82528209704,
          153322.1398560795,
          167034.1209839052,
          197876.01521655923,
          198926.69040250444,
          167897.18268275153,
          158513.16192905468,
          171066.36033106712,
          155416.8100364838,
          182004.0731127577,
          236904.97604164563,
          204558.97848673296,
          176614.4391871358,
          177826.35539718915,
          176515.49038040152,
          160474.29053023248,
          167338.58238739485,
          196130.3384485309,
          201458.0352327855,
          165995.03194746,
          163543.0239011608,
          163895.61050465,
          167124.03622551978,
          166789.08468916253,
          188115.9575247315,
          193205.20229858422,
          171518.90214604966,
          164202.65577288868,
          161925.37190872643,
          161829.24380188747,
          173404.57706193728,
          196999.2076020826,
          210403.132404216,
          170638.42624235596,
          166187.3675687531,
          168901.76604413474,
          154801.13821353702,
          173687.47576838266,
          210440.5175865665,
          203942.6200992701,
          225648.92671038132,
          188493.60148963606,
          185334.135600756,
          164419.8918597522,
          168981.57942535466,
          204982.77700467047,
          217978.36459443797,
          171198.29145708424,
          164729.0137077345,
          166133.63377217273,
          154779.95114532317,
          165973.50093019562,
          209904.08427351151,
          186142.36813660568,
          177450.4276061927,
          177499.52496213693,
          174241.31263873813,
          152904.56263691158,
          167450.76995187163,
          202445.77357120713,
          214874.8577178372,
          172057.16984833783,
          166283.29194164832,
          164415.48843583785,
          152391.2724471145,
          194863.34180131182,
          192781.62311518428,
          203012.9287006031,
          171622.94660974047,
          167896.25509323462,
          179100.07658184445,
          175396.91419340638,
          186411.4761254498,
          216182.8734693824,
          227544.93575283693,
          182722.48948678395,
          172596.56452040208,
          172300.36944328446,
          155259.68355727333,
          168459.50917545843,
          196036.3179620539,
          212332.70009563264,
          167782.36085220697,
          162847.6922084093,
          165220.83496876011,
          158763.11414989972,
          175426.6148639108,
          208119.01992712123,
          192223.91338637008,
          173279.98246938887,
          171929.6120019673,
          167488.62892416437,
          152064.3120575393,
          168315.99289326015,
          196795.6683556656,
          204760.7898342589,
          169681.40744045086,
          160724.9607139068,
          163976.12827264724,
          155184.00213916742,
          174682.38430859664,
          222433.80539067546,
          225129.2639250377,
          191060.66092072468,
          181054.21577840668,
          178132.03619502165,
          163355.7331324553,
          172494.62667215627,
          198707.88687173757,
          205303.3562961151,
          173540.3062371873,
          164535.89613681354,
          165009.36277767012,
          151734.1043107476,
          166900.3122709504,
          194846.16218331066,
          203338.86909424036,
          175072.91250038485,
          164578.14731015262,
          165430.77056538835,
          159647.65884383098,
          168005.68264500686,
          190105.64924130475,
          196660.01961807313,
          175781.90835107834,
          163300.00220369108,
          162058.9971025961,
          151813.41680223262,
          171258.64453327993,
          197266.62984948597,
          202177.60862290583,
          181851.0234905851,
          193035.7365385554,
          187371.33218771167,
          166133.00234730545,
          174868.76836339396,
          195610.30838951058,
          200435.66726285158,
          173651.85641340498,
          164277.11819288475,
          163976.009449851,
          154912.08449597945,
          175904.2037315206,
          174156.31678537474,
          180919.9794854874,
          168544.5514717251,
          168885.40482342817
         ],
         "yaxis": "y"
        }
       ],
       "layout": {
        "height": 600,
        "legend": {
         "tracegroupgap": 0
        },
        "margin": {
         "t": 60
        },
        "template": {
         "data": {
          "bar": [
           {
            "error_x": {
             "color": "#2a3f5f"
            },
            "error_y": {
             "color": "#2a3f5f"
            },
            "marker": {
             "line": {
              "color": "#E5ECF6",
              "width": 0.5
             }
            },
            "type": "bar"
           }
          ],
          "barpolar": [
           {
            "marker": {
             "line": {
              "color": "#E5ECF6",
              "width": 0.5
             }
            },
            "type": "barpolar"
           }
          ],
          "carpet": [
           {
            "aaxis": {
             "endlinecolor": "#2a3f5f",
             "gridcolor": "white",
             "linecolor": "white",
             "minorgridcolor": "white",
             "startlinecolor": "#2a3f5f"
            },
            "baxis": {
             "endlinecolor": "#2a3f5f",
             "gridcolor": "white",
             "linecolor": "white",
             "minorgridcolor": "white",
             "startlinecolor": "#2a3f5f"
            },
            "type": "carpet"
           }
          ],
          "choropleth": [
           {
            "colorbar": {
             "outlinewidth": 0,
             "ticks": ""
            },
            "type": "choropleth"
           }
          ],
          "contour": [
           {
            "colorbar": {
             "outlinewidth": 0,
             "ticks": ""
            },
            "colorscale": [
             [
              0,
              "#0d0887"
             ],
             [
              0.1111111111111111,
              "#46039f"
             ],
             [
              0.2222222222222222,
              "#7201a8"
             ],
             [
              0.3333333333333333,
              "#9c179e"
             ],
             [
              0.4444444444444444,
              "#bd3786"
             ],
             [
              0.5555555555555556,
              "#d8576b"
             ],
             [
              0.6666666666666666,
              "#ed7953"
             ],
             [
              0.7777777777777778,
              "#fb9f3a"
             ],
             [
              0.8888888888888888,
              "#fdca26"
             ],
             [
              1,
              "#f0f921"
             ]
            ],
            "type": "contour"
           }
          ],
          "contourcarpet": [
           {
            "colorbar": {
             "outlinewidth": 0,
             "ticks": ""
            },
            "type": "contourcarpet"
           }
          ],
          "heatmap": [
           {
            "colorbar": {
             "outlinewidth": 0,
             "ticks": ""
            },
            "colorscale": [
             [
              0,
              "#0d0887"
             ],
             [
              0.1111111111111111,
              "#46039f"
             ],
             [
              0.2222222222222222,
              "#7201a8"
             ],
             [
              0.3333333333333333,
              "#9c179e"
             ],
             [
              0.4444444444444444,
              "#bd3786"
             ],
             [
              0.5555555555555556,
              "#d8576b"
             ],
             [
              0.6666666666666666,
              "#ed7953"
             ],
             [
              0.7777777777777778,
              "#fb9f3a"
             ],
             [
              0.8888888888888888,
              "#fdca26"
             ],
             [
              1,
              "#f0f921"
             ]
            ],
            "type": "heatmap"
           }
          ],
          "heatmapgl": [
           {
            "colorbar": {
             "outlinewidth": 0,
             "ticks": ""
            },
            "colorscale": [
             [
              0,
              "#0d0887"
             ],
             [
              0.1111111111111111,
              "#46039f"
             ],
             [
              0.2222222222222222,
              "#7201a8"
             ],
             [
              0.3333333333333333,
              "#9c179e"
             ],
             [
              0.4444444444444444,
              "#bd3786"
             ],
             [
              0.5555555555555556,
              "#d8576b"
             ],
             [
              0.6666666666666666,
              "#ed7953"
             ],
             [
              0.7777777777777778,
              "#fb9f3a"
             ],
             [
              0.8888888888888888,
              "#fdca26"
             ],
             [
              1,
              "#f0f921"
             ]
            ],
            "type": "heatmapgl"
           }
          ],
          "histogram": [
           {
            "marker": {
             "colorbar": {
              "outlinewidth": 0,
              "ticks": ""
             }
            },
            "type": "histogram"
           }
          ],
          "histogram2d": [
           {
            "colorbar": {
             "outlinewidth": 0,
             "ticks": ""
            },
            "colorscale": [
             [
              0,
              "#0d0887"
             ],
             [
              0.1111111111111111,
              "#46039f"
             ],
             [
              0.2222222222222222,
              "#7201a8"
             ],
             [
              0.3333333333333333,
              "#9c179e"
             ],
             [
              0.4444444444444444,
              "#bd3786"
             ],
             [
              0.5555555555555556,
              "#d8576b"
             ],
             [
              0.6666666666666666,
              "#ed7953"
             ],
             [
              0.7777777777777778,
              "#fb9f3a"
             ],
             [
              0.8888888888888888,
              "#fdca26"
             ],
             [
              1,
              "#f0f921"
             ]
            ],
            "type": "histogram2d"
           }
          ],
          "histogram2dcontour": [
           {
            "colorbar": {
             "outlinewidth": 0,
             "ticks": ""
            },
            "colorscale": [
             [
              0,
              "#0d0887"
             ],
             [
              0.1111111111111111,
              "#46039f"
             ],
             [
              0.2222222222222222,
              "#7201a8"
             ],
             [
              0.3333333333333333,
              "#9c179e"
             ],
             [
              0.4444444444444444,
              "#bd3786"
             ],
             [
              0.5555555555555556,
              "#d8576b"
             ],
             [
              0.6666666666666666,
              "#ed7953"
             ],
             [
              0.7777777777777778,
              "#fb9f3a"
             ],
             [
              0.8888888888888888,
              "#fdca26"
             ],
             [
              1,
              "#f0f921"
             ]
            ],
            "type": "histogram2dcontour"
           }
          ],
          "mesh3d": [
           {
            "colorbar": {
             "outlinewidth": 0,
             "ticks": ""
            },
            "type": "mesh3d"
           }
          ],
          "parcoords": [
           {
            "line": {
             "colorbar": {
              "outlinewidth": 0,
              "ticks": ""
             }
            },
            "type": "parcoords"
           }
          ],
          "scatter": [
           {
            "marker": {
             "colorbar": {
              "outlinewidth": 0,
              "ticks": ""
             }
            },
            "type": "scatter"
           }
          ],
          "scatter3d": [
           {
            "line": {
             "colorbar": {
              "outlinewidth": 0,
              "ticks": ""
             }
            },
            "marker": {
             "colorbar": {
              "outlinewidth": 0,
              "ticks": ""
             }
            },
            "type": "scatter3d"
           }
          ],
          "scattercarpet": [
           {
            "marker": {
             "colorbar": {
              "outlinewidth": 0,
              "ticks": ""
             }
            },
            "type": "scattercarpet"
           }
          ],
          "scattergeo": [
           {
            "marker": {
             "colorbar": {
              "outlinewidth": 0,
              "ticks": ""
             }
            },
            "type": "scattergeo"
           }
          ],
          "scattergl": [
           {
            "marker": {
             "colorbar": {
              "outlinewidth": 0,
              "ticks": ""
             }
            },
            "type": "scattergl"
           }
          ],
          "scattermapbox": [
           {
            "marker": {
             "colorbar": {
              "outlinewidth": 0,
              "ticks": ""
             }
            },
            "type": "scattermapbox"
           }
          ],
          "scatterpolar": [
           {
            "marker": {
             "colorbar": {
              "outlinewidth": 0,
              "ticks": ""
             }
            },
            "type": "scatterpolar"
           }
          ],
          "scatterpolargl": [
           {
            "marker": {
             "colorbar": {
              "outlinewidth": 0,
              "ticks": ""
             }
            },
            "type": "scatterpolargl"
           }
          ],
          "scatterternary": [
           {
            "marker": {
             "colorbar": {
              "outlinewidth": 0,
              "ticks": ""
             }
            },
            "type": "scatterternary"
           }
          ],
          "surface": [
           {
            "colorbar": {
             "outlinewidth": 0,
             "ticks": ""
            },
            "colorscale": [
             [
              0,
              "#0d0887"
             ],
             [
              0.1111111111111111,
              "#46039f"
             ],
             [
              0.2222222222222222,
              "#7201a8"
             ],
             [
              0.3333333333333333,
              "#9c179e"
             ],
             [
              0.4444444444444444,
              "#bd3786"
             ],
             [
              0.5555555555555556,
              "#d8576b"
             ],
             [
              0.6666666666666666,
              "#ed7953"
             ],
             [
              0.7777777777777778,
              "#fb9f3a"
             ],
             [
              0.8888888888888888,
              "#fdca26"
             ],
             [
              1,
              "#f0f921"
             ]
            ],
            "type": "surface"
           }
          ],
          "table": [
           {
            "cells": {
             "fill": {
              "color": "#EBF0F8"
             },
             "line": {
              "color": "white"
             }
            },
            "header": {
             "fill": {
              "color": "#C8D4E3"
             },
             "line": {
              "color": "white"
             }
            },
            "type": "table"
           }
          ]
         },
         "layout": {
          "annotationdefaults": {
           "arrowcolor": "#2a3f5f",
           "arrowhead": 0,
           "arrowwidth": 1
          },
          "colorscale": {
           "diverging": [
            [
             0,
             "#8e0152"
            ],
            [
             0.1,
             "#c51b7d"
            ],
            [
             0.2,
             "#de77ae"
            ],
            [
             0.3,
             "#f1b6da"
            ],
            [
             0.4,
             "#fde0ef"
            ],
            [
             0.5,
             "#f7f7f7"
            ],
            [
             0.6,
             "#e6f5d0"
            ],
            [
             0.7,
             "#b8e186"
            ],
            [
             0.8,
             "#7fbc41"
            ],
            [
             0.9,
             "#4d9221"
            ],
            [
             1,
             "#276419"
            ]
           ],
           "sequential": [
            [
             0,
             "#0d0887"
            ],
            [
             0.1111111111111111,
             "#46039f"
            ],
            [
             0.2222222222222222,
             "#7201a8"
            ],
            [
             0.3333333333333333,
             "#9c179e"
            ],
            [
             0.4444444444444444,
             "#bd3786"
            ],
            [
             0.5555555555555556,
             "#d8576b"
            ],
            [
             0.6666666666666666,
             "#ed7953"
            ],
            [
             0.7777777777777778,
             "#fb9f3a"
            ],
            [
             0.8888888888888888,
             "#fdca26"
            ],
            [
             1,
             "#f0f921"
            ]
           ],
           "sequentialminus": [
            [
             0,
             "#0d0887"
            ],
            [
             0.1111111111111111,
             "#46039f"
            ],
            [
             0.2222222222222222,
             "#7201a8"
            ],
            [
             0.3333333333333333,
             "#9c179e"
            ],
            [
             0.4444444444444444,
             "#bd3786"
            ],
            [
             0.5555555555555556,
             "#d8576b"
            ],
            [
             0.6666666666666666,
             "#ed7953"
            ],
            [
             0.7777777777777778,
             "#fb9f3a"
            ],
            [
             0.8888888888888888,
             "#fdca26"
            ],
            [
             1,
             "#f0f921"
            ]
           ]
          },
          "colorway": [
           "#636efa",
           "#EF553B",
           "#00cc96",
           "#ab63fa",
           "#FFA15A",
           "#19d3f3",
           "#FF6692",
           "#B6E880",
           "#FF97FF",
           "#FECB52"
          ],
          "font": {
           "color": "#2a3f5f"
          },
          "geo": {
           "bgcolor": "white",
           "lakecolor": "white",
           "landcolor": "#E5ECF6",
           "showlakes": true,
           "showland": true,
           "subunitcolor": "white"
          },
          "hoverlabel": {
           "align": "left"
          },
          "hovermode": "closest",
          "mapbox": {
           "style": "light"
          },
          "paper_bgcolor": "white",
          "plot_bgcolor": "#E5ECF6",
          "polar": {
           "angularaxis": {
            "gridcolor": "white",
            "linecolor": "white",
            "ticks": ""
           },
           "bgcolor": "#E5ECF6",
           "radialaxis": {
            "gridcolor": "white",
            "linecolor": "white",
            "ticks": ""
           }
          },
          "scene": {
           "xaxis": {
            "backgroundcolor": "#E5ECF6",
            "gridcolor": "white",
            "gridwidth": 2,
            "linecolor": "white",
            "showbackground": true,
            "ticks": "",
            "zerolinecolor": "white"
           },
           "yaxis": {
            "backgroundcolor": "#E5ECF6",
            "gridcolor": "white",
            "gridwidth": 2,
            "linecolor": "white",
            "showbackground": true,
            "ticks": "",
            "zerolinecolor": "white"
           },
           "zaxis": {
            "backgroundcolor": "#E5ECF6",
            "gridcolor": "white",
            "gridwidth": 2,
            "linecolor": "white",
            "showbackground": true,
            "ticks": "",
            "zerolinecolor": "white"
           }
          },
          "shapedefaults": {
           "line": {
            "color": "#2a3f5f"
           }
          },
          "ternary": {
           "aaxis": {
            "gridcolor": "white",
            "linecolor": "white",
            "ticks": ""
           },
           "baxis": {
            "gridcolor": "white",
            "linecolor": "white",
            "ticks": ""
           },
           "bgcolor": "#E5ECF6",
           "caxis": {
            "gridcolor": "white",
            "linecolor": "white",
            "ticks": ""
           }
          },
          "title": {
           "x": 0.05
          },
          "xaxis": {
           "automargin": true,
           "gridcolor": "white",
           "linecolor": "white",
           "ticks": "",
           "zerolinecolor": "white",
           "zerolinewidth": 2
          },
          "yaxis": {
           "automargin": true,
           "gridcolor": "white",
           "linecolor": "white",
           "ticks": "",
           "zerolinecolor": "white",
           "zerolinewidth": 2
          }
         }
        },
        "xaxis": {
         "anchor": "y",
         "domain": [
          0,
          0.98
         ],
         "title": {
          "text": "promo"
         }
        },
        "yaxis": {
         "anchor": "x",
         "domain": [
          0,
          1
         ],
         "title": {
          "text": "sales"
         }
        }
       }
      },
      "text/html": [
       "<div>\n",
       "        \n",
       "        \n",
       "            <div id=\"5e0124a4-b51a-4a9e-b9ee-7d345168c092\" class=\"plotly-graph-div\" style=\"height:600px; width:100%;\"></div>\n",
       "            <script type=\"text/javascript\">\n",
       "                require([\"plotly\"], function(Plotly) {\n",
       "                    window.PLOTLYENV=window.PLOTLYENV || {};\n",
       "                    \n",
       "                if (document.getElementById(\"5e0124a4-b51a-4a9e-b9ee-7d345168c092\")) {\n",
       "                    Plotly.newPlot(\n",
       "                        '5e0124a4-b51a-4a9e-b9ee-7d345168c092',\n",
       "                        [{\"hoverlabel\": {\"namelength\": 0}, \"hovertemplate\": \"promo=%{x}<br>sales=%{y}\", \"legendgroup\": \"\", \"marker\": {\"color\": \"#636efa\", \"symbol\": \"circle\"}, \"mode\": \"markers\", \"name\": \"\", \"showlegend\": false, \"type\": \"scatter\", \"x\": [170, 11812, 13906, 22918, 8550, 15539, 10406, 11277, 9647, 11820, 17301, 9601, 15674, 10682, 11548, 9912, 12064, 18723, 9633, 14854, 10194, 11257, 9356, 11940, 18532, 7562, 13112, 8264, 9260, 7330, 10584, 16375, 8017, 13655, 8302, 9052, 7734, 9964, 19103, 7213, 12607, 7840, 8800, 7527, 9653, 17201, 8104, 13615, 8434, 9119, 8008, 10436, 16096, 8374, 14147, 9005, 9260, 8398, 11215, 18621, 9186, 15308, 9661, 10362, 8100, 10556, 16073, 7340, 13248, 7610, 8594, 7142, 9650, 15436, 7569, 14263, 8705, 9579, 8349, 11112, 16052, 6839, 13150, 8520, 9434, 7884, 10654, 17151, 9116, 14027, 7450, 7946, 6545, 9316, 15094, 6973, 12478, 7567, 8423, 6662, 9681, 18094, 10215, 15812, 10690, 11676, 10152, 11980, 19618, 11231, 18291, 12972, 14276, 12476, 14844, 21140, 12602, 18991, 13643, 14204, 12733, 14155, 21181, 10040, 15908, 10346, 11503, 9552, 12040, 20292, 11109, 16721, 12225, 12682, 11265, 13685, 18617, 10594, 15706, 10841, 12033, 10039, 12292, 20850, 9527, 16458, 10604, 11854, 10056, 12281, 17457, 3498, 13480, 9337, 10512, 8750, 11319, 17369, 10621, 15713, 11792, 13187, 10854, 13186, 20019, 10081, 15820, 11567, 12259, 10399, 13072, 21009, 11621, 17672, 12262, 13371, 10857, 13169, 20138, 13403, 18245, 13017, 13882, 12329, 14888, 23049, 13192, 18485, 13428, 14273, 12239, 14429, 20226, 10199, 16059, 11079, 11720, 10056, 12065, 18201, 10708, 15340, 10070, 10870, 9448, 11325, 18725, 8001, 13850, 9099, 10227, 8649, 10150, 16524, 7859, 14193, 8684, 9565, 8209, 10638, 16117, 7917, 14179, 8312, 9283, 8043, 10605], \"xaxis\": \"x\", \"y\": [2507.591043317843, 227858.55047605917, 205072.15756210202, 191666.32089441863, 171373.4235133792, 174187.3347523061, 205905.77252312313, 209304.1746629663, 171027.9933117348, 164696.77875040798, 164865.2852297332, 150891.42484624576, 165217.88650695834, 198011.58041508414, 208006.61532810508, 175190.84441829452, 165020.5239719204, 165958.2227674435, 149021.66372964074, 161025.7161270955, 202910.46396159776, 205224.28712293928, 172981.9095607189, 162758.90295946575, 162148.7466396879, 146376.49374518447, 163162.75756171456, 197956.27127224262, 203887.16906434167, 162744.24041198613, 175185.30032176577, 192759.87423448736, 172909.88395629314, 179162.9521598742, 214338.44046008232, 210627.47706982004, 174652.9666505304, 168836.1061197478, 168943.51379943636, 153310.4019410051, 166191.35677057345, 194229.88424502994, 203166.4799239517, 174980.03823577345, 156263.69086788784, 166963.77096898248, 157048.9256829022, 168018.50993284612, 203430.0008382254, 180682.46042738628, 170091.5101826963, 165193.84827302082, 164264.7366431205, 160848.90609520982, 175514.4164470136, 203173.55174182603, 169986.33300025106, 164561.07124347353, 188676.68325826337, 197411.4781829005, 181382.2984177368, 181886.2445577255, 211140.26541010788, 211813.05568992486, 171426.8155770933, 168395.8273728526, 166574.14529078547, 156741.9342658169, 167928.51562421955, 196519.5724757646, 205212.1868383169, 167037.4538541929, 159844.5694726861, 173018.1130324942, 161247.00491506784, 171811.33752895638, 199925.93652916423, 204846.1687598913, 175786.94640485692, 166712.37815930592, 165196.82528209704, 153322.1398560795, 167034.1209839052, 197876.01521655923, 198926.69040250444, 167897.18268275153, 158513.16192905468, 171066.36033106712, 155416.8100364838, 182004.0731127577, 236904.97604164563, 204558.97848673296, 176614.4391871358, 177826.35539718915, 176515.49038040152, 160474.29053023248, 167338.58238739485, 196130.3384485309, 201458.0352327855, 165995.03194746, 163543.0239011608, 163895.61050465, 167124.03622551978, 166789.08468916253, 188115.9575247315, 193205.20229858422, 171518.90214604966, 164202.65577288868, 161925.37190872643, 161829.24380188747, 173404.57706193728, 196999.2076020826, 210403.132404216, 170638.42624235596, 166187.3675687531, 168901.76604413474, 154801.13821353702, 173687.47576838266, 210440.5175865665, 203942.6200992701, 225648.92671038132, 188493.60148963606, 185334.135600756, 164419.8918597522, 168981.57942535466, 204982.77700467047, 217978.36459443797, 171198.29145708424, 164729.0137077345, 166133.63377217273, 154779.95114532317, 165973.50093019562, 209904.08427351151, 186142.36813660568, 177450.4276061927, 177499.52496213693, 174241.31263873813, 152904.56263691158, 167450.76995187163, 202445.77357120713, 214874.8577178372, 172057.16984833783, 166283.29194164832, 164415.48843583785, 152391.2724471145, 194863.34180131182, 192781.62311518428, 203012.9287006031, 171622.94660974047, 167896.25509323462, 179100.07658184445, 175396.91419340638, 186411.4761254498, 216182.8734693824, 227544.93575283693, 182722.48948678395, 172596.56452040208, 172300.36944328446, 155259.68355727333, 168459.50917545843, 196036.3179620539, 212332.70009563264, 167782.36085220697, 162847.6922084093, 165220.83496876011, 158763.11414989972, 175426.6148639108, 208119.01992712123, 192223.91338637008, 173279.98246938887, 171929.6120019673, 167488.62892416437, 152064.3120575393, 168315.99289326015, 196795.6683556656, 204760.7898342589, 169681.40744045086, 160724.9607139068, 163976.12827264724, 155184.00213916742, 174682.38430859664, 222433.80539067546, 225129.2639250377, 191060.66092072468, 181054.21577840668, 178132.03619502165, 163355.7331324553, 172494.62667215627, 198707.88687173757, 205303.3562961151, 173540.3062371873, 164535.89613681354, 165009.36277767012, 151734.1043107476, 166900.3122709504, 194846.16218331066, 203338.86909424036, 175072.91250038485, 164578.14731015262, 165430.77056538835, 159647.65884383098, 168005.68264500686, 190105.64924130475, 196660.01961807313, 175781.90835107834, 163300.00220369108, 162058.9971025961, 151813.41680223262, 171258.64453327993, 197266.62984948597, 202177.60862290583, 181851.0234905851, 193035.7365385554, 187371.33218771167, 166133.00234730545, 174868.76836339396, 195610.30838951058, 200435.66726285158, 173651.85641340498, 164277.11819288475, 163976.009449851, 154912.08449597945, 175904.2037315206, 174156.31678537474, 180919.9794854874, 168544.5514717251, 168885.40482342817], \"yaxis\": \"y\"}],\n",
       "                        {\"height\": 600, \"legend\": {\"tracegroupgap\": 0}, \"margin\": {\"t\": 60}, \"template\": {\"data\": {\"bar\": [{\"error_x\": {\"color\": \"#2a3f5f\"}, \"error_y\": {\"color\": \"#2a3f5f\"}, \"marker\": {\"line\": {\"color\": \"#E5ECF6\", \"width\": 0.5}}, \"type\": \"bar\"}], \"barpolar\": [{\"marker\": {\"line\": {\"color\": \"#E5ECF6\", \"width\": 0.5}}, \"type\": \"barpolar\"}], \"carpet\": [{\"aaxis\": {\"endlinecolor\": \"#2a3f5f\", \"gridcolor\": \"white\", \"linecolor\": \"white\", \"minorgridcolor\": \"white\", \"startlinecolor\": \"#2a3f5f\"}, \"baxis\": {\"endlinecolor\": \"#2a3f5f\", \"gridcolor\": \"white\", \"linecolor\": \"white\", \"minorgridcolor\": \"white\", \"startlinecolor\": \"#2a3f5f\"}, \"type\": \"carpet\"}], \"choropleth\": [{\"colorbar\": {\"outlinewidth\": 0, \"ticks\": \"\"}, \"type\": \"choropleth\"}], \"contour\": [{\"colorbar\": {\"outlinewidth\": 0, \"ticks\": \"\"}, \"colorscale\": [[0.0, \"#0d0887\"], [0.1111111111111111, \"#46039f\"], [0.2222222222222222, \"#7201a8\"], [0.3333333333333333, \"#9c179e\"], [0.4444444444444444, \"#bd3786\"], [0.5555555555555556, \"#d8576b\"], [0.6666666666666666, \"#ed7953\"], [0.7777777777777778, \"#fb9f3a\"], [0.8888888888888888, \"#fdca26\"], [1.0, \"#f0f921\"]], \"type\": \"contour\"}], \"contourcarpet\": [{\"colorbar\": {\"outlinewidth\": 0, \"ticks\": \"\"}, \"type\": \"contourcarpet\"}], \"heatmap\": [{\"colorbar\": {\"outlinewidth\": 0, \"ticks\": \"\"}, \"colorscale\": [[0.0, \"#0d0887\"], [0.1111111111111111, \"#46039f\"], [0.2222222222222222, \"#7201a8\"], [0.3333333333333333, \"#9c179e\"], [0.4444444444444444, \"#bd3786\"], [0.5555555555555556, \"#d8576b\"], [0.6666666666666666, \"#ed7953\"], [0.7777777777777778, \"#fb9f3a\"], [0.8888888888888888, \"#fdca26\"], [1.0, \"#f0f921\"]], \"type\": \"heatmap\"}], \"heatmapgl\": [{\"colorbar\": {\"outlinewidth\": 0, \"ticks\": \"\"}, \"colorscale\": [[0.0, \"#0d0887\"], [0.1111111111111111, \"#46039f\"], [0.2222222222222222, \"#7201a8\"], [0.3333333333333333, \"#9c179e\"], [0.4444444444444444, \"#bd3786\"], [0.5555555555555556, \"#d8576b\"], [0.6666666666666666, \"#ed7953\"], [0.7777777777777778, \"#fb9f3a\"], [0.8888888888888888, \"#fdca26\"], [1.0, \"#f0f921\"]], \"type\": \"heatmapgl\"}], \"histogram\": [{\"marker\": {\"colorbar\": {\"outlinewidth\": 0, \"ticks\": \"\"}}, \"type\": \"histogram\"}], \"histogram2d\": [{\"colorbar\": {\"outlinewidth\": 0, \"ticks\": \"\"}, \"colorscale\": [[0.0, \"#0d0887\"], [0.1111111111111111, \"#46039f\"], [0.2222222222222222, \"#7201a8\"], [0.3333333333333333, \"#9c179e\"], [0.4444444444444444, \"#bd3786\"], [0.5555555555555556, \"#d8576b\"], [0.6666666666666666, \"#ed7953\"], [0.7777777777777778, \"#fb9f3a\"], [0.8888888888888888, \"#fdca26\"], [1.0, \"#f0f921\"]], \"type\": \"histogram2d\"}], \"histogram2dcontour\": [{\"colorbar\": {\"outlinewidth\": 0, \"ticks\": \"\"}, \"colorscale\": [[0.0, \"#0d0887\"], [0.1111111111111111, \"#46039f\"], [0.2222222222222222, \"#7201a8\"], [0.3333333333333333, \"#9c179e\"], [0.4444444444444444, \"#bd3786\"], [0.5555555555555556, \"#d8576b\"], [0.6666666666666666, \"#ed7953\"], [0.7777777777777778, \"#fb9f3a\"], [0.8888888888888888, \"#fdca26\"], [1.0, \"#f0f921\"]], \"type\": \"histogram2dcontour\"}], \"mesh3d\": [{\"colorbar\": {\"outlinewidth\": 0, \"ticks\": \"\"}, \"type\": \"mesh3d\"}], \"parcoords\": [{\"line\": {\"colorbar\": {\"outlinewidth\": 0, \"ticks\": \"\"}}, \"type\": \"parcoords\"}], \"scatter\": [{\"marker\": {\"colorbar\": {\"outlinewidth\": 0, \"ticks\": \"\"}}, \"type\": \"scatter\"}], \"scatter3d\": [{\"line\": {\"colorbar\": {\"outlinewidth\": 0, \"ticks\": \"\"}}, \"marker\": {\"colorbar\": {\"outlinewidth\": 0, \"ticks\": \"\"}}, \"type\": \"scatter3d\"}], \"scattercarpet\": [{\"marker\": {\"colorbar\": {\"outlinewidth\": 0, \"ticks\": \"\"}}, \"type\": \"scattercarpet\"}], \"scattergeo\": [{\"marker\": {\"colorbar\": {\"outlinewidth\": 0, \"ticks\": \"\"}}, \"type\": \"scattergeo\"}], \"scattergl\": [{\"marker\": {\"colorbar\": {\"outlinewidth\": 0, \"ticks\": \"\"}}, \"type\": \"scattergl\"}], \"scattermapbox\": [{\"marker\": {\"colorbar\": {\"outlinewidth\": 0, \"ticks\": \"\"}}, \"type\": \"scattermapbox\"}], \"scatterpolar\": [{\"marker\": {\"colorbar\": {\"outlinewidth\": 0, \"ticks\": \"\"}}, \"type\": \"scatterpolar\"}], \"scatterpolargl\": [{\"marker\": {\"colorbar\": {\"outlinewidth\": 0, \"ticks\": \"\"}}, \"type\": \"scatterpolargl\"}], \"scatterternary\": [{\"marker\": {\"colorbar\": {\"outlinewidth\": 0, \"ticks\": \"\"}}, \"type\": \"scatterternary\"}], \"surface\": [{\"colorbar\": {\"outlinewidth\": 0, \"ticks\": \"\"}, \"colorscale\": [[0.0, \"#0d0887\"], [0.1111111111111111, \"#46039f\"], [0.2222222222222222, \"#7201a8\"], [0.3333333333333333, \"#9c179e\"], [0.4444444444444444, \"#bd3786\"], [0.5555555555555556, \"#d8576b\"], [0.6666666666666666, \"#ed7953\"], [0.7777777777777778, \"#fb9f3a\"], [0.8888888888888888, \"#fdca26\"], [1.0, \"#f0f921\"]], \"type\": \"surface\"}], \"table\": [{\"cells\": {\"fill\": {\"color\": \"#EBF0F8\"}, \"line\": {\"color\": \"white\"}}, \"header\": {\"fill\": {\"color\": \"#C8D4E3\"}, \"line\": {\"color\": \"white\"}}, \"type\": \"table\"}]}, \"layout\": {\"annotationdefaults\": {\"arrowcolor\": \"#2a3f5f\", \"arrowhead\": 0, \"arrowwidth\": 1}, \"colorscale\": {\"diverging\": [[0, \"#8e0152\"], [0.1, \"#c51b7d\"], [0.2, \"#de77ae\"], [0.3, \"#f1b6da\"], [0.4, \"#fde0ef\"], [0.5, \"#f7f7f7\"], [0.6, \"#e6f5d0\"], [0.7, \"#b8e186\"], [0.8, \"#7fbc41\"], [0.9, \"#4d9221\"], [1, \"#276419\"]], \"sequential\": [[0.0, \"#0d0887\"], [0.1111111111111111, \"#46039f\"], [0.2222222222222222, \"#7201a8\"], [0.3333333333333333, \"#9c179e\"], [0.4444444444444444, \"#bd3786\"], [0.5555555555555556, \"#d8576b\"], [0.6666666666666666, \"#ed7953\"], [0.7777777777777778, \"#fb9f3a\"], [0.8888888888888888, \"#fdca26\"], [1.0, \"#f0f921\"]], \"sequentialminus\": [[0.0, \"#0d0887\"], [0.1111111111111111, \"#46039f\"], [0.2222222222222222, \"#7201a8\"], [0.3333333333333333, \"#9c179e\"], [0.4444444444444444, \"#bd3786\"], [0.5555555555555556, \"#d8576b\"], [0.6666666666666666, \"#ed7953\"], [0.7777777777777778, \"#fb9f3a\"], [0.8888888888888888, \"#fdca26\"], [1.0, \"#f0f921\"]]}, \"colorway\": [\"#636efa\", \"#EF553B\", \"#00cc96\", \"#ab63fa\", \"#FFA15A\", \"#19d3f3\", \"#FF6692\", \"#B6E880\", \"#FF97FF\", \"#FECB52\"], \"font\": {\"color\": \"#2a3f5f\"}, \"geo\": {\"bgcolor\": \"white\", \"lakecolor\": \"white\", \"landcolor\": \"#E5ECF6\", \"showlakes\": true, \"showland\": true, \"subunitcolor\": \"white\"}, \"hoverlabel\": {\"align\": \"left\"}, \"hovermode\": \"closest\", \"mapbox\": {\"style\": \"light\"}, \"paper_bgcolor\": \"white\", \"plot_bgcolor\": \"#E5ECF6\", \"polar\": {\"angularaxis\": {\"gridcolor\": \"white\", \"linecolor\": \"white\", \"ticks\": \"\"}, \"bgcolor\": \"#E5ECF6\", \"radialaxis\": {\"gridcolor\": \"white\", \"linecolor\": \"white\", \"ticks\": \"\"}}, \"scene\": {\"xaxis\": {\"backgroundcolor\": \"#E5ECF6\", \"gridcolor\": \"white\", \"gridwidth\": 2, \"linecolor\": \"white\", \"showbackground\": true, \"ticks\": \"\", \"zerolinecolor\": \"white\"}, \"yaxis\": {\"backgroundcolor\": \"#E5ECF6\", \"gridcolor\": \"white\", \"gridwidth\": 2, \"linecolor\": \"white\", \"showbackground\": true, \"ticks\": \"\", \"zerolinecolor\": \"white\"}, \"zaxis\": {\"backgroundcolor\": \"#E5ECF6\", \"gridcolor\": \"white\", \"gridwidth\": 2, \"linecolor\": \"white\", \"showbackground\": true, \"ticks\": \"\", \"zerolinecolor\": \"white\"}}, \"shapedefaults\": {\"line\": {\"color\": \"#2a3f5f\"}}, \"ternary\": {\"aaxis\": {\"gridcolor\": \"white\", \"linecolor\": \"white\", \"ticks\": \"\"}, \"baxis\": {\"gridcolor\": \"white\", \"linecolor\": \"white\", \"ticks\": \"\"}, \"bgcolor\": \"#E5ECF6\", \"caxis\": {\"gridcolor\": \"white\", \"linecolor\": \"white\", \"ticks\": \"\"}}, \"title\": {\"x\": 0.05}, \"xaxis\": {\"automargin\": true, \"gridcolor\": \"white\", \"linecolor\": \"white\", \"ticks\": \"\", \"zerolinecolor\": \"white\", \"zerolinewidth\": 2}, \"yaxis\": {\"automargin\": true, \"gridcolor\": \"white\", \"linecolor\": \"white\", \"ticks\": \"\", \"zerolinecolor\": \"white\", \"zerolinewidth\": 2}}}, \"xaxis\": {\"anchor\": \"y\", \"domain\": [0.0, 0.98], \"title\": {\"text\": \"promo\"}}, \"yaxis\": {\"anchor\": \"x\", \"domain\": [0.0, 1.0], \"title\": {\"text\": \"sales\"}}},\n",
       "                        {\"responsive\": true}\n",
       "                    ).then(function(){\n",
       "                            \n",
       "var gd = document.getElementById('5e0124a4-b51a-4a9e-b9ee-7d345168c092');\n",
       "var x = new MutationObserver(function (mutations, observer) {{\n",
       "        var display = window.getComputedStyle(gd).display;\n",
       "        if (!display || display === 'none') {{\n",
       "            console.log([gd, 'removed!']);\n",
       "            Plotly.purge(gd);\n",
       "            observer.disconnect();\n",
       "        }}\n",
       "}});\n",
       "\n",
       "// Listen for the removal of the full notebook cells\n",
       "var notebookContainer = gd.closest('#notebook-container');\n",
       "if (notebookContainer) {{\n",
       "    x.observe(notebookContainer, {childList: true});\n",
       "}}\n",
       "\n",
       "// Listen for the clearing of the current output cell\n",
       "var outputEl = gd.closest('.output');\n",
       "if (outputEl) {{\n",
       "    x.observe(outputEl, {childList: true});\n",
       "}}\n",
       "\n",
       "                        })\n",
       "                };\n",
       "                });\n",
       "            </script>\n",
       "        </div>"
      ]
     },
     "metadata": {},
     "output_type": "display_data"
    }
   ],
   "source": [
    "px.scatter(df_sales_promotions.reset_index(), x = 'promo', y='sales')"
   ]
  },
  {
   "cell_type": "markdown",
   "metadata": {},
   "source": [
    "### There is not any clear relationship between the number of items on promotion and number of sales. The sales are already in logrithmic scale, probably I have to do this on raw sales count."
   ]
  },
  {
   "cell_type": "code",
   "execution_count": 68,
   "metadata": {},
   "outputs": [],
   "source": [
    "promo_2017_train.columns= promo_2017_train.columns.droplevel()"
   ]
  },
  {
   "cell_type": "code",
   "execution_count": 61,
   "metadata": {},
   "outputs": [
    {
     "data": {
      "text/plain": [
       "DatetimeIndex(['2017-01-01', '2017-01-02', '2017-01-03', '2017-01-04',\n",
       "               '2017-01-05', '2017-01-06', '2017-01-07', '2017-01-08',\n",
       "               '2017-01-09', '2017-01-10',\n",
       "               ...\n",
       "               '2017-08-06', '2017-08-07', '2017-08-08', '2017-08-09',\n",
       "               '2017-08-10', '2017-08-11', '2017-08-12', '2017-08-13',\n",
       "               '2017-08-14', '2017-08-15'],\n",
       "              dtype='datetime64[ns]', name='date', length=227, freq=None)"
      ]
     },
     "execution_count": 61,
     "metadata": {},
     "output_type": "execute_result"
    }
   ],
   "source": [
    "promo_2017_train.columns.get_level_values(1)"
   ]
  },
  {
   "cell_type": "code",
   "execution_count": 71,
   "metadata": {},
   "outputs": [
    {
     "data": {
      "text/html": [
       "<div>\n",
       "<style scoped>\n",
       "    .dataframe tbody tr th:only-of-type {\n",
       "        vertical-align: middle;\n",
       "    }\n",
       "\n",
       "    .dataframe tbody tr th {\n",
       "        vertical-align: top;\n",
       "    }\n",
       "\n",
       "    .dataframe thead th {\n",
       "        text-align: right;\n",
       "    }\n",
       "</style>\n",
       "<table border=\"1\" class=\"dataframe\">\n",
       "  <thead>\n",
       "    <tr style=\"text-align: right;\">\n",
       "      <th></th>\n",
       "      <th></th>\n",
       "      <th></th>\n",
       "      <th>id</th>\n",
       "      <th>onpromotion</th>\n",
       "    </tr>\n",
       "    <tr>\n",
       "      <th>store_nbr</th>\n",
       "      <th>item_nbr</th>\n",
       "      <th>date</th>\n",
       "      <th></th>\n",
       "      <th></th>\n",
       "    </tr>\n",
       "  </thead>\n",
       "  <tbody>\n",
       "    <tr>\n",
       "      <td rowspan=\"5\" valign=\"top\">1</td>\n",
       "      <td>96995</td>\n",
       "      <td>2017-08-16</td>\n",
       "      <td>125497040</td>\n",
       "      <td>False</td>\n",
       "    </tr>\n",
       "    <tr>\n",
       "      <td>99197</td>\n",
       "      <td>2017-08-16</td>\n",
       "      <td>125497041</td>\n",
       "      <td>False</td>\n",
       "    </tr>\n",
       "    <tr>\n",
       "      <td>103501</td>\n",
       "      <td>2017-08-16</td>\n",
       "      <td>125497042</td>\n",
       "      <td>False</td>\n",
       "    </tr>\n",
       "    <tr>\n",
       "      <td>103520</td>\n",
       "      <td>2017-08-16</td>\n",
       "      <td>125497043</td>\n",
       "      <td>False</td>\n",
       "    </tr>\n",
       "    <tr>\n",
       "      <td>103665</td>\n",
       "      <td>2017-08-16</td>\n",
       "      <td>125497044</td>\n",
       "      <td>False</td>\n",
       "    </tr>\n",
       "  </tbody>\n",
       "</table>\n",
       "</div>"
      ],
      "text/plain": [
       "                                      id  onpromotion\n",
       "store_nbr item_nbr date                              \n",
       "1         96995    2017-08-16  125497040        False\n",
       "          99197    2017-08-16  125497041        False\n",
       "          103501   2017-08-16  125497042        False\n",
       "          103520   2017-08-16  125497043        False\n",
       "          103665   2017-08-16  125497044        False"
      ]
     },
     "execution_count": 71,
     "metadata": {},
     "output_type": "execute_result"
    }
   ],
   "source": [
    "df_test.head()"
   ]
  },
  {
   "cell_type": "code",
   "execution_count": null,
   "metadata": {},
   "outputs": [],
   "source": [
    "# promotion columns from training data\n",
    "promo_2017_train.columns = promo_2017_train.columns.get_level_values(1)"
   ]
  },
  {
   "cell_type": "code",
   "execution_count": 73,
   "metadata": {},
   "outputs": [],
   "source": [
    "# promotion data from test data\n",
    "promo_2017_test = df_test[[\"onpromotion\"]].unstack(level=-1).fillna(False)"
   ]
  },
  {
   "cell_type": "code",
   "execution_count": 77,
   "metadata": {},
   "outputs": [
    {
     "data": {
      "text/html": [
       "<div>\n",
       "<style scoped>\n",
       "    .dataframe tbody tr th:only-of-type {\n",
       "        vertical-align: middle;\n",
       "    }\n",
       "\n",
       "    .dataframe tbody tr th {\n",
       "        vertical-align: top;\n",
       "    }\n",
       "\n",
       "    .dataframe thead tr th {\n",
       "        text-align: left;\n",
       "    }\n",
       "\n",
       "    .dataframe thead tr:last-of-type th {\n",
       "        text-align: right;\n",
       "    }\n",
       "</style>\n",
       "<table border=\"1\" class=\"dataframe\">\n",
       "  <thead>\n",
       "    <tr>\n",
       "      <th></th>\n",
       "      <th></th>\n",
       "      <th colspan=\"16\" halign=\"left\">onpromotion</th>\n",
       "    </tr>\n",
       "    <tr>\n",
       "      <th></th>\n",
       "      <th>date</th>\n",
       "      <th>2017-08-16</th>\n",
       "      <th>2017-08-17</th>\n",
       "      <th>2017-08-18</th>\n",
       "      <th>2017-08-19</th>\n",
       "      <th>2017-08-20</th>\n",
       "      <th>2017-08-21</th>\n",
       "      <th>2017-08-22</th>\n",
       "      <th>2017-08-23</th>\n",
       "      <th>2017-08-24</th>\n",
       "      <th>2017-08-25</th>\n",
       "      <th>2017-08-26</th>\n",
       "      <th>2017-08-27</th>\n",
       "      <th>2017-08-28</th>\n",
       "      <th>2017-08-29</th>\n",
       "      <th>2017-08-30</th>\n",
       "      <th>2017-08-31</th>\n",
       "    </tr>\n",
       "    <tr>\n",
       "      <th>store_nbr</th>\n",
       "      <th>item_nbr</th>\n",
       "      <th></th>\n",
       "      <th></th>\n",
       "      <th></th>\n",
       "      <th></th>\n",
       "      <th></th>\n",
       "      <th></th>\n",
       "      <th></th>\n",
       "      <th></th>\n",
       "      <th></th>\n",
       "      <th></th>\n",
       "      <th></th>\n",
       "      <th></th>\n",
       "      <th></th>\n",
       "      <th></th>\n",
       "      <th></th>\n",
       "      <th></th>\n",
       "    </tr>\n",
       "  </thead>\n",
       "  <tbody>\n",
       "    <tr>\n",
       "      <td rowspan=\"5\" valign=\"top\">1</td>\n",
       "      <td>96995</td>\n",
       "      <td>False</td>\n",
       "      <td>False</td>\n",
       "      <td>False</td>\n",
       "      <td>False</td>\n",
       "      <td>False</td>\n",
       "      <td>False</td>\n",
       "      <td>False</td>\n",
       "      <td>False</td>\n",
       "      <td>False</td>\n",
       "      <td>False</td>\n",
       "      <td>False</td>\n",
       "      <td>False</td>\n",
       "      <td>False</td>\n",
       "      <td>False</td>\n",
       "      <td>False</td>\n",
       "      <td>False</td>\n",
       "    </tr>\n",
       "    <tr>\n",
       "      <td>99197</td>\n",
       "      <td>False</td>\n",
       "      <td>False</td>\n",
       "      <td>False</td>\n",
       "      <td>False</td>\n",
       "      <td>False</td>\n",
       "      <td>False</td>\n",
       "      <td>False</td>\n",
       "      <td>False</td>\n",
       "      <td>False</td>\n",
       "      <td>False</td>\n",
       "      <td>False</td>\n",
       "      <td>False</td>\n",
       "      <td>False</td>\n",
       "      <td>False</td>\n",
       "      <td>False</td>\n",
       "      <td>False</td>\n",
       "    </tr>\n",
       "    <tr>\n",
       "      <td>103501</td>\n",
       "      <td>False</td>\n",
       "      <td>False</td>\n",
       "      <td>False</td>\n",
       "      <td>False</td>\n",
       "      <td>False</td>\n",
       "      <td>False</td>\n",
       "      <td>False</td>\n",
       "      <td>False</td>\n",
       "      <td>False</td>\n",
       "      <td>False</td>\n",
       "      <td>False</td>\n",
       "      <td>False</td>\n",
       "      <td>False</td>\n",
       "      <td>False</td>\n",
       "      <td>False</td>\n",
       "      <td>False</td>\n",
       "    </tr>\n",
       "    <tr>\n",
       "      <td>103520</td>\n",
       "      <td>False</td>\n",
       "      <td>False</td>\n",
       "      <td>False</td>\n",
       "      <td>False</td>\n",
       "      <td>False</td>\n",
       "      <td>False</td>\n",
       "      <td>False</td>\n",
       "      <td>False</td>\n",
       "      <td>False</td>\n",
       "      <td>False</td>\n",
       "      <td>False</td>\n",
       "      <td>False</td>\n",
       "      <td>False</td>\n",
       "      <td>False</td>\n",
       "      <td>False</td>\n",
       "      <td>False</td>\n",
       "    </tr>\n",
       "    <tr>\n",
       "      <td>103665</td>\n",
       "      <td>False</td>\n",
       "      <td>False</td>\n",
       "      <td>False</td>\n",
       "      <td>False</td>\n",
       "      <td>False</td>\n",
       "      <td>False</td>\n",
       "      <td>False</td>\n",
       "      <td>False</td>\n",
       "      <td>False</td>\n",
       "      <td>False</td>\n",
       "      <td>False</td>\n",
       "      <td>False</td>\n",
       "      <td>False</td>\n",
       "      <td>False</td>\n",
       "      <td>False</td>\n",
       "      <td>False</td>\n",
       "    </tr>\n",
       "  </tbody>\n",
       "</table>\n",
       "</div>"
      ],
      "text/plain": [
       "                   onpromotion                                              \\\n",
       "date                2017-08-16 2017-08-17 2017-08-18 2017-08-19 2017-08-20   \n",
       "store_nbr item_nbr                                                           \n",
       "1         96995          False      False      False      False      False   \n",
       "          99197          False      False      False      False      False   \n",
       "          103501         False      False      False      False      False   \n",
       "          103520         False      False      False      False      False   \n",
       "          103665         False      False      False      False      False   \n",
       "\n",
       "                                                                           \\\n",
       "date               2017-08-21 2017-08-22 2017-08-23 2017-08-24 2017-08-25   \n",
       "store_nbr item_nbr                                                          \n",
       "1         96995         False      False      False      False      False   \n",
       "          99197         False      False      False      False      False   \n",
       "          103501        False      False      False      False      False   \n",
       "          103520        False      False      False      False      False   \n",
       "          103665        False      False      False      False      False   \n",
       "\n",
       "                                                                           \\\n",
       "date               2017-08-26 2017-08-27 2017-08-28 2017-08-29 2017-08-30   \n",
       "store_nbr item_nbr                                                          \n",
       "1         96995         False      False      False      False      False   \n",
       "          99197         False      False      False      False      False   \n",
       "          103501        False      False      False      False      False   \n",
       "          103520        False      False      False      False      False   \n",
       "          103665        False      False      False      False      False   \n",
       "\n",
       "                               \n",
       "date               2017-08-31  \n",
       "store_nbr item_nbr             \n",
       "1         96995         False  \n",
       "          99197         False  \n",
       "          103501        False  \n",
       "          103520        False  \n",
       "          103665        False  "
      ]
     },
     "execution_count": 77,
     "metadata": {},
     "output_type": "execute_result"
    }
   ],
   "source": [
    "promo_2017_test.head()"
   ]
  },
  {
   "cell_type": "markdown",
   "metadata": {},
   "source": [
    "Test data Strats from 2017-08-16 to 2017-08-31"
   ]
  },
  {
   "cell_type": "code",
   "execution_count": 188,
   "metadata": {},
   "outputs": [
    {
     "data": {
      "text/plain": [
       "<matplotlib.axes._subplots.AxesSubplot at 0x7fbebf263550>"
      ]
     },
     "execution_count": 188,
     "metadata": {},
     "output_type": "execute_result"
    },
    {
     "data": {
      "image/png": "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\n",
      "text/plain": [
       "<Figure size 432x288 with 1 Axes>"
      ]
     },
     "metadata": {
      "needs_background": "light"
     },
     "output_type": "display_data"
    }
   ],
   "source": [
    "promo_2017_test.sum(axis=0).plot()"
   ]
  },
  {
   "cell_type": "markdown",
   "metadata": {},
   "source": [
    "It is a bit of cheating, as I am not suppose to look at test data at all while building the model. Anyway, the number of items on promotion in test period are same on average."
   ]
  },
  {
   "cell_type": "code",
   "execution_count": 78,
   "metadata": {},
   "outputs": [],
   "source": [
    "promo_2017_test.columns = promo_2017_test.columns.get_level_values(1)\n",
    "\n",
    "promo_2017_test = promo_2017_test.reindex(promo_2017_train.index).fillna(False)"
   ]
  },
  {
   "cell_type": "code",
   "execution_count": 82,
   "metadata": {},
   "outputs": [
    {
     "data": {
      "text/html": [
       "<div>\n",
       "<style scoped>\n",
       "    .dataframe tbody tr th:only-of-type {\n",
       "        vertical-align: middle;\n",
       "    }\n",
       "\n",
       "    .dataframe tbody tr th {\n",
       "        vertical-align: top;\n",
       "    }\n",
       "\n",
       "    .dataframe thead th {\n",
       "        text-align: right;\n",
       "    }\n",
       "</style>\n",
       "<table border=\"1\" class=\"dataframe\">\n",
       "  <thead>\n",
       "    <tr style=\"text-align: right;\">\n",
       "      <th></th>\n",
       "      <th>date</th>\n",
       "      <th>2017-08-16</th>\n",
       "      <th>2017-08-17</th>\n",
       "      <th>2017-08-18</th>\n",
       "      <th>2017-08-19</th>\n",
       "      <th>2017-08-20</th>\n",
       "      <th>2017-08-21</th>\n",
       "      <th>2017-08-22</th>\n",
       "      <th>2017-08-23</th>\n",
       "      <th>2017-08-24</th>\n",
       "      <th>2017-08-25</th>\n",
       "      <th>2017-08-26</th>\n",
       "      <th>2017-08-27</th>\n",
       "      <th>2017-08-28</th>\n",
       "      <th>2017-08-29</th>\n",
       "      <th>2017-08-30</th>\n",
       "      <th>2017-08-31</th>\n",
       "    </tr>\n",
       "    <tr>\n",
       "      <th>store_nbr</th>\n",
       "      <th>item_nbr</th>\n",
       "      <th></th>\n",
       "      <th></th>\n",
       "      <th></th>\n",
       "      <th></th>\n",
       "      <th></th>\n",
       "      <th></th>\n",
       "      <th></th>\n",
       "      <th></th>\n",
       "      <th></th>\n",
       "      <th></th>\n",
       "      <th></th>\n",
       "      <th></th>\n",
       "      <th></th>\n",
       "      <th></th>\n",
       "      <th></th>\n",
       "      <th></th>\n",
       "    </tr>\n",
       "  </thead>\n",
       "  <tbody>\n",
       "    <tr>\n",
       "      <td rowspan=\"5\" valign=\"top\">1</td>\n",
       "      <td>96995</td>\n",
       "      <td>False</td>\n",
       "      <td>False</td>\n",
       "      <td>False</td>\n",
       "      <td>False</td>\n",
       "      <td>False</td>\n",
       "      <td>False</td>\n",
       "      <td>False</td>\n",
       "      <td>False</td>\n",
       "      <td>False</td>\n",
       "      <td>False</td>\n",
       "      <td>False</td>\n",
       "      <td>False</td>\n",
       "      <td>False</td>\n",
       "      <td>False</td>\n",
       "      <td>False</td>\n",
       "      <td>False</td>\n",
       "    </tr>\n",
       "    <tr>\n",
       "      <td>99197</td>\n",
       "      <td>False</td>\n",
       "      <td>False</td>\n",
       "      <td>False</td>\n",
       "      <td>False</td>\n",
       "      <td>False</td>\n",
       "      <td>False</td>\n",
       "      <td>False</td>\n",
       "      <td>False</td>\n",
       "      <td>False</td>\n",
       "      <td>False</td>\n",
       "      <td>False</td>\n",
       "      <td>False</td>\n",
       "      <td>False</td>\n",
       "      <td>False</td>\n",
       "      <td>False</td>\n",
       "      <td>False</td>\n",
       "    </tr>\n",
       "    <tr>\n",
       "      <td>103520</td>\n",
       "      <td>False</td>\n",
       "      <td>False</td>\n",
       "      <td>False</td>\n",
       "      <td>False</td>\n",
       "      <td>False</td>\n",
       "      <td>False</td>\n",
       "      <td>False</td>\n",
       "      <td>False</td>\n",
       "      <td>False</td>\n",
       "      <td>False</td>\n",
       "      <td>False</td>\n",
       "      <td>False</td>\n",
       "      <td>False</td>\n",
       "      <td>False</td>\n",
       "      <td>False</td>\n",
       "      <td>False</td>\n",
       "    </tr>\n",
       "    <tr>\n",
       "      <td>103665</td>\n",
       "      <td>False</td>\n",
       "      <td>False</td>\n",
       "      <td>False</td>\n",
       "      <td>False</td>\n",
       "      <td>False</td>\n",
       "      <td>False</td>\n",
       "      <td>False</td>\n",
       "      <td>False</td>\n",
       "      <td>False</td>\n",
       "      <td>False</td>\n",
       "      <td>False</td>\n",
       "      <td>False</td>\n",
       "      <td>False</td>\n",
       "      <td>False</td>\n",
       "      <td>False</td>\n",
       "      <td>False</td>\n",
       "    </tr>\n",
       "    <tr>\n",
       "      <td>105574</td>\n",
       "      <td>False</td>\n",
       "      <td>False</td>\n",
       "      <td>False</td>\n",
       "      <td>False</td>\n",
       "      <td>False</td>\n",
       "      <td>False</td>\n",
       "      <td>False</td>\n",
       "      <td>False</td>\n",
       "      <td>False</td>\n",
       "      <td>False</td>\n",
       "      <td>False</td>\n",
       "      <td>False</td>\n",
       "      <td>False</td>\n",
       "      <td>False</td>\n",
       "      <td>False</td>\n",
       "      <td>False</td>\n",
       "    </tr>\n",
       "  </tbody>\n",
       "</table>\n",
       "</div>"
      ],
      "text/plain": [
       "date                2017-08-16  2017-08-17  2017-08-18  2017-08-19  \\\n",
       "store_nbr item_nbr                                                   \n",
       "1         96995          False       False       False       False   \n",
       "          99197          False       False       False       False   \n",
       "          103520         False       False       False       False   \n",
       "          103665         False       False       False       False   \n",
       "          105574         False       False       False       False   \n",
       "\n",
       "date                2017-08-20  2017-08-21  2017-08-22  2017-08-23  \\\n",
       "store_nbr item_nbr                                                   \n",
       "1         96995          False       False       False       False   \n",
       "          99197          False       False       False       False   \n",
       "          103520         False       False       False       False   \n",
       "          103665         False       False       False       False   \n",
       "          105574         False       False       False       False   \n",
       "\n",
       "date                2017-08-24  2017-08-25  2017-08-26  2017-08-27  \\\n",
       "store_nbr item_nbr                                                   \n",
       "1         96995          False       False       False       False   \n",
       "          99197          False       False       False       False   \n",
       "          103520         False       False       False       False   \n",
       "          103665         False       False       False       False   \n",
       "          105574         False       False       False       False   \n",
       "\n",
       "date                2017-08-28  2017-08-29  2017-08-30  2017-08-31  \n",
       "store_nbr item_nbr                                                  \n",
       "1         96995          False       False       False       False  \n",
       "          99197          False       False       False       False  \n",
       "          103520         False       False       False       False  \n",
       "          103665         False       False       False       False  \n",
       "          105574         False       False       False       False  "
      ]
     },
     "execution_count": 82,
     "metadata": {},
     "output_type": "execute_result"
    }
   ],
   "source": [
    "promo_2017_test.head()"
   ]
  },
  {
   "cell_type": "code",
   "execution_count": 83,
   "metadata": {},
   "outputs": [
    {
     "data": {
      "text/html": [
       "<div>\n",
       "<style scoped>\n",
       "    .dataframe tbody tr th:only-of-type {\n",
       "        vertical-align: middle;\n",
       "    }\n",
       "\n",
       "    .dataframe tbody tr th {\n",
       "        vertical-align: top;\n",
       "    }\n",
       "\n",
       "    .dataframe thead th {\n",
       "        text-align: right;\n",
       "    }\n",
       "</style>\n",
       "<table border=\"1\" class=\"dataframe\">\n",
       "  <thead>\n",
       "    <tr style=\"text-align: right;\">\n",
       "      <th></th>\n",
       "      <th>date</th>\n",
       "      <th>2017-01-01</th>\n",
       "      <th>2017-01-02</th>\n",
       "      <th>2017-01-03</th>\n",
       "      <th>2017-01-04</th>\n",
       "      <th>2017-01-05</th>\n",
       "      <th>2017-01-06</th>\n",
       "      <th>2017-01-07</th>\n",
       "      <th>2017-01-08</th>\n",
       "      <th>2017-01-09</th>\n",
       "      <th>2017-01-10</th>\n",
       "      <th>...</th>\n",
       "      <th>2017-08-06</th>\n",
       "      <th>2017-08-07</th>\n",
       "      <th>2017-08-08</th>\n",
       "      <th>2017-08-09</th>\n",
       "      <th>2017-08-10</th>\n",
       "      <th>2017-08-11</th>\n",
       "      <th>2017-08-12</th>\n",
       "      <th>2017-08-13</th>\n",
       "      <th>2017-08-14</th>\n",
       "      <th>2017-08-15</th>\n",
       "    </tr>\n",
       "    <tr>\n",
       "      <th>store_nbr</th>\n",
       "      <th>item_nbr</th>\n",
       "      <th></th>\n",
       "      <th></th>\n",
       "      <th></th>\n",
       "      <th></th>\n",
       "      <th></th>\n",
       "      <th></th>\n",
       "      <th></th>\n",
       "      <th></th>\n",
       "      <th></th>\n",
       "      <th></th>\n",
       "      <th></th>\n",
       "      <th></th>\n",
       "      <th></th>\n",
       "      <th></th>\n",
       "      <th></th>\n",
       "      <th></th>\n",
       "      <th></th>\n",
       "      <th></th>\n",
       "      <th></th>\n",
       "      <th></th>\n",
       "      <th></th>\n",
       "    </tr>\n",
       "  </thead>\n",
       "  <tbody>\n",
       "    <tr>\n",
       "      <td rowspan=\"5\" valign=\"top\">1</td>\n",
       "      <td>96995</td>\n",
       "      <td>False</td>\n",
       "      <td>False</td>\n",
       "      <td>False</td>\n",
       "      <td>False</td>\n",
       "      <td>False</td>\n",
       "      <td>False</td>\n",
       "      <td>False</td>\n",
       "      <td>False</td>\n",
       "      <td>False</td>\n",
       "      <td>False</td>\n",
       "      <td>...</td>\n",
       "      <td>False</td>\n",
       "      <td>False</td>\n",
       "      <td>False</td>\n",
       "      <td>False</td>\n",
       "      <td>False</td>\n",
       "      <td>False</td>\n",
       "      <td>False</td>\n",
       "      <td>False</td>\n",
       "      <td>False</td>\n",
       "      <td>False</td>\n",
       "    </tr>\n",
       "    <tr>\n",
       "      <td>99197</td>\n",
       "      <td>False</td>\n",
       "      <td>False</td>\n",
       "      <td>False</td>\n",
       "      <td>False</td>\n",
       "      <td>False</td>\n",
       "      <td>False</td>\n",
       "      <td>False</td>\n",
       "      <td>False</td>\n",
       "      <td>False</td>\n",
       "      <td>False</td>\n",
       "      <td>...</td>\n",
       "      <td>False</td>\n",
       "      <td>False</td>\n",
       "      <td>False</td>\n",
       "      <td>False</td>\n",
       "      <td>False</td>\n",
       "      <td>False</td>\n",
       "      <td>False</td>\n",
       "      <td>False</td>\n",
       "      <td>False</td>\n",
       "      <td>False</td>\n",
       "    </tr>\n",
       "    <tr>\n",
       "      <td>103520</td>\n",
       "      <td>False</td>\n",
       "      <td>False</td>\n",
       "      <td>False</td>\n",
       "      <td>False</td>\n",
       "      <td>False</td>\n",
       "      <td>False</td>\n",
       "      <td>False</td>\n",
       "      <td>False</td>\n",
       "      <td>False</td>\n",
       "      <td>False</td>\n",
       "      <td>...</td>\n",
       "      <td>False</td>\n",
       "      <td>False</td>\n",
       "      <td>False</td>\n",
       "      <td>False</td>\n",
       "      <td>False</td>\n",
       "      <td>False</td>\n",
       "      <td>False</td>\n",
       "      <td>False</td>\n",
       "      <td>False</td>\n",
       "      <td>False</td>\n",
       "    </tr>\n",
       "    <tr>\n",
       "      <td>103665</td>\n",
       "      <td>False</td>\n",
       "      <td>False</td>\n",
       "      <td>False</td>\n",
       "      <td>False</td>\n",
       "      <td>False</td>\n",
       "      <td>False</td>\n",
       "      <td>False</td>\n",
       "      <td>False</td>\n",
       "      <td>False</td>\n",
       "      <td>False</td>\n",
       "      <td>...</td>\n",
       "      <td>False</td>\n",
       "      <td>False</td>\n",
       "      <td>False</td>\n",
       "      <td>False</td>\n",
       "      <td>False</td>\n",
       "      <td>False</td>\n",
       "      <td>False</td>\n",
       "      <td>False</td>\n",
       "      <td>False</td>\n",
       "      <td>False</td>\n",
       "    </tr>\n",
       "    <tr>\n",
       "      <td>105574</td>\n",
       "      <td>False</td>\n",
       "      <td>False</td>\n",
       "      <td>True</td>\n",
       "      <td>False</td>\n",
       "      <td>False</td>\n",
       "      <td>True</td>\n",
       "      <td>False</td>\n",
       "      <td>False</td>\n",
       "      <td>False</td>\n",
       "      <td>False</td>\n",
       "      <td>...</td>\n",
       "      <td>False</td>\n",
       "      <td>False</td>\n",
       "      <td>False</td>\n",
       "      <td>False</td>\n",
       "      <td>False</td>\n",
       "      <td>False</td>\n",
       "      <td>False</td>\n",
       "      <td>False</td>\n",
       "      <td>False</td>\n",
       "      <td>False</td>\n",
       "    </tr>\n",
       "  </tbody>\n",
       "</table>\n",
       "<p>5 rows × 227 columns</p>\n",
       "</div>"
      ],
      "text/plain": [
       "date                2017-01-01  2017-01-02  2017-01-03  2017-01-04  \\\n",
       "store_nbr item_nbr                                                   \n",
       "1         96995          False       False       False       False   \n",
       "          99197          False       False       False       False   \n",
       "          103520         False       False       False       False   \n",
       "          103665         False       False       False       False   \n",
       "          105574         False       False        True       False   \n",
       "\n",
       "date                2017-01-05  2017-01-06  2017-01-07  2017-01-08  \\\n",
       "store_nbr item_nbr                                                   \n",
       "1         96995          False       False       False       False   \n",
       "          99197          False       False       False       False   \n",
       "          103520         False       False       False       False   \n",
       "          103665         False       False       False       False   \n",
       "          105574         False        True       False       False   \n",
       "\n",
       "date                2017-01-09  2017-01-10  ...  2017-08-06  2017-08-07  \\\n",
       "store_nbr item_nbr                          ...                           \n",
       "1         96995          False       False  ...       False       False   \n",
       "          99197          False       False  ...       False       False   \n",
       "          103520         False       False  ...       False       False   \n",
       "          103665         False       False  ...       False       False   \n",
       "          105574         False       False  ...       False       False   \n",
       "\n",
       "date                2017-08-08  2017-08-09  2017-08-10  2017-08-11  \\\n",
       "store_nbr item_nbr                                                   \n",
       "1         96995          False       False       False       False   \n",
       "          99197          False       False       False       False   \n",
       "          103520         False       False       False       False   \n",
       "          103665         False       False       False       False   \n",
       "          105574         False       False       False       False   \n",
       "\n",
       "date                2017-08-12  2017-08-13  2017-08-14  2017-08-15  \n",
       "store_nbr item_nbr                                                  \n",
       "1         96995          False       False       False       False  \n",
       "          99197          False       False       False       False  \n",
       "          103520         False       False       False       False  \n",
       "          103665         False       False       False       False  \n",
       "          105574         False       False       False       False  \n",
       "\n",
       "[5 rows x 227 columns]"
      ]
     },
     "execution_count": 83,
     "metadata": {},
     "output_type": "execute_result"
    }
   ],
   "source": [
    "promo_2017_train.head()"
   ]
  },
  {
   "cell_type": "code",
   "execution_count": null,
   "metadata": {},
   "outputs": [],
   "source": [
    "promo_2017 = pd.concat([promo_2017_train, promo_2017_test], axis=1)"
   ]
  },
  {
   "cell_type": "code",
   "execution_count": 84,
   "metadata": {},
   "outputs": [],
   "source": [
    "# Combined the promotion data from training and test data\n",
    "promo_2017 = pd.concat([promo_2017_train, promo_2017_test], axis=1)"
   ]
  },
  {
   "cell_type": "code",
   "execution_count": 85,
   "metadata": {},
   "outputs": [
    {
     "data": {
      "text/html": [
       "<div>\n",
       "<style scoped>\n",
       "    .dataframe tbody tr th:only-of-type {\n",
       "        vertical-align: middle;\n",
       "    }\n",
       "\n",
       "    .dataframe tbody tr th {\n",
       "        vertical-align: top;\n",
       "    }\n",
       "\n",
       "    .dataframe thead th {\n",
       "        text-align: right;\n",
       "    }\n",
       "</style>\n",
       "<table border=\"1\" class=\"dataframe\">\n",
       "  <thead>\n",
       "    <tr style=\"text-align: right;\">\n",
       "      <th></th>\n",
       "      <th>date</th>\n",
       "      <th>2017-01-01</th>\n",
       "      <th>2017-01-02</th>\n",
       "      <th>2017-01-03</th>\n",
       "      <th>2017-01-04</th>\n",
       "      <th>2017-01-05</th>\n",
       "      <th>2017-01-06</th>\n",
       "      <th>2017-01-07</th>\n",
       "      <th>2017-01-08</th>\n",
       "      <th>2017-01-09</th>\n",
       "      <th>2017-01-10</th>\n",
       "      <th>...</th>\n",
       "      <th>2017-08-22</th>\n",
       "      <th>2017-08-23</th>\n",
       "      <th>2017-08-24</th>\n",
       "      <th>2017-08-25</th>\n",
       "      <th>2017-08-26</th>\n",
       "      <th>2017-08-27</th>\n",
       "      <th>2017-08-28</th>\n",
       "      <th>2017-08-29</th>\n",
       "      <th>2017-08-30</th>\n",
       "      <th>2017-08-31</th>\n",
       "    </tr>\n",
       "    <tr>\n",
       "      <th>store_nbr</th>\n",
       "      <th>item_nbr</th>\n",
       "      <th></th>\n",
       "      <th></th>\n",
       "      <th></th>\n",
       "      <th></th>\n",
       "      <th></th>\n",
       "      <th></th>\n",
       "      <th></th>\n",
       "      <th></th>\n",
       "      <th></th>\n",
       "      <th></th>\n",
       "      <th></th>\n",
       "      <th></th>\n",
       "      <th></th>\n",
       "      <th></th>\n",
       "      <th></th>\n",
       "      <th></th>\n",
       "      <th></th>\n",
       "      <th></th>\n",
       "      <th></th>\n",
       "      <th></th>\n",
       "      <th></th>\n",
       "    </tr>\n",
       "  </thead>\n",
       "  <tbody>\n",
       "    <tr>\n",
       "      <td rowspan=\"5\" valign=\"top\">1</td>\n",
       "      <td>96995</td>\n",
       "      <td>False</td>\n",
       "      <td>False</td>\n",
       "      <td>False</td>\n",
       "      <td>False</td>\n",
       "      <td>False</td>\n",
       "      <td>False</td>\n",
       "      <td>False</td>\n",
       "      <td>False</td>\n",
       "      <td>False</td>\n",
       "      <td>False</td>\n",
       "      <td>...</td>\n",
       "      <td>False</td>\n",
       "      <td>False</td>\n",
       "      <td>False</td>\n",
       "      <td>False</td>\n",
       "      <td>False</td>\n",
       "      <td>False</td>\n",
       "      <td>False</td>\n",
       "      <td>False</td>\n",
       "      <td>False</td>\n",
       "      <td>False</td>\n",
       "    </tr>\n",
       "    <tr>\n",
       "      <td>99197</td>\n",
       "      <td>False</td>\n",
       "      <td>False</td>\n",
       "      <td>False</td>\n",
       "      <td>False</td>\n",
       "      <td>False</td>\n",
       "      <td>False</td>\n",
       "      <td>False</td>\n",
       "      <td>False</td>\n",
       "      <td>False</td>\n",
       "      <td>False</td>\n",
       "      <td>...</td>\n",
       "      <td>False</td>\n",
       "      <td>False</td>\n",
       "      <td>False</td>\n",
       "      <td>False</td>\n",
       "      <td>False</td>\n",
       "      <td>False</td>\n",
       "      <td>False</td>\n",
       "      <td>False</td>\n",
       "      <td>False</td>\n",
       "      <td>False</td>\n",
       "    </tr>\n",
       "    <tr>\n",
       "      <td>103520</td>\n",
       "      <td>False</td>\n",
       "      <td>False</td>\n",
       "      <td>False</td>\n",
       "      <td>False</td>\n",
       "      <td>False</td>\n",
       "      <td>False</td>\n",
       "      <td>False</td>\n",
       "      <td>False</td>\n",
       "      <td>False</td>\n",
       "      <td>False</td>\n",
       "      <td>...</td>\n",
       "      <td>False</td>\n",
       "      <td>False</td>\n",
       "      <td>False</td>\n",
       "      <td>False</td>\n",
       "      <td>False</td>\n",
       "      <td>False</td>\n",
       "      <td>False</td>\n",
       "      <td>False</td>\n",
       "      <td>False</td>\n",
       "      <td>False</td>\n",
       "    </tr>\n",
       "    <tr>\n",
       "      <td>103665</td>\n",
       "      <td>False</td>\n",
       "      <td>False</td>\n",
       "      <td>False</td>\n",
       "      <td>False</td>\n",
       "      <td>False</td>\n",
       "      <td>False</td>\n",
       "      <td>False</td>\n",
       "      <td>False</td>\n",
       "      <td>False</td>\n",
       "      <td>False</td>\n",
       "      <td>...</td>\n",
       "      <td>False</td>\n",
       "      <td>False</td>\n",
       "      <td>False</td>\n",
       "      <td>False</td>\n",
       "      <td>False</td>\n",
       "      <td>False</td>\n",
       "      <td>False</td>\n",
       "      <td>False</td>\n",
       "      <td>False</td>\n",
       "      <td>False</td>\n",
       "    </tr>\n",
       "    <tr>\n",
       "      <td>105574</td>\n",
       "      <td>False</td>\n",
       "      <td>False</td>\n",
       "      <td>True</td>\n",
       "      <td>False</td>\n",
       "      <td>False</td>\n",
       "      <td>True</td>\n",
       "      <td>False</td>\n",
       "      <td>False</td>\n",
       "      <td>False</td>\n",
       "      <td>False</td>\n",
       "      <td>...</td>\n",
       "      <td>False</td>\n",
       "      <td>False</td>\n",
       "      <td>False</td>\n",
       "      <td>False</td>\n",
       "      <td>False</td>\n",
       "      <td>False</td>\n",
       "      <td>False</td>\n",
       "      <td>False</td>\n",
       "      <td>False</td>\n",
       "      <td>False</td>\n",
       "    </tr>\n",
       "  </tbody>\n",
       "</table>\n",
       "<p>5 rows × 243 columns</p>\n",
       "</div>"
      ],
      "text/plain": [
       "date                2017-01-01  2017-01-02  2017-01-03  2017-01-04  \\\n",
       "store_nbr item_nbr                                                   \n",
       "1         96995          False       False       False       False   \n",
       "          99197          False       False       False       False   \n",
       "          103520         False       False       False       False   \n",
       "          103665         False       False       False       False   \n",
       "          105574         False       False        True       False   \n",
       "\n",
       "date                2017-01-05  2017-01-06  2017-01-07  2017-01-08  \\\n",
       "store_nbr item_nbr                                                   \n",
       "1         96995          False       False       False       False   \n",
       "          99197          False       False       False       False   \n",
       "          103520         False       False       False       False   \n",
       "          103665         False       False       False       False   \n",
       "          105574         False        True       False       False   \n",
       "\n",
       "date                2017-01-09  2017-01-10  ...  2017-08-22  2017-08-23  \\\n",
       "store_nbr item_nbr                          ...                           \n",
       "1         96995          False       False  ...       False       False   \n",
       "          99197          False       False  ...       False       False   \n",
       "          103520         False       False  ...       False       False   \n",
       "          103665         False       False  ...       False       False   \n",
       "          105574         False       False  ...       False       False   \n",
       "\n",
       "date                2017-08-24  2017-08-25  2017-08-26  2017-08-27  \\\n",
       "store_nbr item_nbr                                                   \n",
       "1         96995          False       False       False       False   \n",
       "          99197          False       False       False       False   \n",
       "          103520         False       False       False       False   \n",
       "          103665         False       False       False       False   \n",
       "          105574         False       False       False       False   \n",
       "\n",
       "date                2017-08-28  2017-08-29  2017-08-30  2017-08-31  \n",
       "store_nbr item_nbr                                                  \n",
       "1         96995          False       False       False       False  \n",
       "          99197          False       False       False       False  \n",
       "          103520         False       False       False       False  \n",
       "          103665         False       False       False       False  \n",
       "          105574         False       False       False       False  \n",
       "\n",
       "[5 rows x 243 columns]"
      ]
     },
     "execution_count": 85,
     "metadata": {},
     "output_type": "execute_result"
    }
   ],
   "source": [
    "promo_2017.head()"
   ]
  },
  {
   "cell_type": "markdown",
   "metadata": {},
   "source": [
    "## Working on Traget Variable: \n",
    "\n",
    "In this problem, our traget variable is unit_sales."
   ]
  },
  {
   "cell_type": "code",
   "execution_count": 89,
   "metadata": {},
   "outputs": [],
   "source": [
    "df_2017_tmp = df_2017.set_index(\n",
    "    [\"store_nbr\", \"item_nbr\", \"date\"])[[\"unit_sales\"]].unstack(\n",
    "        level=-1)"
   ]
  },
  {
   "cell_type": "code",
   "execution_count": 220,
   "metadata": {},
   "outputs": [],
   "source": [
    "df_sale_count = pd.DataFrame()"
   ]
  },
  {
   "cell_type": "code",
   "execution_count": 221,
   "metadata": {},
   "outputs": [],
   "source": [
    "df_sale_count['coverage'] = df_2017_tmp.count(axis=0)\n",
    "df_sale_count['coverage_ffill'] = df_2017_tmp.fillna(0).count(axis=0)"
   ]
  },
  {
   "cell_type": "code",
   "execution_count": 222,
   "metadata": {},
   "outputs": [],
   "source": [
    "df_sale_count = df_sale_count.unstack(level=0)"
   ]
  },
  {
   "cell_type": "code",
   "execution_count": 224,
   "metadata": {},
   "outputs": [],
   "source": [
    "df_sale_count.columns = ['coverage', 'coverage_ffill']"
   ]
  },
  {
   "cell_type": "code",
   "execution_count": 231,
   "metadata": {},
   "outputs": [
    {
     "data": {
      "text/plain": [
       "Text(0, 0.5, 'Count of Unit_Sale data point daily')"
      ]
     },
     "execution_count": 231,
     "metadata": {},
     "output_type": "execute_result"
    },
    {
     "data": {
      "image/png": "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\n",
      "text/plain": [
       "<Figure size 864x576 with 1 Axes>"
      ]
     },
     "metadata": {
      "needs_background": "light"
     },
     "output_type": "display_data"
    }
   ],
   "source": [
    "df_sale_count.plot(figsize=(12,8))\n",
    "plt.ylabel('Count of Unit_Sale data point daily')"
   ]
  },
  {
   "cell_type": "markdown",
   "metadata": {},
   "source": [
    "# Question: How to handle missing values????\n",
    "\n",
    "There are reasonable number of missing values for unit sales as can be seen from above plot. In the solution, they filled with 0, however I am not fully convinced whether it is the right way to handle missing data in training set. \n",
    "\n",
    "Based on my limited knowledge of grocery data, I can think of following reason about this issue\n",
    "\n",
    "1. Data is actually not cleaned \n",
    "2. All stores do not have same inventory of items\n",
    "3. New items are being added--this very week argument\n",
    "\n",
    "\n",
    "## Possible Solutions:\n",
    "\n",
    "There can be many solutions and we have to study the data in depth. However, I aim to try below.\n",
    "\n",
    "1. Fill with 0 as proposed\n",
    "2. Drop the row where target sales are 0\n",
    "3. Forward fill with average of last N days\n",
    "4. Forward fill with average of last N-same week days ( As we have seen the sales are different on different week day)\n"
   ]
  },
  {
   "cell_type": "markdown",
   "metadata": {},
   "source": [
    "# Solution # 3\n",
    "\n",
    "Forward fill the missing sales with last 20 days average sales"
   ]
  },
  {
   "cell_type": "code",
   "execution_count": 240,
   "metadata": {},
   "outputs": [],
   "source": [
    "df_target_sales = df_2017_tmp['unit_sales'].T\n",
    "\n",
    "df_target_sales_rolling_mean = df_target_sales.rolling(window=20, min_periods=1).mean()\n",
    "\n",
    "df_target_sales_filled_3 = df_target_sales.add(df_target_sales_rolling_mean[~ df_target_sales.notnull()], fill_value=0)\n",
    "\n",
    "df_target_sales_filled_3.T"
   ]
  },
  {
   "cell_type": "code",
   "execution_count": 256,
   "metadata": {},
   "outputs": [
    {
     "data": {
      "text/plain": [
       "(167515, 227)"
      ]
     },
     "execution_count": 256,
     "metadata": {},
     "output_type": "execute_result"
    }
   ],
   "source": [
    "df_target_sales.T.shape"
   ]
  },
  {
   "cell_type": "code",
   "execution_count": null,
   "metadata": {},
   "outputs": [],
   "source": [
    "df_2017 = df_2017.set_index(\n",
    "    [\"store_nbr\", \"item_nbr\", \"date\"])[[\"unit_sales\"]].unstack(\n",
    "        level=-1).fillna(0)\n",
    "\n",
    "\n",
    "\n",
    "df_2017.columns = df_2017.columns.get_level_values(1)"
   ]
  },
  {
   "cell_type": "code",
   "execution_count": 99,
   "metadata": {},
   "outputs": [
    {
     "data": {
      "text/html": [
       "<div>\n",
       "<style scoped>\n",
       "    .dataframe tbody tr th:only-of-type {\n",
       "        vertical-align: middle;\n",
       "    }\n",
       "\n",
       "    .dataframe tbody tr th {\n",
       "        vertical-align: top;\n",
       "    }\n",
       "\n",
       "    .dataframe thead th {\n",
       "        text-align: right;\n",
       "    }\n",
       "</style>\n",
       "<table border=\"1\" class=\"dataframe\">\n",
       "  <thead>\n",
       "    <tr style=\"text-align: right;\">\n",
       "      <th></th>\n",
       "      <th>city</th>\n",
       "      <th>state</th>\n",
       "      <th>type</th>\n",
       "      <th>cluster</th>\n",
       "    </tr>\n",
       "    <tr>\n",
       "      <th>store_nbr</th>\n",
       "      <th></th>\n",
       "      <th></th>\n",
       "      <th></th>\n",
       "      <th></th>\n",
       "    </tr>\n",
       "  </thead>\n",
       "  <tbody>\n",
       "    <tr>\n",
       "      <td>1</td>\n",
       "      <td>18</td>\n",
       "      <td>12</td>\n",
       "      <td>3</td>\n",
       "      <td>13</td>\n",
       "    </tr>\n",
       "    <tr>\n",
       "      <td>2</td>\n",
       "      <td>18</td>\n",
       "      <td>12</td>\n",
       "      <td>3</td>\n",
       "      <td>13</td>\n",
       "    </tr>\n",
       "    <tr>\n",
       "      <td>3</td>\n",
       "      <td>18</td>\n",
       "      <td>12</td>\n",
       "      <td>3</td>\n",
       "      <td>8</td>\n",
       "    </tr>\n",
       "    <tr>\n",
       "      <td>4</td>\n",
       "      <td>18</td>\n",
       "      <td>12</td>\n",
       "      <td>3</td>\n",
       "      <td>9</td>\n",
       "    </tr>\n",
       "    <tr>\n",
       "      <td>5</td>\n",
       "      <td>21</td>\n",
       "      <td>14</td>\n",
       "      <td>3</td>\n",
       "      <td>4</td>\n",
       "    </tr>\n",
       "  </tbody>\n",
       "</table>\n",
       "</div>"
      ],
      "text/plain": [
       "           city  state  type  cluster\n",
       "store_nbr                            \n",
       "1            18     12     3       13\n",
       "2            18     12     3       13\n",
       "3            18     12     3        8\n",
       "4            18     12     3        9\n",
       "5            21     14     3        4"
      ]
     },
     "execution_count": 99,
     "metadata": {},
     "output_type": "execute_result"
    }
   ],
   "source": [
    "stores.head()"
   ]
  },
  {
   "cell_type": "code",
   "execution_count": 100,
   "metadata": {},
   "outputs": [],
   "source": [
    "items = items.reindex(df_2017.index.get_level_values(1))\n",
    "stores = stores.reindex(df_2017.index.get_level_values(0))"
   ]
  },
  {
   "cell_type": "code",
   "execution_count": 101,
   "metadata": {},
   "outputs": [
    {
     "data": {
      "text/html": [
       "<div>\n",
       "<style scoped>\n",
       "    .dataframe tbody tr th:only-of-type {\n",
       "        vertical-align: middle;\n",
       "    }\n",
       "\n",
       "    .dataframe tbody tr th {\n",
       "        vertical-align: top;\n",
       "    }\n",
       "\n",
       "    .dataframe thead th {\n",
       "        text-align: right;\n",
       "    }\n",
       "</style>\n",
       "<table border=\"1\" class=\"dataframe\">\n",
       "  <thead>\n",
       "    <tr style=\"text-align: right;\">\n",
       "      <th></th>\n",
       "      <th>family</th>\n",
       "      <th>class</th>\n",
       "      <th>perishable</th>\n",
       "    </tr>\n",
       "    <tr>\n",
       "      <th>item_nbr</th>\n",
       "      <th></th>\n",
       "      <th></th>\n",
       "      <th></th>\n",
       "    </tr>\n",
       "  </thead>\n",
       "  <tbody>\n",
       "    <tr>\n",
       "      <td>96995</td>\n",
       "      <td>12</td>\n",
       "      <td>1093</td>\n",
       "      <td>0</td>\n",
       "    </tr>\n",
       "    <tr>\n",
       "      <td>99197</td>\n",
       "      <td>12</td>\n",
       "      <td>1067</td>\n",
       "      <td>0</td>\n",
       "    </tr>\n",
       "    <tr>\n",
       "      <td>103520</td>\n",
       "      <td>12</td>\n",
       "      <td>1028</td>\n",
       "      <td>0</td>\n",
       "    </tr>\n",
       "    <tr>\n",
       "      <td>103665</td>\n",
       "      <td>5</td>\n",
       "      <td>2712</td>\n",
       "      <td>1</td>\n",
       "    </tr>\n",
       "    <tr>\n",
       "      <td>105574</td>\n",
       "      <td>12</td>\n",
       "      <td>1045</td>\n",
       "      <td>0</td>\n",
       "    </tr>\n",
       "  </tbody>\n",
       "</table>\n",
       "</div>"
      ],
      "text/plain": [
       "          family  class  perishable\n",
       "item_nbr                           \n",
       "96995         12   1093           0\n",
       "99197         12   1067           0\n",
       "103520        12   1028           0\n",
       "103665         5   2712           1\n",
       "105574        12   1045           0"
      ]
     },
     "execution_count": 101,
     "metadata": {},
     "output_type": "execute_result"
    }
   ],
   "source": [
    "items.head()"
   ]
  },
  {
   "cell_type": "code",
   "execution_count": 102,
   "metadata": {},
   "outputs": [
    {
     "data": {
      "text/html": [
       "<div>\n",
       "<style scoped>\n",
       "    .dataframe tbody tr th:only-of-type {\n",
       "        vertical-align: middle;\n",
       "    }\n",
       "\n",
       "    .dataframe tbody tr th {\n",
       "        vertical-align: top;\n",
       "    }\n",
       "\n",
       "    .dataframe thead th {\n",
       "        text-align: right;\n",
       "    }\n",
       "</style>\n",
       "<table border=\"1\" class=\"dataframe\">\n",
       "  <thead>\n",
       "    <tr style=\"text-align: right;\">\n",
       "      <th></th>\n",
       "      <th>city</th>\n",
       "      <th>state</th>\n",
       "      <th>type</th>\n",
       "      <th>cluster</th>\n",
       "    </tr>\n",
       "    <tr>\n",
       "      <th>store_nbr</th>\n",
       "      <th></th>\n",
       "      <th></th>\n",
       "      <th></th>\n",
       "      <th></th>\n",
       "    </tr>\n",
       "  </thead>\n",
       "  <tbody>\n",
       "    <tr>\n",
       "      <td>1</td>\n",
       "      <td>18</td>\n",
       "      <td>12</td>\n",
       "      <td>3</td>\n",
       "      <td>13</td>\n",
       "    </tr>\n",
       "    <tr>\n",
       "      <td>1</td>\n",
       "      <td>18</td>\n",
       "      <td>12</td>\n",
       "      <td>3</td>\n",
       "      <td>13</td>\n",
       "    </tr>\n",
       "    <tr>\n",
       "      <td>1</td>\n",
       "      <td>18</td>\n",
       "      <td>12</td>\n",
       "      <td>3</td>\n",
       "      <td>13</td>\n",
       "    </tr>\n",
       "    <tr>\n",
       "      <td>1</td>\n",
       "      <td>18</td>\n",
       "      <td>12</td>\n",
       "      <td>3</td>\n",
       "      <td>13</td>\n",
       "    </tr>\n",
       "    <tr>\n",
       "      <td>1</td>\n",
       "      <td>18</td>\n",
       "      <td>12</td>\n",
       "      <td>3</td>\n",
       "      <td>13</td>\n",
       "    </tr>\n",
       "  </tbody>\n",
       "</table>\n",
       "</div>"
      ],
      "text/plain": [
       "           city  state  type  cluster\n",
       "store_nbr                            \n",
       "1            18     12     3       13\n",
       "1            18     12     3       13\n",
       "1            18     12     3       13\n",
       "1            18     12     3       13\n",
       "1            18     12     3       13"
      ]
     },
     "execution_count": 102,
     "metadata": {},
     "output_type": "execute_result"
    }
   ],
   "source": [
    "stores.head()"
   ]
  },
  {
   "cell_type": "code",
   "execution_count": 103,
   "metadata": {},
   "outputs": [],
   "source": [
    "df_2017_item = df_2017.groupby('item_nbr')[df_2017.columns].sum()\n",
    "promo_2017_item = promo_2017.groupby('item_nbr')[promo_2017.columns].sum()"
   ]
  },
  {
   "cell_type": "code",
   "execution_count": 109,
   "metadata": {},
   "outputs": [
    {
     "data": {
      "text/plain": [
       "<matplotlib.axes._subplots.AxesSubplot at 0x7fc00555fbe0>"
      ]
     },
     "execution_count": 109,
     "metadata": {},
     "output_type": "execute_result"
    },
    {
     "data": {
      "image/png": "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\n",
      "text/plain": [
       "<Figure size 432x288 with 1 Axes>"
      ]
     },
     "metadata": {
      "needs_background": "light"
     },
     "output_type": "display_data"
    }
   ],
   "source": [
    "df_2017_item.sum(axis=0).plot()\n",
    "promo_2017_item.sum(axis=0).plot()"
   ]
  },
  {
   "cell_type": "code",
   "execution_count": 111,
   "metadata": {},
   "outputs": [
    {
     "data": {
      "text/html": [
       "<div>\n",
       "<style scoped>\n",
       "    .dataframe tbody tr th:only-of-type {\n",
       "        vertical-align: middle;\n",
       "    }\n",
       "\n",
       "    .dataframe tbody tr th {\n",
       "        vertical-align: top;\n",
       "    }\n",
       "\n",
       "    .dataframe thead th {\n",
       "        text-align: right;\n",
       "    }\n",
       "</style>\n",
       "<table border=\"1\" class=\"dataframe\">\n",
       "  <thead>\n",
       "    <tr style=\"text-align: right;\">\n",
       "      <th></th>\n",
       "      <th>family</th>\n",
       "      <th>class</th>\n",
       "      <th>perishable</th>\n",
       "    </tr>\n",
       "    <tr>\n",
       "      <th>item_nbr</th>\n",
       "      <th></th>\n",
       "      <th></th>\n",
       "      <th></th>\n",
       "    </tr>\n",
       "  </thead>\n",
       "  <tbody>\n",
       "    <tr>\n",
       "      <td>96995</td>\n",
       "      <td>12</td>\n",
       "      <td>1093</td>\n",
       "      <td>0</td>\n",
       "    </tr>\n",
       "    <tr>\n",
       "      <td>99197</td>\n",
       "      <td>12</td>\n",
       "      <td>1067</td>\n",
       "      <td>0</td>\n",
       "    </tr>\n",
       "    <tr>\n",
       "      <td>103520</td>\n",
       "      <td>12</td>\n",
       "      <td>1028</td>\n",
       "      <td>0</td>\n",
       "    </tr>\n",
       "    <tr>\n",
       "      <td>103665</td>\n",
       "      <td>5</td>\n",
       "      <td>2712</td>\n",
       "      <td>1</td>\n",
       "    </tr>\n",
       "    <tr>\n",
       "      <td>105574</td>\n",
       "      <td>12</td>\n",
       "      <td>1045</td>\n",
       "      <td>0</td>\n",
       "    </tr>\n",
       "  </tbody>\n",
       "</table>\n",
       "</div>"
      ],
      "text/plain": [
       "          family  class  perishable\n",
       "item_nbr                           \n",
       "96995         12   1093           0\n",
       "99197         12   1067           0\n",
       "103520        12   1028           0\n",
       "103665         5   2712           1\n",
       "105574        12   1045           0"
      ]
     },
     "execution_count": 111,
     "metadata": {},
     "output_type": "execute_result"
    }
   ],
   "source": [
    "items.head()"
   ]
  },
  {
   "cell_type": "code",
   "execution_count": 112,
   "metadata": {},
   "outputs": [],
   "source": [
    "df_2017_store_class = df_2017.reset_index()"
   ]
  },
  {
   "cell_type": "code",
   "execution_count": 115,
   "metadata": {},
   "outputs": [
    {
     "data": {
      "text/html": [
       "<div>\n",
       "<style scoped>\n",
       "    .dataframe tbody tr th:only-of-type {\n",
       "        vertical-align: middle;\n",
       "    }\n",
       "\n",
       "    .dataframe tbody tr th {\n",
       "        vertical-align: top;\n",
       "    }\n",
       "\n",
       "    .dataframe thead th {\n",
       "        text-align: right;\n",
       "    }\n",
       "</style>\n",
       "<table border=\"1\" class=\"dataframe\">\n",
       "  <thead>\n",
       "    <tr style=\"text-align: right;\">\n",
       "      <th>date</th>\n",
       "      <th>store_nbr</th>\n",
       "      <th>item_nbr</th>\n",
       "      <th>2017-01-01 00:00:00</th>\n",
       "      <th>2017-01-02 00:00:00</th>\n",
       "      <th>2017-01-03 00:00:00</th>\n",
       "      <th>2017-01-04 00:00:00</th>\n",
       "      <th>2017-01-05 00:00:00</th>\n",
       "      <th>2017-01-06 00:00:00</th>\n",
       "      <th>2017-01-07 00:00:00</th>\n",
       "      <th>2017-01-08 00:00:00</th>\n",
       "      <th>...</th>\n",
       "      <th>2017-08-07 00:00:00</th>\n",
       "      <th>2017-08-08 00:00:00</th>\n",
       "      <th>2017-08-09 00:00:00</th>\n",
       "      <th>2017-08-10 00:00:00</th>\n",
       "      <th>2017-08-11 00:00:00</th>\n",
       "      <th>2017-08-12 00:00:00</th>\n",
       "      <th>2017-08-13 00:00:00</th>\n",
       "      <th>2017-08-14 00:00:00</th>\n",
       "      <th>2017-08-15 00:00:00</th>\n",
       "      <th>class</th>\n",
       "    </tr>\n",
       "  </thead>\n",
       "  <tbody>\n",
       "    <tr>\n",
       "      <td>0</td>\n",
       "      <td>1</td>\n",
       "      <td>96995</td>\n",
       "      <td>0.0</td>\n",
       "      <td>0.000000</td>\n",
       "      <td>0.000000</td>\n",
       "      <td>0.000000</td>\n",
       "      <td>0.000000</td>\n",
       "      <td>0.000000</td>\n",
       "      <td>0.000000</td>\n",
       "      <td>0.000000</td>\n",
       "      <td>...</td>\n",
       "      <td>1.098612</td>\n",
       "      <td>0.000000</td>\n",
       "      <td>0.000000</td>\n",
       "      <td>0.693147</td>\n",
       "      <td>0.000000</td>\n",
       "      <td>0.000000</td>\n",
       "      <td>0.000000</td>\n",
       "      <td>0.000000</td>\n",
       "      <td>0.000000</td>\n",
       "      <td>1093</td>\n",
       "    </tr>\n",
       "    <tr>\n",
       "      <td>1</td>\n",
       "      <td>1</td>\n",
       "      <td>99197</td>\n",
       "      <td>0.0</td>\n",
       "      <td>0.000000</td>\n",
       "      <td>1.386294</td>\n",
       "      <td>0.693147</td>\n",
       "      <td>0.693147</td>\n",
       "      <td>0.693147</td>\n",
       "      <td>1.098612</td>\n",
       "      <td>0.000000</td>\n",
       "      <td>...</td>\n",
       "      <td>1.098612</td>\n",
       "      <td>0.000000</td>\n",
       "      <td>1.098612</td>\n",
       "      <td>0.000000</td>\n",
       "      <td>0.000000</td>\n",
       "      <td>0.000000</td>\n",
       "      <td>0.000000</td>\n",
       "      <td>0.000000</td>\n",
       "      <td>0.000000</td>\n",
       "      <td>1067</td>\n",
       "    </tr>\n",
       "    <tr>\n",
       "      <td>2</td>\n",
       "      <td>1</td>\n",
       "      <td>103520</td>\n",
       "      <td>0.0</td>\n",
       "      <td>0.693147</td>\n",
       "      <td>1.098612</td>\n",
       "      <td>0.000000</td>\n",
       "      <td>1.098612</td>\n",
       "      <td>1.386294</td>\n",
       "      <td>0.693147</td>\n",
       "      <td>0.000000</td>\n",
       "      <td>...</td>\n",
       "      <td>0.000000</td>\n",
       "      <td>1.386294</td>\n",
       "      <td>0.000000</td>\n",
       "      <td>1.386294</td>\n",
       "      <td>0.693147</td>\n",
       "      <td>0.693147</td>\n",
       "      <td>0.693147</td>\n",
       "      <td>0.000000</td>\n",
       "      <td>0.000000</td>\n",
       "      <td>1028</td>\n",
       "    </tr>\n",
       "    <tr>\n",
       "      <td>3</td>\n",
       "      <td>1</td>\n",
       "      <td>103665</td>\n",
       "      <td>0.0</td>\n",
       "      <td>0.000000</td>\n",
       "      <td>0.000000</td>\n",
       "      <td>1.386294</td>\n",
       "      <td>1.098612</td>\n",
       "      <td>1.098612</td>\n",
       "      <td>0.693147</td>\n",
       "      <td>1.098612</td>\n",
       "      <td>...</td>\n",
       "      <td>1.098612</td>\n",
       "      <td>0.000000</td>\n",
       "      <td>2.079442</td>\n",
       "      <td>2.302585</td>\n",
       "      <td>1.098612</td>\n",
       "      <td>0.000000</td>\n",
       "      <td>0.000000</td>\n",
       "      <td>0.693147</td>\n",
       "      <td>0.693147</td>\n",
       "      <td>2712</td>\n",
       "    </tr>\n",
       "    <tr>\n",
       "      <td>4</td>\n",
       "      <td>1</td>\n",
       "      <td>105574</td>\n",
       "      <td>0.0</td>\n",
       "      <td>0.000000</td>\n",
       "      <td>1.791759</td>\n",
       "      <td>2.564949</td>\n",
       "      <td>2.302585</td>\n",
       "      <td>1.945910</td>\n",
       "      <td>1.609438</td>\n",
       "      <td>1.098612</td>\n",
       "      <td>...</td>\n",
       "      <td>1.791759</td>\n",
       "      <td>2.079442</td>\n",
       "      <td>1.945910</td>\n",
       "      <td>2.397895</td>\n",
       "      <td>1.791759</td>\n",
       "      <td>1.791759</td>\n",
       "      <td>0.000000</td>\n",
       "      <td>1.386294</td>\n",
       "      <td>1.609438</td>\n",
       "      <td>1045</td>\n",
       "    </tr>\n",
       "  </tbody>\n",
       "</table>\n",
       "<p>5 rows × 230 columns</p>\n",
       "</div>"
      ],
      "text/plain": [
       "date  store_nbr  item_nbr  2017-01-01 00:00:00  2017-01-02 00:00:00  \\\n",
       "0             1     96995                  0.0             0.000000   \n",
       "1             1     99197                  0.0             0.000000   \n",
       "2             1    103520                  0.0             0.693147   \n",
       "3             1    103665                  0.0             0.000000   \n",
       "4             1    105574                  0.0             0.000000   \n",
       "\n",
       "date  2017-01-03 00:00:00  2017-01-04 00:00:00  2017-01-05 00:00:00  \\\n",
       "0                0.000000             0.000000             0.000000   \n",
       "1                1.386294             0.693147             0.693147   \n",
       "2                1.098612             0.000000             1.098612   \n",
       "3                0.000000             1.386294             1.098612   \n",
       "4                1.791759             2.564949             2.302585   \n",
       "\n",
       "date  2017-01-06 00:00:00  2017-01-07 00:00:00  2017-01-08 00:00:00  ...  \\\n",
       "0                0.000000             0.000000             0.000000  ...   \n",
       "1                0.693147             1.098612             0.000000  ...   \n",
       "2                1.386294             0.693147             0.000000  ...   \n",
       "3                1.098612             0.693147             1.098612  ...   \n",
       "4                1.945910             1.609438             1.098612  ...   \n",
       "\n",
       "date  2017-08-07 00:00:00  2017-08-08 00:00:00  2017-08-09 00:00:00  \\\n",
       "0                1.098612             0.000000             0.000000   \n",
       "1                1.098612             0.000000             1.098612   \n",
       "2                0.000000             1.386294             0.000000   \n",
       "3                1.098612             0.000000             2.079442   \n",
       "4                1.791759             2.079442             1.945910   \n",
       "\n",
       "date  2017-08-10 00:00:00  2017-08-11 00:00:00  2017-08-12 00:00:00  \\\n",
       "0                0.693147             0.000000             0.000000   \n",
       "1                0.000000             0.000000             0.000000   \n",
       "2                1.386294             0.693147             0.693147   \n",
       "3                2.302585             1.098612             0.000000   \n",
       "4                2.397895             1.791759             1.791759   \n",
       "\n",
       "date  2017-08-13 00:00:00  2017-08-14 00:00:00  2017-08-15 00:00:00  class  \n",
       "0                0.000000             0.000000             0.000000   1093  \n",
       "1                0.000000             0.000000             0.000000   1067  \n",
       "2                0.693147             0.000000             0.000000   1028  \n",
       "3                0.000000             0.693147             0.693147   2712  \n",
       "4                0.000000             1.386294             1.609438   1045  \n",
       "\n",
       "[5 rows x 230 columns]"
      ]
     },
     "execution_count": 115,
     "metadata": {},
     "output_type": "execute_result"
    }
   ],
   "source": [
    "df_2017_store_class.head()"
   ]
  },
  {
   "cell_type": "code",
   "execution_count": 114,
   "metadata": {},
   "outputs": [],
   "source": [
    "df_2017_store_class['class'] = items['class'].values"
   ]
  },
  {
   "cell_type": "code",
   "execution_count": 116,
   "metadata": {},
   "outputs": [],
   "source": [
    "\n",
    "df_2017_store_class_index = df_2017_store_class[['class', 'store_nbr']]\n",
    "df_2017_store_class = df_2017_store_class.groupby(['class', 'store_nbr'])[df_2017.columns].sum()"
   ]
  },
  {
   "cell_type": "code",
   "execution_count": 118,
   "metadata": {},
   "outputs": [
    {
     "data": {
      "text/plain": [
       "<matplotlib.axes._subplots.AxesSubplot at 0x7fc002af3eb8>"
      ]
     },
     "execution_count": 118,
     "metadata": {},
     "output_type": "execute_result"
    },
    {
     "data": {
      "image/png": "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\n",
      "text/plain": [
       "<Figure size 432x288 with 1 Axes>"
      ]
     },
     "metadata": {
      "needs_background": "light"
     },
     "output_type": "display_data"
    }
   ],
   "source": [
    "df_2017_store_class.sum(axis=1).plot()"
   ]
  },
  {
   "cell_type": "code",
   "execution_count": 119,
   "metadata": {},
   "outputs": [],
   "source": [
    "df_2017_promo_store_class = promo_2017.reset_index()\n",
    "df_2017_promo_store_class['class'] = items['class'].values\n",
    "df_2017_promo_store_class_index = df_2017_promo_store_class[['class', 'store_nbr']]\n",
    "df_2017_promo_store_class = df_2017_promo_store_class.groupby(['class', 'store_nbr'])[promo_2017.columns].sum()"
   ]
  },
  {
   "cell_type": "code",
   "execution_count": null,
   "metadata": {},
   "outputs": [],
   "source": [
    "def get_timespan(df, dt, minus, periods, freq='D'):\n",
    "    \n",
    "    return df[pd.date_range(dt - timedelta(days=minus), periods=periods, freq=freq)]"
   ]
  },
  {
   "cell_type": "code",
   "execution_count": 125,
   "metadata": {},
   "outputs": [
    {
     "name": "stdout",
     "output_type": "stream",
     "text": [
      "Preparing dataset...\n"
     ]
    }
   ],
   "source": [
    "\n",
    "def prepare_dataset(df, promo_df, t2017, is_train=True, name_prefix=None):\n",
    "    X = {\n",
    "        \"promo_14_2017\": get_timespan(df = promo_df, dt= t2017, minus=14, periods=14, freq='D').sum(axis=1).values,\n",
    "        \"promo_60_2017\": get_timespan(df = promo_df, dt = t2017, minus = 60, periods = 60).sum(axis=1).values,\n",
    "        \"promo_140_2017\": get_timespan(df = promo_df, dt = t2017, minus = 140, periods = 140).sum(axis=1).values,\n",
    "        \"promo_3_2017_aft\": get_timespan(promo_df, t2017 + timedelta(days=16), 15, 3).sum(axis=1).values,\n",
    "        \"promo_7_2017_aft\": get_timespan(promo_df, t2017 + timedelta(days=16), 15, 7).sum(axis=1).values,\n",
    "        \"promo_14_2017_aft\": get_timespan(promo_df, t2017 + timedelta(days=16), 15, 14).sum(axis=1).values,\n",
    "    }\n",
    "\n",
    "    for i in [3, 7, 14, 30, 60, 140]:\n",
    "        tmp1 = get_timespan(df, t2017, i, i)\n",
    "        tmp2 = (get_timespan(promo_df, t2017, i, i) > 0) * 1\n",
    "\n",
    "        X['has_promo_mean_%s' % i] = (tmp1 * tmp2.replace(0, np.nan)).mean(axis=1).values\n",
    "        X['has_promo_mean_%s_decay' % i] = (tmp1 * tmp2.replace(0, np.nan) * np.power(0.9, np.arange(i)[::-1])).sum(axis=1).values\n",
    "\n",
    "        X['no_promo_mean_%s' % i] = (tmp1 * (1 - tmp2).replace(0, np.nan)).mean(axis=1).values\n",
    "        X['no_promo_mean_%s_decay' % i] = (tmp1 * (1 - tmp2).replace(0, np.nan) * np.power(0.9, np.arange(i)[::-1])).sum(axis=1).values\n",
    "\n",
    "    for i in [3, 7, 14, 30, 60, 140]:\n",
    "        tmp = get_timespan(df, t2017, i, i)\n",
    "        X['diff_%s_mean' % i] = tmp.diff(axis=1).mean(axis=1).values\n",
    "        X['mean_%s_decay' % i] = (tmp * np.power(0.9, np.arange(i)[::-1])).sum(axis=1).values\n",
    "        X['mean_%s' % i] = tmp.mean(axis=1).values\n",
    "        X['median_%s' % i] = tmp.median(axis=1).values\n",
    "        X['min_%s' % i] = tmp.min(axis=1).values\n",
    "        X['max_%s' % i] = tmp.max(axis=1).values\n",
    "        X['std_%s' % i] = tmp.std(axis=1).values\n",
    "\n",
    "    for i in [3, 7, 14, 30, 60, 140]:\n",
    "        tmp = get_timespan(df, t2017 + timedelta(days=-7), i, i)\n",
    "        X['diff_%s_mean_2' % i] = tmp.diff(axis=1).mean(axis=1).values\n",
    "        X['mean_%s_decay_2' % i] = (tmp * np.power(0.9, np.arange(i)[::-1])).sum(axis=1).values\n",
    "        X['mean_%s_2' % i] = tmp.mean(axis=1).values\n",
    "        X['median_%s_2' % i] = tmp.median(axis=1).values\n",
    "        X['min_%s_2' % i] = tmp.min(axis=1).values\n",
    "        X['max_%s_2' % i] = tmp.max(axis=1).values\n",
    "        X['std_%s_2' % i] = tmp.std(axis=1).values\n",
    "\n",
    "    for i in [7, 14, 30, 60, 140]:\n",
    "        tmp = get_timespan(df, t2017, i, i)\n",
    "        X['has_sales_days_in_last_%s' % i] = (tmp > 0).sum(axis=1).values\n",
    "        X['last_has_sales_day_in_last_%s' % i] = i - ((tmp > 0) * np.arange(i)).max(axis=1).values\n",
    "        X['first_has_sales_day_in_last_%s' % i] = ((tmp > 0) * np.arange(i, 0, -1)).max(axis=1).values\n",
    "\n",
    "        tmp = get_timespan(promo_df, t2017, i, i)\n",
    "        X['has_promo_days_in_last_%s' % i] = (tmp > 0).sum(axis=1).values\n",
    "        X['last_has_promo_day_in_last_%s' % i] = i - ((tmp > 0) * np.arange(i)).max(axis=1).values\n",
    "        X['first_has_promo_day_in_last_%s' % i] = ((tmp > 0) * np.arange(i, 0, -1)).max(axis=1).values\n",
    "\n",
    "    tmp = get_timespan(promo_df, t2017 + timedelta(days=16), 15, 15)\n",
    "    X['has_promo_days_in_after_15_days'] = (tmp > 0).sum(axis=1).values\n",
    "    X['last_has_promo_day_in_after_15_days'] = i - ((tmp > 0) * np.arange(15)).max(axis=1).values\n",
    "    X['first_has_promo_day_in_after_15_days'] = ((tmp > 0) * np.arange(15, 0, -1)).max(axis=1).values\n",
    "\n",
    "    for i in range(1, 16):\n",
    "        X['day_%s_2017' % i] = get_timespan(df, t2017, i, 1).values.ravel()\n",
    "\n",
    "    for i in range(7):\n",
    "        X['mean_4_dow{}_2017'.format(i)] = get_timespan(df, t2017, 28-i, 4, freq='7D').mean(axis=1).values\n",
    "        X['mean_20_dow{}_2017'.format(i)] = get_timespan(df, t2017, 140-i, 20, freq='7D').mean(axis=1).values\n",
    "\n",
    "    for i in range(-16, 16):\n",
    "        X[\"promo_{}\".format(i)] = promo_df[t2017 + timedelta(days=i)].values.astype(np.uint8)\n",
    "\n",
    "    X = pd.DataFrame(X)\n",
    "\n",
    "    if is_train:\n",
    "        y = df[\n",
    "            pd.date_range(t2017, periods=16)\n",
    "        ].values\n",
    "        return X, y\n",
    "    if name_prefix is not None:\n",
    "        X.columns = ['%s_%s' % (name_prefix, c) for c in X.columns]\n",
    "    return X\n",
    "\n",
    "print(\"Preparing dataset...\")\n",
    "t2017 = date(2017, 6, 14)\n",
    "num_days = 6\n",
    "X_l, y_l = [], []\n",
    "for i in range(num_days):\n",
    "    delta = timedelta(days=7 * i)\n",
    "    X_tmp, y_tmp = prepare_dataset(df_2017, promo_2017, t2017 + delta)\n",
    "\n",
    "    X_tmp2 = prepare_dataset(df_2017_item, promo_2017_item, t2017 + delta, is_train=False, name_prefix='item')\n",
    "    X_tmp2.index = df_2017_item.index\n",
    "    X_tmp2 = X_tmp2.reindex(df_2017.index.get_level_values(1)).reset_index(drop=True)\n",
    "\n",
    "    X_tmp3 = prepare_dataset(df_2017_store_class, df_2017_promo_store_class, t2017 + delta, is_train=False, name_prefix='store_class')\n",
    "    X_tmp3.index = df_2017_store_class.index\n",
    "    X_tmp3 = X_tmp3.reindex(df_2017_store_class_index).reset_index(drop=True)\n",
    "\n",
    "    X_tmp = pd.concat([X_tmp, X_tmp2, X_tmp3, items.reset_index(), stores.reset_index()], axis=1)\n",
    "    X_l.append(X_tmp)\n",
    "    y_l.append(y_tmp)\n",
    "\n",
    "    del X_tmp2\n",
    "    gc.collect()"
   ]
  },
  {
   "cell_type": "code",
   "execution_count": 143,
   "metadata": {},
   "outputs": [
    {
     "data": {
      "text/plain": [
       "45279"
      ]
     },
     "execution_count": 143,
     "metadata": {},
     "output_type": "execute_result"
    }
   ],
   "source": [
    "X_train = pd.concat(X_l, axis=0)\n",
    "y_train = np.concatenate(y_l, axis=0)\n",
    "\n",
    "# del X_l, y_l\n",
    "\n",
    "# Prepare Validation data set\n",
    "val_start_date = date(2017, 7, 26)\n",
    "X_val, y_val = prepare_dataset(df_2017, promo_2017, val_start_date )\n",
    "\n",
    "X_val2 = prepare_dataset(df_2017_item, promo_2017_item, val_start_date, is_train=False, name_prefix='item')\n",
    "X_val2.index = df_2017_item.index\n",
    "X_val2 = X_val2.reindex(df_2017.index.get_level_values(1)).reset_index(drop=True)\n",
    "\n",
    "X_val3 = prepare_dataset(df_2017_store_class, df_2017_promo_store_class, val_start_date, is_train=False, name_prefix='store_class')\n",
    "X_val3.index = df_2017_store_class.index\n",
    "X_val3 = X_val3.reindex(df_2017_store_class_index).reset_index(drop=True)\n",
    "\n",
    "X_val = pd.concat([X_val, X_val2, X_val3, items.reset_index(), stores.reset_index()], axis=1)\n",
    "\n",
    "# Prepare Test data set\n",
    "test_start_date = date(2017, 8, 16)\n",
    "X_test = prepare_dataset(df_2017, promo_2017,test_start_date , is_train=False)\n",
    "\n",
    "X_test2 = prepare_dataset(df_2017_item, promo_2017_item,test_start_date, is_train=False, name_prefix='item')\n",
    "X_test2.index = df_2017_item.index\n",
    "X_test2 = X_test2.reindex(df_2017.index.get_level_values(1)).reset_index(drop=True)\n",
    "\n",
    "X_test3 = prepare_dataset(df_2017_store_class, df_2017_promo_store_class, test_start_date, is_train=False, name_prefix='store_class')\n",
    "X_test3.index = df_2017_store_class.index\n",
    "X_test3 = X_test3.reindex(df_2017_store_class_index).reset_index(drop=True)\n",
    "\n",
    "X_test = pd.concat([X_test, X_test2, X_test3, items.reset_index(), stores.reset_index()], axis=1)\n",
    "\n",
    "# del X_test2, X_val2, df_2017_item, promo_2017_item, df_2017_store_class, df_2017_promo_store_class, df_2017_store_class_index\n",
    "gc.collect()"
   ]
  }
 ],
 "metadata": {
  "kernelspec": {
   "display_name": "Python 3",
   "language": "python",
   "name": "python3"
  },
  "language_info": {
   "codemirror_mode": {
    "name": "ipython",
    "version": 3
   },
   "file_extension": ".py",
   "mimetype": "text/x-python",
   "name": "python",
   "nbconvert_exporter": "python",
   "pygments_lexer": "ipython3",
   "version": "3.7.3"
  },
  "toc": {
   "base_numbering": 1,
   "nav_menu": {},
   "number_sections": true,
   "sideBar": true,
   "skip_h1_title": false,
   "title_cell": "Table of Contents",
   "title_sidebar": "Contents",
   "toc_cell": false,
   "toc_position": {},
   "toc_section_display": true,
   "toc_window_display": false
  }
 },
 "nbformat": 4,
 "nbformat_minor": 2
}
