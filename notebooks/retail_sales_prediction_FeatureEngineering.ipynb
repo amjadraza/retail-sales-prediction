{
 "cells": [
  {
   "cell_type": "code",
   "execution_count": 3,
   "metadata": {},
   "outputs": [
    {
     "name": "stderr",
     "output_type": "stream",
     "text": [
      "UsageError: Line magic function `%%javascript` not found.\n"
     ]
    }
   ],
   "source": [
    "import pandas as pd\n",
    "import plotly.express as px\n",
    "import os\n",
    "import glob\n",
    "\n",
    "%%javascript\n",
    "IPython.OutputArea.auto_scroll_threshold = 9999;"
   ]
  },
  {
   "cell_type": "code",
   "execution_count": 4,
   "metadata": {},
   "outputs": [],
   "source": [
    "# input data directory\n",
    "# I have downlaoded the data from Kaggle Competition and unzip using 7z tool in ubuntu command terminal\n",
    "# TODO: Use the Kaggle API to access the data\n",
    "\n",
    "# data_dir = '/home/ibbu/PycharmProjects/retail_sales_prediction/data/'\n",
    "\n",
    "data_dir = "Location of Data""
   ]
  },
  {
   "cell_type": "code",
   "execution_count": 5,
   "metadata": {},
   "outputs": [],
   "source": [
    "class readDataStore():\n",
    "    \"\"\"\n",
    "    This module is to read the data from data store.\n",
    "    \n",
    "    In our case, our date store is local and is in .csv format\n",
    "    \"\"\"\n",
    "    \n",
    "    def __init__(self, data_dir):\n",
    "        \n",
    "        self.data_dir = data_dir\n",
    "    \n",
    "    def read_stores(self, file_name):\n",
    "        \n",
    "        df = pd.read_csv(self.data_dir + file_name)\n",
    "        \n",
    "        return df\n",
    "    \n",
    "    def read_items(self, file_name):\n",
    "        \n",
    "        df = pd.read_csv(self.data_dir + file_name)\n",
    "        \n",
    "        return df\n",
    "    \n",
    "    def read_transactions(self, file_name):\n",
    "        \n",
    "        df = pd.read_csv(self.data_dir + file_name)\n",
    "        \n",
    "        return df\n",
    "    \n",
    "    def read_oil(self, file_name):\n",
    "        \n",
    "        df = pd.read_csv(self.data_dir + file_name)\n",
    "        \n",
    "        return df\n",
    "    \n",
    "    def read_holidays(self, file_name):\n",
    "        \n",
    "        df = pd.read_csv(self.data_dir + file_name)\n",
    "        \n",
    "        return df\n",
    "    \n",
    "    def read_train(self, file_name):\n",
    "        \n",
    "        df = pd.read_csv(self.data_dir + file_name)\n",
    "        \n",
    "        return df\n",
    "    \n",
    "    def read_test(self, file_name):\n",
    "        \n",
    "        df = pd.read_csv(self.data_dir + file_name)\n",
    "        \n",
    "        return df\n",
    "    \n",
    "    def read_train(self, file_name):\n",
    "        \n",
    "        df = pd.read_csv(self.data_dir + file_name)\n",
    "        \n",
    "        return df\n",
    "    \n",
    "        \n",
    "        \n",
    "\n",
    "readDataStore = readDataStore(data_dir)"
   ]
  },
  {
   "cell_type": "code",
   "execution_count": 7,
   "metadata": {},
   "outputs": [],
   "source": [
    "df_test = readDataStore.read_train('test.csv')"
   ]
  },
  {
   "cell_type": "code",
   "execution_count": 8,
   "metadata": {},
   "outputs": [
    {
     "data": {
      "text/html": [
       "<div>\n",
       "<style scoped>\n",
       "    .dataframe tbody tr th:only-of-type {\n",
       "        vertical-align: middle;\n",
       "    }\n",
       "\n",
       "    .dataframe tbody tr th {\n",
       "        vertical-align: top;\n",
       "    }\n",
       "\n",
       "    .dataframe thead th {\n",
       "        text-align: right;\n",
       "    }\n",
       "</style>\n",
       "<table border=\"1\" class=\"dataframe\">\n",
       "  <thead>\n",
       "    <tr style=\"text-align: right;\">\n",
       "      <th></th>\n",
       "      <th>id</th>\n",
       "      <th>date</th>\n",
       "      <th>store_nbr</th>\n",
       "      <th>item_nbr</th>\n",
       "      <th>onpromotion</th>\n",
       "    </tr>\n",
       "  </thead>\n",
       "  <tbody>\n",
       "    <tr>\n",
       "      <td>0</td>\n",
       "      <td>125497040</td>\n",
       "      <td>2017-08-16</td>\n",
       "      <td>1</td>\n",
       "      <td>96995</td>\n",
       "      <td>False</td>\n",
       "    </tr>\n",
       "    <tr>\n",
       "      <td>1</td>\n",
       "      <td>125497041</td>\n",
       "      <td>2017-08-16</td>\n",
       "      <td>1</td>\n",
       "      <td>99197</td>\n",
       "      <td>False</td>\n",
       "    </tr>\n",
       "    <tr>\n",
       "      <td>2</td>\n",
       "      <td>125497042</td>\n",
       "      <td>2017-08-16</td>\n",
       "      <td>1</td>\n",
       "      <td>103501</td>\n",
       "      <td>False</td>\n",
       "    </tr>\n",
       "    <tr>\n",
       "      <td>3</td>\n",
       "      <td>125497043</td>\n",
       "      <td>2017-08-16</td>\n",
       "      <td>1</td>\n",
       "      <td>103520</td>\n",
       "      <td>False</td>\n",
       "    </tr>\n",
       "    <tr>\n",
       "      <td>4</td>\n",
       "      <td>125497044</td>\n",
       "      <td>2017-08-16</td>\n",
       "      <td>1</td>\n",
       "      <td>103665</td>\n",
       "      <td>False</td>\n",
       "    </tr>\n",
       "  </tbody>\n",
       "</table>\n",
       "</div>"
      ],
      "text/plain": [
       "          id        date  store_nbr  item_nbr  onpromotion\n",
       "0  125497040  2017-08-16          1     96995        False\n",
       "1  125497041  2017-08-16          1     99197        False\n",
       "2  125497042  2017-08-16          1    103501        False\n",
       "3  125497043  2017-08-16          1    103520        False\n",
       "4  125497044  2017-08-16          1    103665        False"
      ]
     },
     "execution_count": 8,
     "metadata": {},
     "output_type": "execute_result"
    }
   ],
   "source": [
    "df_test.head()"
   ]
  },
  {
   "cell_type": "code",
   "execution_count": 11,
   "metadata": {},
   "outputs": [
    {
     "name": "stderr",
     "output_type": "stream",
     "text": [
      "/home/researcher/Raza/pycharm_projects/tmp/retail-sales-prediction/venv/lib/python3.7/site-packages/IPython/core/interactiveshell.py:3249: DtypeWarning:\n",
      "\n",
      "Columns (5) have mixed types. Specify dtype option on import or set low_memory=False.\n",
      "\n"
     ]
    }
   ],
   "source": [
    "df_train = readDataStore.read_train('train.csv')"
   ]
  },
  {
   "cell_type": "code",
   "execution_count": null,
   "metadata": {},
   "outputs": [],
   "source": []
  }
 ],
 "metadata": {
  "kernelspec": {
   "display_name": "Python 3",
   "language": "python",
   "name": "python3"
  },
  "language_info": {
   "codemirror_mode": {
    "name": "ipython",
    "version": 3
   },
   "file_extension": ".py",
   "mimetype": "text/x-python",
   "name": "python",
   "nbconvert_exporter": "python",
   "pygments_lexer": "ipython3",
   "version": "3.7.3"
  },
  "toc": {
   "base_numbering": 1,
   "nav_menu": {},
   "number_sections": true,
   "sideBar": true,
   "skip_h1_title": false,
   "title_cell": "Table of Contents",
   "title_sidebar": "Contents",
   "toc_cell": false,
   "toc_position": {},
   "toc_section_display": true,
   "toc_window_display": false
  }
 },
 "nbformat": 4,
 "nbformat_minor": 2
}
